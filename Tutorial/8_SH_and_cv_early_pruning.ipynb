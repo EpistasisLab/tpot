{
 "cells": [
  {
   "cell_type": "markdown",
   "metadata": {},
   "source": [
    "# Strategies for reducing computational load\n",
    "\n"
   ]
  },
  {
   "cell_type": "markdown",
   "metadata": {},
   "source": [
    "This tutorial covers two strategies for pruning the computational load of TPOT to decrease run time."
   ]
  },
  {
   "attachments": {},
   "cell_type": "markdown",
   "metadata": {},
   "source": [
    "# Successive Halving\n",
    "\n",
    "This idea was first tested with TPOT by Parmentier et al. in [\"TPOT-SH: a Faster Optimization Algorithm to Solve the AutoML Problem on Large Datasets\"](https://www.researchgate.net/profile/Laurent-Parmentier-4/publication/339263193_TPOT-SH_A_Faster_Optimization_Algorithm_to_Solve_the_AutoML_Problem_on_Large_Datasets/links/5e5fd8b8a6fdccbeba1c6a56/TPOT-SH-A-Faster-Optimization-Algorithm-to-Solve-the-AutoML-Problem-on-Large-Datasets.pdf). The algorithm operates in two stages. Initially, it trains early generations using a small data subset and a large population size. Later generations then evaluate a smaller set of promising pipelines on larger, or even full, data portions. This approach rapidly identifies top-performing pipeline configurations through initial rough evaluations, followed by more comprehensive assessments. More information on this strategy in Tutorial 8.\n",
    "\n",
    "In this tutorial, we will cover the following parameters:\n",
    "\n",
    "`population_size`\n",
    "\n",
    "`initial_population_size`\n",
    "\n",
    "`population_scaling`\n",
    "\n",
    "`generations_until_end_population`\n",
    "\n",
    "`budget_range`\n",
    "\n",
    "`generations_until_end_budget`\n",
    "\n",
    "`budget_scaling`\n",
    "\n",
    "`stepwise_steps`\n",
    "\n",
    "Population size is the number of individuals evaluated each generation. Budget refers to the proportion of data to sample. By manipulating these parameters, we can control how quickly the budget increases and how population size changes over time. Most often, this will be used to start the algorithm by evaluating a large number of pipelines on small subsets of the data to quickly narrow now best models, before later getting a better estimate with larger samples on fewer datasets. This can reduce overall computational cost by not spending as much time evaluating poor performing pipelines.\n",
    "\n",
    "`population_size` determines the number of individuals to evalaute each generation. Sometimes we may want to evaluate more or fewer individuals in the earlier generations. The `initial_population_size` parameter specifies the starting size of the population. The population size will gradually move from `initial_population_size` to `population_size` over the course of `generations_until_end_population` generations. `population_scaling` dictates how fast that scaling takes place. The interpolation over `generations_until_end_population` is done stepwise with the number of steps specified by `stepwise_steps`.\n",
    "\n",
    "The same process goes for the budget scaling. \n",
    "\n"
   ]
  },
  {
   "attachments": {},
   "cell_type": "markdown",
   "metadata": {},
   "source": [
    "The following cell illustrates how the population size and budget change over time with the given settings. (Note that tpot happens to converge on this dataset fairly quickly, but we turn off early stop to get the full run. )"
   ]
  },
  {
   "cell_type": "code",
   "execution_count": null,
   "metadata": {},
   "outputs": [],
   "source": [
    "import matplotlib.pyplot as plt\n",
    "import tpot\n",
    "\n",
    "population_size=30\n",
    "initial_population_size=100\n",
    "population_scaling = .5\n",
    "generations_until_end_population = 50\n",
    "\n",
    "budget_range = [.3,1]\n",
    "generations_until_end_budget=50\n",
    "budget_scaling = .5\n",
    "stepwise_steps = 5\n",
    "\n",
    "#Population and budget use stepwise\n",
    "fig, ax1 = plt.subplots()\n",
    "ax2 = ax1.twinx()\n",
    "\n",
    "interpolated_values_population = tpot.utils.beta_interpolation(start=initial_population_size, end=population_size, n=generations_until_end_population, n_steps=stepwise_steps, scale=population_scaling)\n",
    "interpolated_values_budget = tpot.utils.beta_interpolation(start=budget_range[0], end=budget_range[1], n=generations_until_end_budget, n_steps=stepwise_steps, scale=budget_scaling)\n",
    "ax1.step(list(range(len(interpolated_values_population))), interpolated_values_population, label=f\"population size\")\n",
    "ax2.step(list(range(len(interpolated_values_budget))), interpolated_values_budget, label=f\"budget\", color='r')\n",
    "ax1.set_xlabel(\"generation\")\n",
    "ax1.set_ylabel(\"population size\")\n",
    "ax2.set_ylabel(\"bugdet\")\n",
    "\n",
    "ax1.legend(loc='center left', bbox_to_anchor=(1.1, 0.4))\n",
    "ax2.legend(loc='center left', bbox_to_anchor=(1.1, 0.3))\n",
    "plt.show()\n"
   ]
  },
  {
   "cell_type": "code",
   "execution_count": null,
   "metadata": {},
   "outputs": [],
   "source": [
    "# A Graph pipeline starting with at least one selector as a leaf, potentially followed by a series\n",
    "# of stacking classifiers or transformers, and ending with a classifier. The graph will have at most 15 nodes and a max depth of 6.\n",
    "\n",
    "import tpot\n",
    "import sklearn\n",
    "import sklearn.datasets\n",
    "import numpy as np\n",
    "import time\n",
    "import tpot\n",
    "import pandas as pd\n",
    "import numpy as np\n",
    "from sklearn.linear_model import LogisticRegression\n",
    "import sklearn\n",
    "\n",
    "X, y = sklearn.datasets.load_breast_cancer(return_X_y=True)\n",
    "X_train, X_test, y_train, y_test = sklearn.model_selection.train_test_split(X, y, random_state=1)\n",
    "scorer = sklearn.metrics.make_scorer(sklearn.metrics.roc_auc_score, needs_proba=True, multi_class='ovr')\n",
    "\n",
    "\n",
    "est = tpot.TPOTEstimator(\n",
    "    generations=50,\n",
    "    max_time_mins=None,\n",
    "    scorers=['roc_auc_ovr'],\n",
    "    scorers_weights=[1],\n",
    "    classification=True,\n",
    "    search_space = 'linear',\n",
    "    n_jobs=32,\n",
    "    cv=10,\n",
    "    verbose=3,\n",
    "\n",
    "    population_size=population_size,\n",
    "    initial_population_size=initial_population_size,\n",
    "    population_scaling = population_scaling,\n",
    "    generations_until_end_population = generations_until_end_population,\n",
    "    \n",
    "    budget_range = budget_range,\n",
    "    generations_until_end_budget=generations_until_end_budget,\n",
    "    )\n",
    "\n",
    "\n",
    "\n",
    "start = time.time()\n",
    "est.fit(X_train, y_train)\n",
    "print(f\"total time: {time.time()-start}\")\n",
    "\n",
    "print(\"test score: \", scorer(est, X_test, y_test))"
   ]
  },
  {
   "attachments": {},
   "cell_type": "markdown",
   "metadata": {},
   "source": [
    "## CV early pruning\n",
    "\n",
    "Most often, we will be evaluating pipelines using cross validation. However, we can often tell within the first few folds whether or not the pipeline is going have a reasonable change of outperforming the previous best pipelines. For example, if the best score so far is .92 AUROC and the average score of the first five folds of our current pipeline is only around .61, we can be reasonably confident that the next five folds are unlikely to this pipeline ahead of the others. We can save a significant amount of compute by not computing the rest of the folds. There are two strategies that TPOT can use to accomplish this (More information on these strategies in Tutorial 8).\n",
    "   1. Threshold Pruning: Pipelines must achieve a score above a predefined percentile threshold (based on previous pipeline scores) to proceed in each cross-validation (CV) fold.\n",
    "   2. Selection Pruning: Within each population, only the top N% of pipelines (ranked by performance in the previous CV fold) are selected to evaluate in the next fold.\"\n",
    "\n",
    "\n",
    "We can further reduce computational load by terminating the evaluation of individual pipelines early if the first few CV scores are not promising. Note that this is different than early stopping of the full algorithm. In this section we will cover:\n",
    "\n",
    "`threshold_evaluation_pruning`\n",
    "\n",
    "`threshold_evaluation_scaling`\n",
    "\n",
    "`min_history_threshold`\n",
    "\n",
    "`selection_evaluation_pruning`\n",
    "\n",
    "`selection_evaluation_scaling`\n",
    "\n",
    "Threshold early stopping uses previous scores to identify and terminate the cross validation evaluation of poorly performing pipelines. We calculate the percentile scores from the previously evaluated pipelines. A pipeline must reach the given percentile each fold for the next to be evaluated, otherwise the pipeline is discarded.\n",
    "\n",
    "The `threshold_evaluation_pruning` parameter is a list that specifies the starting and ending percentiles to use as a threshold for the evaluation early stopping. W The `threshold_evaluation_scaling` parameter is a float that controls the rate at which the threshold moves from the start to end percentile. The `min_history_threshold` parameter specifies the minimum number of previous scores needed before using threshold early stopping. This ensures that the algorithm has enough historical data to make an informed decision about when to stop evaluating pipelines.\n",
    "\n",
    "Selection early stopping uses a selection algorithm after each fold to select which algorithms will be evaluated for the next fold. For example, after evaluating 100 individuals on fold 1, we may want to only evaluate the best 50 for the remaining folds.\n",
    "\n",
    "The `selection_evaluation_pruning` parameter is a list that specifies the lower and upper percentage of the population size to select each round of CV. This is used to determine which individuals to evaluate in the next generation. The `selection_evaluation_scaling` parameter is a float that controls the rate at which the selection threshold moves from the start to end percentile.\n",
    "\n",
    "By manipulating these parameters, we can control how the algorithm selects individuals to evaluate in the next generation and when to stop evaluating pipelines that are not performing well.\n",
    "\n",
    "In practice, the values of these parameters will depend on the specific problem and the available computational resources. \n",
    "\n",
    "In the following sections, we will show you how to set and manipulate these parameters using Python code in a Jupyter Notebook. We will also provide examples of how these parameters can affect the performance of the algorithm.\n",
    "\n",
    "(Note that in these small test cases, you may not notice much or any performance improvements, these are more likely to be more beneficial in real world scenarios with larger datasets and slower evaluating pipelines.)\n",
    "\n",
    "**Considerations:**\n",
    "It is important to be aware of how CV pruning interacts with the evolutionary algorithm. When pipelines are pruned with one of these methods, they are removed from the live population and thus are no longer used to inform the TPOT algorithm. If too many pipelines are pruned, this could reduce the diversity of pipelines per generation, and limit TPOT's ability to learn. Additionally, the pruning methods may interact with how long it takes TPOT to run. If the pruning algorithm removes the slightly less performant but faster running pipelines, TPOT will most likely fill the next generation with only slower running pipelines, thus technically increasing the total runtime. This may be acceptable since more compute is dedicated to the higher performing pipelines."
   ]
  },
  {
   "cell_type": "code",
   "execution_count": 1,
   "metadata": {},
   "outputs": [
    {
     "data": {
      "image/png": "[encoded data removed]",
      "text/plain": [
       "<Figure size 640x480 with 1 Axes>"
      ]
     },
     "metadata": {},
     "output_type": "display_data"
    }
   ],
   "source": [
    "import matplotlib.pyplot as plt\n",
    "import tpot\n",
    "import time\n",
    "import sklearn\n",
    "import sklearn.datasets\n",
    "\n",
    "threshold_evaluation_pruning = [30, 90]\n",
    "threshold_evaluation_scaling = .2 #.5\n",
    "cv = 10\n",
    "\n",
    "#Population and budget use stepwise\n",
    "fig, ax1 = plt.subplots()\n",
    "\n",
    "interpolated_values = tpot.utils.beta_interpolation(start=threshold_evaluation_pruning[0], end=threshold_evaluation_pruning[-1], n=cv, n_steps=cv, scale=threshold_evaluation_scaling)\n",
    "ax1.step(list(range(len(interpolated_values))), interpolated_values, label=f\"threshold\")\n",
    "ax1.set_xlabel(\"fold\")\n",
    "ax1.set_ylabel(\"percentile\")\n",
    "#ax1.legend(loc='center left', bbox_to_anchor=(1.1, 0.4))\n",
    "plt.show()\n"
   ]
  },
  {
   "cell_type": "code",
   "execution_count": 2,
   "metadata": {},
   "outputs": [],
   "source": [
    "import tpot\n",
    "from tpot.search_spaces.pipelines import *\n",
    "from tpot.search_spaces.nodes import *\n",
    "from tpot.config.get_configspace import get_search_space\n",
    "import sklearn.model_selection\n",
    "import sklearn\n",
    "\n",
    "\n",
    "selectors = get_search_space([\"selectors\",\"selectors_classification\", \"Passthrough\"], random_state=42,)\n",
    "estimators = get_search_space(['XGBClassifier'],random_state=42,)\n",
    "\n",
    "scalers = get_search_space([\"scalers\",\"Passthrough\"],random_state=42,)\n",
    "\n",
    "transformers_layer =UnionPipeline([\n",
    "                        ChoicePipeline([\n",
    "                            DynamicUnionPipeline(get_search_space([\"transformers\"], random_state=42,)),\n",
    "                            get_search_space(\"SkipTransformer\"),\n",
    "                        ]),\n",
    "                        get_search_space(\"Passthrough\")\n",
    "                        ]\n",
    "                    )\n",
    "    \n",
    "search_space = SequentialPipeline(search_spaces=[\n",
    "                                            scalers,\n",
    "                                            selectors, \n",
    "                                            transformers_layer,\n",
    "                                            estimators,\n",
    "                                            ])"
   ]
  },
  {
   "cell_type": "code",
   "execution_count": 3,
   "metadata": {},
   "outputs": [
    {
     "name": "stderr",
     "output_type": "stream",
     "text": [
      "/home/ribeirop/common/miniconda3/envs/tpotenv/lib/python3.10/site-packages/sklearn/metrics/_scorer.py:548: FutureWarning: The `needs_threshold` and `needs_proba` parameter are deprecated in version 1.4 and will be removed in 1.6. You can either let `response_method` be `None` or set it to `predict` to preserve the same behaviour.\n",
      "  warnings.warn(\n"
     ]
    }
   ],
   "source": [
    "import matplotlib.pyplot as plt\n",
    "import tpot\n",
    "import time\n",
    "import sklearn\n",
    "import sklearn.datasets\n",
    "\n",
    "scorer = sklearn.metrics.make_scorer(sklearn.metrics.roc_auc_score, needs_proba=True, multi_class='ovr')\n",
    "\n",
    "X, y = sklearn.datasets.make_classification(n_samples=5000, n_features=20, n_classes=5, random_state=1, n_informative=15, n_redundant=5, n_repeated=0, n_clusters_per_class=3, class_sep=.8)\n",
    "X_train, X_test, y_train, y_test = sklearn.model_selection.train_test_split(X, y, random_state=1)\n",
    "\n",
    "# search_space = tpot.config.template_search_spaces.get_template_search_spaces(\"linear\",inner_predictors=False, random_state=42)\n"
   ]
  },
  {
   "cell_type": "code",
   "execution_count": 4,
   "metadata": {},
   "outputs": [
    {
     "name": "stderr",
     "output_type": "stream",
     "text": [
      "Generation:  10%|█         | 1/10 [03:02<27:26, 182.98s/it]"
     ]
    },
    {
     "name": "stdout",
     "output_type": "stream",
     "text": [
      "Generation:  1\n",
      "Best roc_auc_score score: 0.915278983783422\n"
     ]
    },
    {
     "name": "stderr",
     "output_type": "stream",
     "text": [
      "Generation:  20%|██        | 2/10 [06:11<24:51, 186.47s/it]"
     ]
    },
    {
     "name": "stdout",
     "output_type": "stream",
     "text": [
      "Generation:  2\n",
      "Best roc_auc_score score: 0.9253965903409787\n"
     ]
    },
    {
     "name": "stderr",
     "output_type": "stream",
     "text": [
      "Generation:  30%|███       | 3/10 [10:33<25:46, 220.92s/it]"
     ]
    },
    {
     "name": "stdout",
     "output_type": "stream",
     "text": [
      "Generation:  3\n",
      "Best roc_auc_score score: 0.9340480147661712\n"
     ]
    },
    {
     "name": "stderr",
     "output_type": "stream",
     "text": [
      "Generation:  40%|████      | 4/10 [15:07<24:10, 241.71s/it]"
     ]
    },
    {
     "name": "stdout",
     "output_type": "stream",
     "text": [
      "Generation:  4\n",
      "Best roc_auc_score score: 0.9340480147661712\n"
     ]
    },
    {
     "name": "stderr",
     "output_type": "stream",
     "text": [
      "Generation:  50%|█████     | 5/10 [21:46<24:52, 298.58s/it]"
     ]
    },
    {
     "name": "stdout",
     "output_type": "stream",
     "text": [
      "Generation:  5\n",
      "Best roc_auc_score score: 0.9340480147661712\n"
     ]
    },
    {
     "name": "stderr",
     "output_type": "stream",
     "text": [
      "Generation:  60%|██████    | 6/10 [25:45<18:32, 278.19s/it]"
     ]
    },
    {
     "name": "stdout",
     "output_type": "stream",
     "text": [
      "Generation:  6\n",
      "Best roc_auc_score score: 0.9340480147661712\n"
     ]
    },
    {
     "name": "stderr",
     "output_type": "stream",
     "text": [
      "Generation:  70%|███████   | 7/10 [29:00<12:32, 250.97s/it]"
     ]
    },
    {
     "name": "stdout",
     "output_type": "stream",
     "text": [
      "Generation:  7\n",
      "Best roc_auc_score score: 0.9340480147661712\n"
     ]
    },
    {
     "name": "stderr",
     "output_type": "stream",
     "text": [
      "Generation:  80%|████████  | 8/10 [34:14<09:02, 271.09s/it]"
     ]
    },
    {
     "name": "stdout",
     "output_type": "stream",
     "text": [
      "Generation:  8\n",
      "Best roc_auc_score score: 0.9349103682633716\n"
     ]
    },
    {
     "name": "stderr",
     "output_type": "stream",
     "text": [
      "Generation:  90%|█████████ | 9/10 [37:44<04:12, 252.09s/it]"
     ]
    },
    {
     "name": "stdout",
     "output_type": "stream",
     "text": [
      "Generation:  9\n",
      "Best roc_auc_score score: 0.9372520424560744\n"
     ]
    },
    {
     "name": "stderr",
     "output_type": "stream",
     "text": [
      "Generation: 100%|██████████| 10/10 [43:09<00:00, 258.96s/it]"
     ]
    },
    {
     "name": "stdout",
     "output_type": "stream",
     "text": [
      "Generation:  10\n",
      "Best roc_auc_score score: 0.9398288783489072\n"
     ]
    },
    {
     "name": "stderr",
     "output_type": "stream",
     "text": [
      "\n"
     ]
    },
    {
     "name": "stdout",
     "output_type": "stream",
     "text": [
      "total time: 2602.0502972602844\n",
      "test score:  0.9426160568071598\n"
     ]
    }
   ],
   "source": [
    "# no pruning\n",
    "est = tpot.TPOTEstimator(  \n",
    "                            generations=10,\n",
    "                            max_time_mins=None,\n",
    "                            scorers=['roc_auc_ovr'],\n",
    "                            scorers_weights=[1],\n",
    "                            classification=True,\n",
    "                            search_space = search_space,\n",
    "                            population_size=100,\n",
    "                            n_jobs=32,\n",
    "                            cv=cv,\n",
    "                            verbose=3,\n",
    "                            random_state=42,\n",
    "                            )\n",
    "\n",
    "\n",
    "start = time.time()\n",
    "est.fit(X_train, y_train)\n",
    "print(f\"total time: {time.time()-start}\")\n",
    "print(\"test score: \", scorer(est, X_test, y_test))"
   ]
  },
  {
   "cell_type": "code",
   "execution_count": 5,
   "metadata": {},
   "outputs": [
    {
     "name": "stderr",
     "output_type": "stream",
     "text": [
      "Generation:  10%|█         | 1/10 [03:37<32:37, 217.51s/it]"
     ]
    },
    {
     "name": "stdout",
     "output_type": "stream",
     "text": [
      "Generation:  1\n",
      "Best roc_auc_score score: 0.915278983783422\n"
     ]
    },
    {
     "name": "stderr",
     "output_type": "stream",
     "text": [
      "Generation:  20%|██        | 2/10 [05:38<21:26, 160.86s/it]"
     ]
    },
    {
     "name": "stdout",
     "output_type": "stream",
     "text": [
      "Generation:  2\n",
      "Best roc_auc_score score: 0.915278983783422\n"
     ]
    },
    {
     "name": "stderr",
     "output_type": "stream",
     "text": [
      "Generation:  30%|███       | 3/10 [08:28<19:14, 164.99s/it]"
     ]
    },
    {
     "name": "stdout",
     "output_type": "stream",
     "text": [
      "Generation:  3\n",
      "Best roc_auc_score score: 0.9212056169353746\n"
     ]
    },
    {
     "name": "stderr",
     "output_type": "stream",
     "text": [
      "Generation:  40%|████      | 4/10 [10:14<14:09, 141.53s/it]"
     ]
    },
    {
     "name": "stdout",
     "output_type": "stream",
     "text": [
      "Generation:  4\n",
      "Best roc_auc_score score: 0.9212056169353746\n"
     ]
    },
    {
     "name": "stderr",
     "output_type": "stream",
     "text": [
      "Generation:  50%|█████     | 5/10 [13:23<13:13, 158.71s/it]"
     ]
    },
    {
     "name": "stdout",
     "output_type": "stream",
     "text": [
      "Generation:  5\n",
      "Best roc_auc_score score: 0.9212056169353746\n"
     ]
    },
    {
     "name": "stderr",
     "output_type": "stream",
     "text": [
      "Generation:  60%|██████    | 6/10 [16:59<11:52, 178.22s/it]"
     ]
    },
    {
     "name": "stdout",
     "output_type": "stream",
     "text": [
      "Generation:  6\n",
      "Best roc_auc_score score: 0.9212056169353746\n"
     ]
    },
    {
     "name": "stderr",
     "output_type": "stream",
     "text": [
      "Generation:  70%|███████   | 7/10 [19:54<08:51, 177.14s/it]"
     ]
    },
    {
     "name": "stdout",
     "output_type": "stream",
     "text": [
      "Generation:  7\n",
      "Best roc_auc_score score: 0.9212056169353746\n"
     ]
    },
    {
     "name": "stderr",
     "output_type": "stream",
     "text": [
      "Generation:  80%|████████  | 8/10 [23:15<06:09, 184.68s/it]"
     ]
    },
    {
     "name": "stdout",
     "output_type": "stream",
     "text": [
      "Generation:  8\n",
      "Best roc_auc_score score: 0.9277731650225494\n"
     ]
    },
    {
     "name": "stderr",
     "output_type": "stream",
     "text": [
      "Generation:  90%|█████████ | 9/10 [26:06<03:00, 180.55s/it]"
     ]
    },
    {
     "name": "stdout",
     "output_type": "stream",
     "text": [
      "Generation:  9\n",
      "Best roc_auc_score score: 0.930278306286007\n"
     ]
    },
    {
     "name": "stderr",
     "output_type": "stream",
     "text": [
      "Generation: 100%|██████████| 10/10 [28:29<00:00, 170.96s/it]"
     ]
    },
    {
     "name": "stdout",
     "output_type": "stream",
     "text": [
      "Generation:  10\n",
      "Best roc_auc_score score: 0.9336783524637781\n"
     ]
    },
    {
     "name": "stderr",
     "output_type": "stream",
     "text": [
      "\n",
      "/home/ribeirop/common/miniconda3/envs/tpotnv/lib/python3.10/site-packages/sklearn/decomposition/_fastica.py:595: UserWarning: n_components is too large: it will be set to 16\n",
      "  warnings.warn(\n",
      "/home/ribeirop/common/miniconda3/envs/tpotnv/lib/python3.10/site-packages/sklearn/decomposition/_fastica.py:128: ConvergenceWarning: FastICA did not converge. Consider increasing tolerance or the maximum number of iterations.\n",
      "  warnings.warn(\n"
     ]
    },
    {
     "name": "stdout",
     "output_type": "stream",
     "text": [
      "total time: 1717.3964531421661\n",
      "test score:  0.9449535389019192\n"
     ]
    }
   ],
   "source": [
    "import tpot.config\n",
    "import tpot.config.template_search_spaces\n",
    "import tpot.search_spaces\n",
    "\n",
    "\n",
    "\n",
    "# search_space = tpot.config.get_search_space([\"RandomForestClassifier\"])\n",
    "\n",
    "est = tpot.TPOTEstimator(  \n",
    "                            generations=10,\n",
    "                            max_time_mins=None,\n",
    "                            scorers=['roc_auc_ovr'],\n",
    "                            scorers_weights=[1],\n",
    "                            classification=True,\n",
    "                            search_space = search_space,\n",
    "                            population_size=100,\n",
    "                            n_jobs=32,\n",
    "                            cv=cv,\n",
    "                            verbose=3,\n",
    "                            random_state=42,\n",
    "\n",
    "                            threshold_evaluation_pruning = threshold_evaluation_pruning,\n",
    "                            threshold_evaluation_scaling = threshold_evaluation_scaling,\n",
    "                            )\n",
    "\n",
    "\n",
    "start = time.time()\n",
    "est.fit(X_train, y_train)\n",
    "print(f\"total time: {time.time()-start}\")\n",
    "print(\"test score: \", scorer(est, X_test, y_test))"
   ]
  },
  {
   "cell_type": "code",
   "execution_count": 6,
   "metadata": {},
   "outputs": [
    {
     "data": {
      "image/png": "[encoded data removed]",
      "text/plain": [
       "<Figure size 640x480 with 1 Axes>"
      ]
     },
     "metadata": {},
     "output_type": "display_data"
    }
   ],
   "source": [
    "import matplotlib.pyplot as plt\n",
    "import tpot\n",
    "\n",
    "selection_evaluation_pruning = [.9, .3]\n",
    "selection_evaluation_scaling = .2\n",
    "\n",
    "#Population and budget use stepwise\n",
    "fig, ax1 = plt.subplots()\n",
    "\n",
    "interpolated_values = tpot.utils.beta_interpolation(start=selection_evaluation_pruning[0], end=selection_evaluation_pruning[-1], n=cv, n_steps=cv, scale=selection_evaluation_scaling)\n",
    "ax1.step(list(range(len(interpolated_values))), interpolated_values, label=f\"threshold\")\n",
    "ax1.set_xlabel(\"fold\")\n",
    "ax1.set_ylabel(\"percent to select\")\n",
    "#ax1.legend(loc='center left', bbox_to_anchor=(1.1, 0.4))\n",
    "plt.show()\n"
   ]
  },
  {
   "cell_type": "code",
   "execution_count": 7,
   "metadata": {},
   "outputs": [
    {
     "name": "stderr",
     "output_type": "stream",
     "text": [
      "Generation:  10%|█         | 1/10 [03:28<31:13, 208.18s/it]"
     ]
    },
    {
     "name": "stdout",
     "output_type": "stream",
     "text": [
      "Generation:  1\n",
      "Best roc_auc_score score: 0.915278983783422\n"
     ]
    },
    {
     "name": "stderr",
     "output_type": "stream",
     "text": [
      "Generation:  20%|██        | 2/10 [05:29<20:54, 156.85s/it]"
     ]
    },
    {
     "name": "stdout",
     "output_type": "stream",
     "text": [
      "Generation:  2\n",
      "Best roc_auc_score score: 0.9169454884359916\n"
     ]
    },
    {
     "name": "stderr",
     "output_type": "stream",
     "text": [
      "Generation:  30%|███       | 3/10 [08:32<19:42, 168.98s/it]"
     ]
    },
    {
     "name": "stdout",
     "output_type": "stream",
     "text": [
      "Generation:  3\n",
      "Best roc_auc_score score: 0.9176524001433647\n"
     ]
    },
    {
     "name": "stderr",
     "output_type": "stream",
     "text": [
      "Generation:  40%|████      | 4/10 [11:08<16:22, 163.77s/it]"
     ]
    },
    {
     "name": "stdout",
     "output_type": "stream",
     "text": [
      "Generation:  4\n",
      "Best roc_auc_score score: 0.9176524001433647\n"
     ]
    },
    {
     "name": "stderr",
     "output_type": "stream",
     "text": [
      "Generation:  50%|█████     | 5/10 [15:05<15:51, 190.38s/it]"
     ]
    },
    {
     "name": "stdout",
     "output_type": "stream",
     "text": [
      "Generation:  5\n",
      "Best roc_auc_score score: 0.9176524001433647\n"
     ]
    },
    {
     "name": "stderr",
     "output_type": "stream",
     "text": [
      "Generation:  60%|██████    | 6/10 [18:02<12:23, 185.84s/it]"
     ]
    },
    {
     "name": "stdout",
     "output_type": "stream",
     "text": [
      "Generation:  6\n",
      "Best roc_auc_score score: 0.9206270411396777\n"
     ]
    },
    {
     "name": "stderr",
     "output_type": "stream",
     "text": [
      "Generation:  70%|███████   | 7/10 [21:12<09:20, 186.94s/it]"
     ]
    },
    {
     "name": "stdout",
     "output_type": "stream",
     "text": [
      "Generation:  7\n",
      "Best roc_auc_score score: 0.9224227652034017\n"
     ]
    },
    {
     "name": "stderr",
     "output_type": "stream",
     "text": [
      "Generation:  80%|████████  | 8/10 [23:53<05:57, 178.80s/it]"
     ]
    },
    {
     "name": "stdout",
     "output_type": "stream",
     "text": [
      "Generation:  8\n",
      "Best roc_auc_score score: 0.9224227652034017\n"
     ]
    },
    {
     "name": "stderr",
     "output_type": "stream",
     "text": [
      "Generation:  90%|█████████ | 9/10 [26:37<02:54, 174.24s/it]"
     ]
    },
    {
     "name": "stdout",
     "output_type": "stream",
     "text": [
      "Generation:  9\n",
      "Best roc_auc_score score: 0.9224227652034017\n"
     ]
    },
    {
     "name": "stderr",
     "output_type": "stream",
     "text": [
      "Generation: 100%|██████████| 10/10 [29:21<00:00, 176.14s/it]"
     ]
    },
    {
     "name": "stdout",
     "output_type": "stream",
     "text": [
      "Generation:  10\n",
      "Best roc_auc_score score: 0.9224227652034017\n"
     ]
    },
    {
     "name": "stderr",
     "output_type": "stream",
     "text": [
      "\n",
      "/home/ribeirop/common/miniconda3/envs/tpotnv/lib/python3.10/site-packages/sklearn/decomposition/_fastica.py:595: UserWarning: n_components is too large: it will be set to 20\n",
      "  warnings.warn(\n"
     ]
    },
    {
     "name": "stdout",
     "output_type": "stream",
     "text": [
      "total time: 1777.245548248291\n",
      "test score:  0.9253163988063096\n"
     ]
    }
   ],
   "source": [
    "est = tpot.TPOTEstimator(  \n",
    "                            generations=10,\n",
    "                            max_time_mins=None,\n",
    "                            scorers=['roc_auc_ovr'],\n",
    "                            scorers_weights=[1],\n",
    "                            classification=True,\n",
    "                            search_space = search_space,\n",
    "                            population_size=100,\n",
    "                            n_jobs=32,\n",
    "                            cv=cv,\n",
    "                            verbose=3,\n",
    "                            random_state=42,\n",
    "\n",
    "                            selection_evaluation_pruning  = selection_evaluation_pruning,\n",
    "                            selection_evaluation_scaling = selection_evaluation_scaling,\n",
    "                            )\n",
    "\n",
    "\n",
    "start = time.time()\n",
    "est.fit(X_train, y_train)\n",
    "print(f\"total time: {time.time()-start}\")\n",
    "print(\"test score: \", scorer(est, X_test, y_test))"
   ]
  },
  {
   "cell_type": "code",
   "execution_count": 8,
   "metadata": {},
   "outputs": [
    {
     "data": {
      "text/html": [
       "<div>\n",
       "<style scoped>\n",
       "    .dataframe tbody tr th:only-of-type {\n",
       "        vertical-align: middle;\n",
       "    }\n",
       "\n",
       "    .dataframe tbody tr th {\n",
       "        vertical-align: top;\n",
       "    }\n",
       "\n",
       "    .dataframe thead th {\n",
       "        text-align: right;\n",
       "    }\n",
       "</style>\n",
       "<table border=\"1\" class=\"dataframe\">\n",
       "  <thead>\n",
       "    <tr style=\"text-align: right;\">\n",
       "      <th></th>\n",
       "      <th>roc_auc_score</th>\n",
       "      <th>Parents</th>\n",
       "      <th>Variation_Function</th>\n",
       "      <th>Individual</th>\n",
       "      <th>Generation</th>\n",
       "      <th>roc_auc_score_step_0</th>\n",
       "      <th>Submitted Timestamp</th>\n",
       "      <th>Completed Timestamp</th>\n",
       "      <th>Eval Error</th>\n",
       "      <th>roc_auc_score_step_1</th>\n",
       "      <th>roc_auc_score_step_2</th>\n",
       "      <th>roc_auc_score_step_3</th>\n",
       "      <th>roc_auc_score_step_4</th>\n",
       "      <th>roc_auc_score_step_5</th>\n",
       "      <th>roc_auc_score_step_6</th>\n",
       "      <th>roc_auc_score_step_7</th>\n",
       "      <th>roc_auc_score_step_8</th>\n",
       "      <th>roc_auc_score_step_9</th>\n",
       "      <th>Pareto_Front</th>\n",
       "      <th>Instance</th>\n",
       "    </tr>\n",
       "  </thead>\n",
       "  <tbody>\n",
       "    <tr>\n",
       "      <th>1</th>\n",
       "      <td>0.848068</td>\n",
       "      <td>NaN</td>\n",
       "      <td>NaN</td>\n",
       "      <td>&lt;tpot.search_spaces.pipelines.sequential.Sequ...</td>\n",
       "      <td>0.0</td>\n",
       "      <td>0.846478</td>\n",
       "      <td>1.727821e+09</td>\n",
       "      <td>1.727821e+09</td>\n",
       "      <td>None</td>\n",
       "      <td>0.839894</td>\n",
       "      <td>0.844619</td>\n",
       "      <td>0.848321</td>\n",
       "      <td>0.846915</td>\n",
       "      <td>0.857902</td>\n",
       "      <td>0.855875</td>\n",
       "      <td>0.827655</td>\n",
       "      <td>0.850938</td>\n",
       "      <td>0.862081</td>\n",
       "      <td>NaN</td>\n",
       "      <td>(Passthrough(), RFE(estimator=ExtraTreesClassi...</td>\n",
       "    </tr>\n",
       "    <tr>\n",
       "      <th>4</th>\n",
       "      <td>0.831502</td>\n",
       "      <td>NaN</td>\n",
       "      <td>NaN</td>\n",
       "      <td>&lt;tpot.search_spaces.pipelines.sequential.Sequ...</td>\n",
       "      <td>0.0</td>\n",
       "      <td>0.817219</td>\n",
       "      <td>1.727822e+09</td>\n",
       "      <td>1.727822e+09</td>\n",
       "      <td>None</td>\n",
       "      <td>0.827888</td>\n",
       "      <td>0.821911</td>\n",
       "      <td>0.825558</td>\n",
       "      <td>0.830020</td>\n",
       "      <td>0.831529</td>\n",
       "      <td>0.836955</td>\n",
       "      <td>0.844634</td>\n",
       "      <td>0.832499</td>\n",
       "      <td>0.846805</td>\n",
       "      <td>NaN</td>\n",
       "      <td>(StandardScaler(), VarianceThreshold(threshold...</td>\n",
       "    </tr>\n",
       "    <tr>\n",
       "      <th>5</th>\n",
       "      <td>0.830374</td>\n",
       "      <td>NaN</td>\n",
       "      <td>NaN</td>\n",
       "      <td>&lt;tpot.search_spaces.pipelines.sequential.Sequ...</td>\n",
       "      <td>0.0</td>\n",
       "      <td>0.817150</td>\n",
       "      <td>1.727822e+09</td>\n",
       "      <td>1.727822e+09</td>\n",
       "      <td>None</td>\n",
       "      <td>0.831885</td>\n",
       "      <td>0.820694</td>\n",
       "      <td>0.824899</td>\n",
       "      <td>0.824409</td>\n",
       "      <td>0.827861</td>\n",
       "      <td>0.833923</td>\n",
       "      <td>0.844308</td>\n",
       "      <td>0.832798</td>\n",
       "      <td>0.845818</td>\n",
       "      <td>NaN</td>\n",
       "      <td>(MinMaxScaler(), SelectFromModel(estimator=Ext...</td>\n",
       "    </tr>\n",
       "    <tr>\n",
       "      <th>6</th>\n",
       "      <td>0.850091</td>\n",
       "      <td>NaN</td>\n",
       "      <td>NaN</td>\n",
       "      <td>&lt;tpot.search_spaces.pipelines.sequential.Sequ...</td>\n",
       "      <td>0.0</td>\n",
       "      <td>0.843524</td>\n",
       "      <td>1.727821e+09</td>\n",
       "      <td>1.727821e+09</td>\n",
       "      <td>None</td>\n",
       "      <td>0.841176</td>\n",
       "      <td>0.840619</td>\n",
       "      <td>0.846209</td>\n",
       "      <td>0.849561</td>\n",
       "      <td>0.854367</td>\n",
       "      <td>0.858035</td>\n",
       "      <td>0.860165</td>\n",
       "      <td>0.845179</td>\n",
       "      <td>0.862077</td>\n",
       "      <td>NaN</td>\n",
       "      <td>(Normalizer(norm='max'), SelectFwe(alpha=0.000...</td>\n",
       "    </tr>\n",
       "    <tr>\n",
       "      <th>9</th>\n",
       "      <td>0.855569</td>\n",
       "      <td>NaN</td>\n",
       "      <td>NaN</td>\n",
       "      <td>&lt;tpot.search_spaces.pipelines.sequential.Sequ...</td>\n",
       "      <td>0.0</td>\n",
       "      <td>0.847828</td>\n",
       "      <td>1.727821e+09</td>\n",
       "      <td>1.727821e+09</td>\n",
       "      <td>None</td>\n",
       "      <td>0.846977</td>\n",
       "      <td>0.849937</td>\n",
       "      <td>0.853201</td>\n",
       "      <td>0.857401</td>\n",
       "      <td>0.859119</td>\n",
       "      <td>0.857783</td>\n",
       "      <td>0.863300</td>\n",
       "      <td>0.851526</td>\n",
       "      <td>0.868619</td>\n",
       "      <td>NaN</td>\n",
       "      <td>(Normalizer(norm='l1'), Passthrough(), Feature...</td>\n",
       "    </tr>\n",
       "    <tr>\n",
       "      <th>...</th>\n",
       "      <td>...</td>\n",
       "      <td>...</td>\n",
       "      <td>...</td>\n",
       "      <td>...</td>\n",
       "      <td>...</td>\n",
       "      <td>...</td>\n",
       "      <td>...</td>\n",
       "      <td>...</td>\n",
       "      <td>...</td>\n",
       "      <td>...</td>\n",
       "      <td>...</td>\n",
       "      <td>...</td>\n",
       "      <td>...</td>\n",
       "      <td>...</td>\n",
       "      <td>...</td>\n",
       "      <td>...</td>\n",
       "      <td>...</td>\n",
       "      <td>...</td>\n",
       "      <td>...</td>\n",
       "      <td>...</td>\n",
       "    </tr>\n",
       "    <tr>\n",
       "      <th>990</th>\n",
       "      <td>0.821990</td>\n",
       "      <td>(742, 742)</td>\n",
       "      <td>ind_mutate</td>\n",
       "      <td>&lt;tpot.search_spaces.pipelines.sequential.Sequ...</td>\n",
       "      <td>9.0</td>\n",
       "      <td>0.813408</td>\n",
       "      <td>1.727823e+09</td>\n",
       "      <td>1.727823e+09</td>\n",
       "      <td>None</td>\n",
       "      <td>0.815070</td>\n",
       "      <td>0.830230</td>\n",
       "      <td>0.823377</td>\n",
       "      <td>0.823119</td>\n",
       "      <td>0.831668</td>\n",
       "      <td>0.827358</td>\n",
       "      <td>0.817293</td>\n",
       "      <td>0.814207</td>\n",
       "      <td>0.824168</td>\n",
       "      <td>NaN</td>\n",
       "      <td>(MinMaxScaler(), SelectPercentile(percentile=5...</td>\n",
       "    </tr>\n",
       "    <tr>\n",
       "      <th>991</th>\n",
       "      <td>0.899339</td>\n",
       "      <td>(100, 100)</td>\n",
       "      <td>ind_mutate</td>\n",
       "      <td>&lt;tpot.search_spaces.pipelines.sequential.Sequ...</td>\n",
       "      <td>9.0</td>\n",
       "      <td>0.893247</td>\n",
       "      <td>1.727823e+09</td>\n",
       "      <td>1.727823e+09</td>\n",
       "      <td>None</td>\n",
       "      <td>0.903268</td>\n",
       "      <td>0.894318</td>\n",
       "      <td>0.890992</td>\n",
       "      <td>0.902956</td>\n",
       "      <td>0.902985</td>\n",
       "      <td>0.898020</td>\n",
       "      <td>0.904124</td>\n",
       "      <td>0.898141</td>\n",
       "      <td>0.905341</td>\n",
       "      <td>NaN</td>\n",
       "      <td>(Normalizer(norm='l1'), SelectFwe(alpha=0.0034...</td>\n",
       "    </tr>\n",
       "    <tr>\n",
       "      <th>992</th>\n",
       "      <td>0.870868</td>\n",
       "      <td>(179, 14)</td>\n",
       "      <td>ind_crossover</td>\n",
       "      <td>&lt;tpot.search_spaces.pipelines.sequential.Sequ...</td>\n",
       "      <td>9.0</td>\n",
       "      <td>0.871226</td>\n",
       "      <td>1.727823e+09</td>\n",
       "      <td>1.727823e+09</td>\n",
       "      <td>None</td>\n",
       "      <td>0.854742</td>\n",
       "      <td>0.865197</td>\n",
       "      <td>0.872427</td>\n",
       "      <td>0.869312</td>\n",
       "      <td>0.880744</td>\n",
       "      <td>0.872265</td>\n",
       "      <td>0.877524</td>\n",
       "      <td>0.866365</td>\n",
       "      <td>0.878881</td>\n",
       "      <td>NaN</td>\n",
       "      <td>(Normalizer(norm='l1'), SelectFromModel(estima...</td>\n",
       "    </tr>\n",
       "    <tr>\n",
       "      <th>994</th>\n",
       "      <td>0.815212</td>\n",
       "      <td>(362, 362)</td>\n",
       "      <td>ind_mutate</td>\n",
       "      <td>&lt;tpot.search_spaces.pipelines.sequential.Sequ...</td>\n",
       "      <td>9.0</td>\n",
       "      <td>0.830802</td>\n",
       "      <td>1.727823e+09</td>\n",
       "      <td>1.727823e+09</td>\n",
       "      <td>None</td>\n",
       "      <td>0.807573</td>\n",
       "      <td>0.817124</td>\n",
       "      <td>0.800161</td>\n",
       "      <td>0.819611</td>\n",
       "      <td>0.818811</td>\n",
       "      <td>0.833061</td>\n",
       "      <td>0.803679</td>\n",
       "      <td>0.794094</td>\n",
       "      <td>0.827200</td>\n",
       "      <td>NaN</td>\n",
       "      <td>(Normalizer(norm='l1'), SelectPercentile(perce...</td>\n",
       "    </tr>\n",
       "    <tr>\n",
       "      <th>995</th>\n",
       "      <td>0.865588</td>\n",
       "      <td>(670, 670)</td>\n",
       "      <td>ind_mutate</td>\n",
       "      <td>&lt;tpot.search_spaces.pipelines.sequential.Sequ...</td>\n",
       "      <td>9.0</td>\n",
       "      <td>0.867900</td>\n",
       "      <td>1.727823e+09</td>\n",
       "      <td>1.727823e+09</td>\n",
       "      <td>None</td>\n",
       "      <td>0.870824</td>\n",
       "      <td>0.876060</td>\n",
       "      <td>0.871468</td>\n",
       "      <td>0.853827</td>\n",
       "      <td>0.864080</td>\n",
       "      <td>0.867749</td>\n",
       "      <td>0.853553</td>\n",
       "      <td>0.849620</td>\n",
       "      <td>0.880796</td>\n",
       "      <td>NaN</td>\n",
       "      <td>(Normalizer(), SelectPercentile(percentile=71....</td>\n",
       "    </tr>\n",
       "  </tbody>\n",
       "</table>\n",
       "<p>324 rows × 20 columns</p>\n",
       "</div>"
      ],
      "text/plain": [
       "     roc_auc_score     Parents Variation_Function  \\\n",
       "1         0.848068         NaN                NaN   \n",
       "4         0.831502         NaN                NaN   \n",
       "5         0.830374         NaN                NaN   \n",
       "6         0.850091         NaN                NaN   \n",
       "9         0.855569         NaN                NaN   \n",
       "..             ...         ...                ...   \n",
       "990       0.821990  (742, 742)         ind_mutate   \n",
       "991       0.899339  (100, 100)         ind_mutate   \n",
       "992       0.870868   (179, 14)      ind_crossover   \n",
       "994       0.815212  (362, 362)         ind_mutate   \n",
       "995       0.865588  (670, 670)         ind_mutate   \n",
       "\n",
       "                                            Individual  Generation  \\\n",
       "1    <tpot.search_spaces.pipelines.sequential.Sequ...         0.0   \n",
       "4    <tpot.search_spaces.pipelines.sequential.Sequ...         0.0   \n",
       "5    <tpot.search_spaces.pipelines.sequential.Sequ...         0.0   \n",
       "6    <tpot.search_spaces.pipelines.sequential.Sequ...         0.0   \n",
       "9    <tpot.search_spaces.pipelines.sequential.Sequ...         0.0   \n",
       "..                                                 ...         ...   \n",
       "990  <tpot.search_spaces.pipelines.sequential.Sequ...         9.0   \n",
       "991  <tpot.search_spaces.pipelines.sequential.Sequ...         9.0   \n",
       "992  <tpot.search_spaces.pipelines.sequential.Sequ...         9.0   \n",
       "994  <tpot.search_spaces.pipelines.sequential.Sequ...         9.0   \n",
       "995  <tpot.search_spaces.pipelines.sequential.Sequ...         9.0   \n",
       "\n",
       "     roc_auc_score_step_0  Submitted Timestamp  Completed Timestamp  \\\n",
       "1                0.846478         1.727821e+09         1.727821e+09   \n",
       "4                0.817219         1.727822e+09         1.727822e+09   \n",
       "5                0.817150         1.727822e+09         1.727822e+09   \n",
       "6                0.843524         1.727821e+09         1.727821e+09   \n",
       "9                0.847828         1.727821e+09         1.727821e+09   \n",
       "..                    ...                  ...                  ...   \n",
       "990              0.813408         1.727823e+09         1.727823e+09   \n",
       "991              0.893247         1.727823e+09         1.727823e+09   \n",
       "992              0.871226         1.727823e+09         1.727823e+09   \n",
       "994              0.830802         1.727823e+09         1.727823e+09   \n",
       "995              0.867900         1.727823e+09         1.727823e+09   \n",
       "\n",
       "    Eval Error  roc_auc_score_step_1  roc_auc_score_step_2  \\\n",
       "1         None              0.839894              0.844619   \n",
       "4         None              0.827888              0.821911   \n",
       "5         None              0.831885              0.820694   \n",
       "6         None              0.841176              0.840619   \n",
       "9         None              0.846977              0.849937   \n",
       "..         ...                   ...                   ...   \n",
       "990       None              0.815070              0.830230   \n",
       "991       None              0.903268              0.894318   \n",
       "992       None              0.854742              0.865197   \n",
       "994       None              0.807573              0.817124   \n",
       "995       None              0.870824              0.876060   \n",
       "\n",
       "     roc_auc_score_step_3  roc_auc_score_step_4  roc_auc_score_step_5  \\\n",
       "1                0.848321              0.846915              0.857902   \n",
       "4                0.825558              0.830020              0.831529   \n",
       "5                0.824899              0.824409              0.827861   \n",
       "6                0.846209              0.849561              0.854367   \n",
       "9                0.853201              0.857401              0.859119   \n",
       "..                    ...                   ...                   ...   \n",
       "990              0.823377              0.823119              0.831668   \n",
       "991              0.890992              0.902956              0.902985   \n",
       "992              0.872427              0.869312              0.880744   \n",
       "994              0.800161              0.819611              0.818811   \n",
       "995              0.871468              0.853827              0.864080   \n",
       "\n",
       "     roc_auc_score_step_6  roc_auc_score_step_7  roc_auc_score_step_8  \\\n",
       "1                0.855875              0.827655              0.850938   \n",
       "4                0.836955              0.844634              0.832499   \n",
       "5                0.833923              0.844308              0.832798   \n",
       "6                0.858035              0.860165              0.845179   \n",
       "9                0.857783              0.863300              0.851526   \n",
       "..                    ...                   ...                   ...   \n",
       "990              0.827358              0.817293              0.814207   \n",
       "991              0.898020              0.904124              0.898141   \n",
       "992              0.872265              0.877524              0.866365   \n",
       "994              0.833061              0.803679              0.794094   \n",
       "995              0.867749              0.853553              0.849620   \n",
       "\n",
       "     roc_auc_score_step_9  Pareto_Front  \\\n",
       "1                0.862081           NaN   \n",
       "4                0.846805           NaN   \n",
       "5                0.845818           NaN   \n",
       "6                0.862077           NaN   \n",
       "9                0.868619           NaN   \n",
       "..                    ...           ...   \n",
       "990              0.824168           NaN   \n",
       "991              0.905341           NaN   \n",
       "992              0.878881           NaN   \n",
       "994              0.827200           NaN   \n",
       "995              0.880796           NaN   \n",
       "\n",
       "                                              Instance  \n",
       "1    (Passthrough(), RFE(estimator=ExtraTreesClassi...  \n",
       "4    (StandardScaler(), VarianceThreshold(threshold...  \n",
       "5    (MinMaxScaler(), SelectFromModel(estimator=Ext...  \n",
       "6    (Normalizer(norm='max'), SelectFwe(alpha=0.000...  \n",
       "9    (Normalizer(norm='l1'), Passthrough(), Feature...  \n",
       "..                                                 ...  \n",
       "990  (MinMaxScaler(), SelectPercentile(percentile=5...  \n",
       "991  (Normalizer(norm='l1'), SelectFwe(alpha=0.0034...  \n",
       "992  (Normalizer(norm='l1'), SelectFromModel(estima...  \n",
       "994  (Normalizer(norm='l1'), SelectPercentile(perce...  \n",
       "995  (Normalizer(), SelectPercentile(percentile=71....  \n",
       "\n",
       "[324 rows x 20 columns]"
      ]
     },
     "execution_count": 8,
     "metadata": {},
     "output_type": "execute_result"
    }
   ],
   "source": [
    "est.evaluated_individuals[est.evaluated_individuals['roc_auc_score_step_9']>0]"
   ]
  },
  {
   "attachments": {},
   "cell_type": "markdown",
   "metadata": {},
   "source": [
    "All of the above methods can be used independently or simultaneously as done below:"
   ]
  },
  {
   "cell_type": "code",
   "execution_count": null,
   "metadata": {},
   "outputs": [],
   "source": [
    "est = tpot.TPOTEstimator(  \n",
    "                            generations=10,\n",
    "                            max_time_mins=None,\n",
    "                            scorers=['roc_auc_ovr'],\n",
    "                            scorers_weights=[1],\n",
    "                            classification=True,\n",
    "                            search_space = search_space,\n",
    "                            population_size=30,\n",
    "                            n_jobs=3,\n",
    "                            cv=cv,\n",
    "                            verbose=3,\n",
    "\n",
    "                            population_size=population_size,\n",
    "                            initial_population_size=initial_population_size,\n",
    "                            population_scaling = population_scaling,\n",
    "                            generations_until_end_population = generations_until_end_population,\n",
    "                            \n",
    "                            budget_range = budget_range,\n",
    "                            generations_until_end_budget=generations_until_end_budget,\n",
    "                            \n",
    "                            threshold_evaluation_pruning = threshold_evaluation_pruning,\n",
    "                            threshold_evaluation_scaling = threshold_evaluation_scaling,\n",
    "\n",
    "                            selection_evaluation_pruning  = selection_evaluation_pruning,\n",
    "                            selection_evaluation_scaling = selection_evaluation_scaling,\n",
    "                            )\n",
    "\n",
    "\n",
    "start = time.time()\n",
    "est.fit(X_train, y_train)\n",
    "print(f\"total time: {time.time()-start}\")\n",
    "print(\"test score: \", scorer(est, X_test, y_test))"
   ]
  }
 ],
 "metadata": {
  "kernelspec": {
   "display_name": "tpot_dev",
   "language": "python",
   "name": "python3"
  },
  "language_info": {
   "codemirror_mode": {
    "name": "ipython",
    "version": 3
   },
   "file_extension": ".py",
   "mimetype": "text/x-python",
   "name": "python",
   "nbconvert_exporter": "python",
   "pygments_lexer": "ipython3",
   "version": "3.10.14"
  },
  "orig_nbformat": 4,
  "vscode": {
   "interpreter": {
    "hash": "7fe1fe9ef32cd5efd76326a08046147513534f0dd2318301a1a96ae9071c1c4e"
   }
  }
 },
 "nbformat": 4,
 "nbformat_minor": 2
}
