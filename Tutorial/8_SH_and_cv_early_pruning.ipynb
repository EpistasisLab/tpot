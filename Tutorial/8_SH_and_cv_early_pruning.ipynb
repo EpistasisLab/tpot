{
 "cells": [
  {
   "cell_type": "markdown",
   "metadata": {},
   "source": [
    "# Strategies for reducing computational load\n",
    "\n"
   ]
  },
  {
   "cell_type": "markdown",
   "metadata": {},
   "source": [
    "This tutorial covers two strategies for pruning the computational load of TPOT to decrease run time."
   ]
  },
  {
   "attachments": {},
   "cell_type": "markdown",
   "metadata": {},
   "source": [
    "# Successive Halving\n",
    "\n",
    "This idea was first tested with TPOT by Parmentier et al. in [\"TPOT-SH: a Faster Optimization Algorithm to Solve the AutoML Problem on Large Datasets\"](https://www.researchgate.net/profile/Laurent-Parmentier-4/publication/339263193_TPOT-SH_A_Faster_Optimization_Algorithm_to_Solve_the_AutoML_Problem_on_Large_Datasets/links/5e5fd8b8a6fdccbeba1c6a56/TPOT-SH-A-Faster-Optimization-Algorithm-to-Solve-the-AutoML-Problem-on-Large-Datasets.pdf). The algorithm operates in two stages. Initially, it trains early generations using a small data subset and a large population size. Later generations then evaluate a smaller set of promising pipelines on larger, or even full, data portions. This approach rapidly identifies top-performing pipeline configurations through initial rough evaluations, followed by more comprehensive assessments. More information on this strategy in Tutorial 8.\n",
    "\n",
    "In this tutorial, we will cover the following parameters:\n",
    "\n",
    "`population_size`\n",
    "\n",
    "`initial_population_size`\n",
    "\n",
    "`population_scaling`\n",
    "\n",
    "`generations_until_end_population`\n",
    "\n",
    "`budget_range`\n",
    "\n",
    "`generations_until_end_budget`\n",
    "\n",
    "`budget_scaling`\n",
    "\n",
    "`stepwise_steps`\n",
    "\n",
    "Population size is the number of individuals evaluated each generation. Budget refers to the proportion of data to sample. By manipulating these parameters, we can control how quickly the budget increases and how population size changes over time. Most often, this will be used to start the algorithm by evaluating a large number of pipelines on small subsets of the data to quickly narrow now best models, before later getting a better estimate with larger samples on fewer datasets. This can reduce overall computational cost by not spending as much time evaluating poor performing pipelines.\n",
    "\n",
    "`population_size` determines the number of individuals to evalaute each generation. Sometimes we may want to evaluate more or fewer individuals in the earlier generations. The `initial_population_size` parameter specifies the starting size of the population. The population size will gradually move from `initial_population_size` to `population_size` over the course of `generations_until_end_population` generations. `population_scaling` dictates how fast that scaling takes place. The interpolation over `generations_until_end_population` is done stepwise with the number of steps specified by `stepwise_steps`.\n",
    "\n",
    "The same process goes for the budget scaling. \n",
    "\n"
   ]
  },
  {
   "attachments": {},
   "cell_type": "markdown",
   "metadata": {},
   "source": [
    "The following cell illustrates how the population size and budget change over time with the given settings. (Note that tpot happens to converge on this dataset fairly quickly, but we turn off early stop to get the full run. )"
   ]
  },
  {
   "cell_type": "code",
   "execution_count": 1,
   "metadata": {},
   "outputs": [
    {
     "name": "stderr",
     "output_type": "stream",
     "text": [
      "/opt/anaconda3/envs/tpotenv/lib/python3.10/site-packages/tqdm/auto.py:21: TqdmWarning: IProgress not found. Please update jupyter and ipywidgets. See https://ipywidgets.readthedocs.io/en/stable/user_install.html\n",
      "  from .autonotebook import tqdm as notebook_tqdm\n"
     ]
    },
    {
     "data": {
      "image/png": "[encoded data removed]",
      "text/plain": [
       "<Figure size 640x480 with 2 Axes>"
      ]
     },
     "metadata": {},
     "output_type": "display_data"
    }
   ],
   "source": [
    "import matplotlib.pyplot as plt\n",
    "import tpot\n",
    "\n",
    "population_size=30\n",
    "initial_population_size=100\n",
    "population_scaling = .5\n",
    "generations_until_end_population = 50\n",
    "\n",
    "budget_range = [.3,1]\n",
    "generations_until_end_budget=50\n",
    "budget_scaling = .5\n",
    "stepwise_steps = 5\n",
    "\n",
    "#Population and budget use stepwise\n",
    "fig, ax1 = plt.subplots()\n",
    "ax2 = ax1.twinx()\n",
    "\n",
    "interpolated_values_population = tpot.utils.beta_interpolation(start=initial_population_size, end=population_size, n=generations_until_end_population, n_steps=stepwise_steps, scale=population_scaling)\n",
    "interpolated_values_budget = tpot.utils.beta_interpolation(start=budget_range[0], end=budget_range[1], n=generations_until_end_budget, n_steps=stepwise_steps, scale=budget_scaling)\n",
    "ax1.step(list(range(len(interpolated_values_population))), interpolated_values_population, label=f\"population size\")\n",
    "ax2.step(list(range(len(interpolated_values_budget))), interpolated_values_budget, label=f\"budget\", color='r')\n",
    "ax1.set_xlabel(\"generation\")\n",
    "ax1.set_ylabel(\"population size\")\n",
    "ax2.set_ylabel(\"bugdet\")\n",
    "\n",
    "ax1.legend(loc='center left', bbox_to_anchor=(1.1, 0.4))\n",
    "ax2.legend(loc='center left', bbox_to_anchor=(1.1, 0.3))\n",
    "plt.show()\n"
   ]
  },
  {
   "cell_type": "code",
   "execution_count": 2,
   "metadata": {},
   "outputs": [
    {
     "name": "stderr",
     "output_type": "stream",
     "text": [
      "/opt/anaconda3/envs/tpotenv/lib/python3.10/site-packages/sklearn/metrics/_scorer.py:610: FutureWarning: The `needs_threshold` and `needs_proba` parameter are deprecated in version 1.4 and will be removed in 1.6. You can either let `response_method` be `None` or set it to `predict` to preserve the same behaviour.\n",
      "  warnings.warn(\n",
      "Generation:   2%|▏         | 1/50 [00:20<16:51, 20.64s/it]"
     ]
    },
    {
     "name": "stdout",
     "output_type": "stream",
     "text": [
      "Generation:  1\n",
      "Best roc_auc_score score: 1.0\n"
     ]
    },
    {
     "name": "stderr",
     "output_type": "stream",
     "text": [
      "Generation:   4%|▍         | 2/50 [00:45<18:39, 23.32s/it]"
     ]
    },
    {
     "name": "stdout",
     "output_type": "stream",
     "text": [
      "Generation:  2\n",
      "Best roc_auc_score score: 1.0\n"
     ]
    },
    {
     "name": "stderr",
     "output_type": "stream",
     "text": [
      "Generation:   6%|▌         | 3/50 [01:19<22:03, 28.17s/it]"
     ]
    },
    {
     "name": "stdout",
     "output_type": "stream",
     "text": [
      "Generation:  3\n",
      "Best roc_auc_score score: 1.0\n"
     ]
    },
    {
     "name": "stderr",
     "output_type": "stream",
     "text": [
      "Generation:   8%|▊         | 4/50 [01:57<24:30, 31.97s/it]"
     ]
    },
    {
     "name": "stdout",
     "output_type": "stream",
     "text": [
      "Generation:  4\n",
      "Best roc_auc_score score: 1.0\n"
     ]
    },
    {
     "name": "stderr",
     "output_type": "stream",
     "text": [
      "Generation:  10%|█         | 5/50 [02:24<22:44, 30.32s/it]"
     ]
    },
    {
     "name": "stdout",
     "output_type": "stream",
     "text": [
      "Generation:  5\n",
      "Best roc_auc_score score: 1.0\n"
     ]
    },
    {
     "name": "stderr",
     "output_type": "stream",
     "text": [
      "Generation:  12%|█▏        | 6/50 [03:09<25:40, 35.02s/it]"
     ]
    },
    {
     "name": "stdout",
     "output_type": "stream",
     "text": [
      "Generation:  6\n",
      "Best roc_auc_score score: 1.0\n"
     ]
    },
    {
     "name": "stderr",
     "output_type": "stream",
     "text": [
      "Generation:  14%|█▍        | 7/50 [03:50<26:29, 36.96s/it]"
     ]
    },
    {
     "name": "stdout",
     "output_type": "stream",
     "text": [
      "Generation:  7\n",
      "Best roc_auc_score score: 1.0\n"
     ]
    },
    {
     "name": "stderr",
     "output_type": "stream",
     "text": [
      "Generation:  16%|█▌        | 8/50 [04:27<26:04, 37.26s/it]"
     ]
    },
    {
     "name": "stdout",
     "output_type": "stream",
     "text": [
      "Generation:  8\n",
      "Best roc_auc_score score: 1.0\n"
     ]
    },
    {
     "name": "stderr",
     "output_type": "stream",
     "text": [
      "Generation:  18%|█▊        | 9/50 [05:20<28:45, 42.08s/it]"
     ]
    },
    {
     "name": "stdout",
     "output_type": "stream",
     "text": [
      "Generation:  9\n",
      "Best roc_auc_score score: 1.0\n"
     ]
    },
    {
     "name": "stderr",
     "output_type": "stream",
     "text": [
      "Generation:  20%|██        | 10/50 [06:03<28:09, 42.25s/it]"
     ]
    },
    {
     "name": "stdout",
     "output_type": "stream",
     "text": [
      "Generation:  10\n",
      "Best roc_auc_score score: 1.0\n"
     ]
    },
    {
     "name": "stderr",
     "output_type": "stream",
     "text": [
      "Generation:  22%|██▏       | 11/50 [07:16<33:43, 51.88s/it]"
     ]
    },
    {
     "name": "stdout",
     "output_type": "stream",
     "text": [
      "Generation:  11\n",
      "Best roc_auc_score score: 1.0\n"
     ]
    },
    {
     "name": "stderr",
     "output_type": "stream",
     "text": [
      "Generation:  24%|██▍       | 12/50 [08:04<31:55, 50.42s/it]"
     ]
    },
    {
     "name": "stdout",
     "output_type": "stream",
     "text": [
      "Generation:  12\n",
      "Best roc_auc_score score: 1.0\n"
     ]
    },
    {
     "name": "stderr",
     "output_type": "stream",
     "text": [
      "Generation:  26%|██▌       | 13/50 [09:13<34:35, 56.10s/it]"
     ]
    },
    {
     "name": "stdout",
     "output_type": "stream",
     "text": [
      "Generation:  13\n",
      "Best roc_auc_score score: 1.0\n"
     ]
    },
    {
     "name": "stderr",
     "output_type": "stream",
     "text": [
      "Generation:  28%|██▊       | 14/50 [10:15<34:49, 58.04s/it]"
     ]
    },
    {
     "name": "stdout",
     "output_type": "stream",
     "text": [
      "Generation:  14\n",
      "Best roc_auc_score score: 1.0\n"
     ]
    },
    {
     "name": "stderr",
     "output_type": "stream",
     "text": [
      "Generation:  30%|███       | 15/50 [11:36<37:49, 64.85s/it]"
     ]
    },
    {
     "name": "stdout",
     "output_type": "stream",
     "text": [
      "Generation:  15\n",
      "Best roc_auc_score score: 1.0\n"
     ]
    },
    {
     "name": "stderr",
     "output_type": "stream",
     "text": [
      "Generation:  32%|███▏      | 16/50 [12:59<39:47, 70.21s/it]"
     ]
    },
    {
     "name": "stdout",
     "output_type": "stream",
     "text": [
      "Generation:  16\n",
      "Best roc_auc_score score: 1.0\n"
     ]
    },
    {
     "name": "stderr",
     "output_type": "stream",
     "text": [
      "Generation:  34%|███▍      | 17/50 [14:05<37:58, 69.05s/it]"
     ]
    },
    {
     "name": "stdout",
     "output_type": "stream",
     "text": [
      "Generation:  17\n",
      "Best roc_auc_score score: 1.0\n"
     ]
    },
    {
     "name": "stderr",
     "output_type": "stream",
     "text": [
      "Generation:  36%|███▌      | 18/50 [15:23<38:13, 71.66s/it]"
     ]
    },
    {
     "name": "stdout",
     "output_type": "stream",
     "text": [
      "Generation:  18\n",
      "Best roc_auc_score score: 1.0\n"
     ]
    },
    {
     "name": "stderr",
     "output_type": "stream",
     "text": [
      "Generation:  38%|███▊      | 19/50 [17:03<41:30, 80.33s/it]"
     ]
    },
    {
     "name": "stdout",
     "output_type": "stream",
     "text": [
      "Generation:  19\n",
      "Best roc_auc_score score: 1.0\n"
     ]
    },
    {
     "name": "stderr",
     "output_type": "stream",
     "text": [
      "Generation:  40%|████      | 20/50 [18:32<41:28, 82.96s/it]"
     ]
    },
    {
     "name": "stdout",
     "output_type": "stream",
     "text": [
      "Generation:  20\n",
      "Best roc_auc_score score: 1.0\n"
     ]
    },
    {
     "name": "stderr",
     "output_type": "stream",
     "text": [
      "Generation:  42%|████▏     | 21/50 [22:13<1:00:02, 124.23s/it]"
     ]
    },
    {
     "name": "stdout",
     "output_type": "stream",
     "text": [
      "Generation:  21\n",
      "Best roc_auc_score score: 1.0\n"
     ]
    },
    {
     "name": "stderr",
     "output_type": "stream",
     "text": [
      "Generation:  44%|████▍     | 22/50 [24:54<1:03:11, 135.40s/it]"
     ]
    },
    {
     "name": "stdout",
     "output_type": "stream",
     "text": [
      "Generation:  22\n",
      "Best roc_auc_score score: 1.0\n"
     ]
    },
    {
     "name": "stderr",
     "output_type": "stream",
     "text": [
      "Generation:  46%|████▌     | 23/50 [27:03<1:00:01, 133.40s/it]"
     ]
    },
    {
     "name": "stdout",
     "output_type": "stream",
     "text": [
      "Generation:  23\n",
      "Best roc_auc_score score: 1.0\n"
     ]
    },
    {
     "name": "stderr",
     "output_type": "stream",
     "text": [
      "Generation:  48%|████▊     | 24/50 [29:09<56:48, 131.10s/it]  "
     ]
    },
    {
     "name": "stdout",
     "output_type": "stream",
     "text": [
      "Generation:  24\n",
      "Best roc_auc_score score: 1.0\n"
     ]
    },
    {
     "name": "stderr",
     "output_type": "stream",
     "text": [
      "Generation:  50%|█████     | 25/50 [31:26<55:27, 133.09s/it]"
     ]
    },
    {
     "name": "stdout",
     "output_type": "stream",
     "text": [
      "Generation:  25\n",
      "Best roc_auc_score score: 1.0\n"
     ]
    },
    {
     "name": "stderr",
     "output_type": "stream",
     "text": [
      "Generation:  52%|█████▏    | 26/50 [33:27<51:48, 129.50s/it]"
     ]
    },
    {
     "name": "stdout",
     "output_type": "stream",
     "text": [
      "Generation:  26\n",
      "Best roc_auc_score score: 1.0\n"
     ]
    },
    {
     "name": "stderr",
     "output_type": "stream",
     "text": [
      "Generation:  54%|█████▍    | 27/50 [35:51<51:12, 133.60s/it]"
     ]
    },
    {
     "name": "stdout",
     "output_type": "stream",
     "text": [
      "Generation:  27\n",
      "Best roc_auc_score score: 1.0\n"
     ]
    },
    {
     "name": "stderr",
     "output_type": "stream",
     "text": [
      "Generation:  56%|█████▌    | 28/50 [38:40<52:54, 144.28s/it]"
     ]
    },
    {
     "name": "stdout",
     "output_type": "stream",
     "text": [
      "Generation:  28\n",
      "Best roc_auc_score score: 1.0\n"
     ]
    },
    {
     "name": "stderr",
     "output_type": "stream",
     "text": [
      "Generation:  58%|█████▊    | 29/50 [40:49<48:55, 139.80s/it]"
     ]
    },
    {
     "name": "stdout",
     "output_type": "stream",
     "text": [
      "Generation:  29\n",
      "Best roc_auc_score score: 1.0\n"
     ]
    },
    {
     "name": "stderr",
     "output_type": "stream",
     "text": [
      "Generation:  60%|██████    | 30/50 [43:49<50:36, 151.83s/it]"
     ]
    },
    {
     "name": "stdout",
     "output_type": "stream",
     "text": [
      "Generation:  30\n",
      "Best roc_auc_score score: 1.0\n"
     ]
    },
    {
     "name": "stderr",
     "output_type": "stream",
     "text": [
      "Generation:  62%|██████▏   | 31/50 [48:19<59:20, 187.37s/it]"
     ]
    },
    {
     "name": "stdout",
     "output_type": "stream",
     "text": [
      "Generation:  31\n",
      "Best roc_auc_score score: 1.0\n"
     ]
    },
    {
     "name": "stderr",
     "output_type": "stream",
     "text": [
      "Generation:  64%|██████▍   | 32/50 [50:18<50:01, 166.77s/it]"
     ]
    },
    {
     "name": "stdout",
     "output_type": "stream",
     "text": [
      "Generation:  32\n",
      "Best roc_auc_score score: 1.0\n"
     ]
    },
    {
     "name": "stderr",
     "output_type": "stream",
     "text": [
      "Generation:  66%|██████▌   | 33/50 [52:22<43:38, 154.01s/it]"
     ]
    },
    {
     "name": "stdout",
     "output_type": "stream",
     "text": [
      "Generation:  33\n",
      "Best roc_auc_score score: 1.0\n"
     ]
    },
    {
     "name": "stderr",
     "output_type": "stream",
     "text": [
      "Generation:  68%|██████▊   | 34/50 [54:38<39:35, 148.46s/it]"
     ]
    },
    {
     "name": "stdout",
     "output_type": "stream",
     "text": [
      "Generation:  34\n",
      "Best roc_auc_score score: 1.0\n"
     ]
    },
    {
     "name": "stderr",
     "output_type": "stream",
     "text": [
      "Generation:  70%|███████   | 35/50 [57:43<39:52, 159.52s/it]"
     ]
    },
    {
     "name": "stdout",
     "output_type": "stream",
     "text": [
      "Generation:  35\n",
      "Best roc_auc_score score: 1.0\n"
     ]
    },
    {
     "name": "stderr",
     "output_type": "stream",
     "text": [
      "Generation:  72%|███████▏  | 36/50 [1:00:16<36:44, 157.44s/it]"
     ]
    },
    {
     "name": "stdout",
     "output_type": "stream",
     "text": [
      "Generation:  36\n",
      "Best roc_auc_score score: 1.0\n"
     ]
    },
    {
     "name": "stderr",
     "output_type": "stream",
     "text": [
      "Generation:  74%|███████▍  | 37/50 [1:04:37<40:51, 188.57s/it]"
     ]
    },
    {
     "name": "stdout",
     "output_type": "stream",
     "text": [
      "Generation:  37\n",
      "Best roc_auc_score score: 1.0\n"
     ]
    },
    {
     "name": "stderr",
     "output_type": "stream",
     "text": [
      "Generation:  76%|███████▌  | 38/50 [1:27:43<1:49:32, 547.68s/it]"
     ]
    },
    {
     "name": "stdout",
     "output_type": "stream",
     "text": [
      "Generation:  38\n",
      "Best roc_auc_score score: 1.0\n"
     ]
    },
    {
     "name": "stderr",
     "output_type": "stream",
     "text": [
      "Generation:  78%|███████▊  | 39/50 [1:29:40<1:16:43, 418.49s/it]"
     ]
    },
    {
     "name": "stdout",
     "output_type": "stream",
     "text": [
      "Generation:  39\n",
      "Best roc_auc_score score: 1.0\n"
     ]
    },
    {
     "name": "stderr",
     "output_type": "stream",
     "text": [
      "Generation:  80%|████████  | 40/50 [1:32:56<58:39, 351.95s/it]  "
     ]
    },
    {
     "name": "stdout",
     "output_type": "stream",
     "text": [
      "Generation:  40\n",
      "Best roc_auc_score score: 1.0\n"
     ]
    },
    {
     "name": "stderr",
     "output_type": "stream",
     "text": [
      "Generation:  82%|████████▏ | 41/50 [1:36:55<47:41, 317.92s/it]"
     ]
    },
    {
     "name": "stdout",
     "output_type": "stream",
     "text": [
      "Generation:  41\n",
      "Best roc_auc_score score: 1.0\n"
     ]
    },
    {
     "name": "stderr",
     "output_type": "stream",
     "text": [
      "Generation:  84%|████████▍ | 42/50 [1:38:54<34:27, 258.41s/it]"
     ]
    },
    {
     "name": "stdout",
     "output_type": "stream",
     "text": [
      "Generation:  42\n",
      "Best roc_auc_score score: 1.0\n"
     ]
    },
    {
     "name": "stderr",
     "output_type": "stream",
     "text": [
      "Generation:  86%|████████▌ | 43/50 [1:40:59<25:28, 218.30s/it]"
     ]
    },
    {
     "name": "stdout",
     "output_type": "stream",
     "text": [
      "Generation:  43\n",
      "Best roc_auc_score score: 1.0\n"
     ]
    },
    {
     "name": "stderr",
     "output_type": "stream",
     "text": [
      "Generation:  88%|████████▊ | 44/50 [1:42:38<18:14, 182.39s/it]"
     ]
    },
    {
     "name": "stdout",
     "output_type": "stream",
     "text": [
      "Generation:  44\n",
      "Best roc_auc_score score: 1.0\n"
     ]
    },
    {
     "name": "stderr",
     "output_type": "stream",
     "text": [
      "Generation:  90%|█████████ | 45/50 [1:44:18<13:08, 157.68s/it]"
     ]
    },
    {
     "name": "stdout",
     "output_type": "stream",
     "text": [
      "Generation:  45\n",
      "Best roc_auc_score score: 1.0\n"
     ]
    },
    {
     "name": "stderr",
     "output_type": "stream",
     "text": [
      "Generation:  92%|█████████▏| 46/50 [1:46:13<09:39, 144.91s/it]"
     ]
    },
    {
     "name": "stdout",
     "output_type": "stream",
     "text": [
      "Generation:  46\n",
      "Best roc_auc_score score: 1.0\n"
     ]
    },
    {
     "name": "stderr",
     "output_type": "stream",
     "text": [
      "Generation:  94%|█████████▍| 47/50 [1:48:29<07:06, 142.24s/it]"
     ]
    },
    {
     "name": "stdout",
     "output_type": "stream",
     "text": [
      "Generation:  47\n",
      "Best roc_auc_score score: 1.0\n"
     ]
    },
    {
     "name": "stderr",
     "output_type": "stream",
     "text": [
      "Generation:  96%|█████████▌| 48/50 [1:50:06<04:17, 128.67s/it]"
     ]
    },
    {
     "name": "stdout",
     "output_type": "stream",
     "text": [
      "Generation:  48\n",
      "Best roc_auc_score score: 1.0\n"
     ]
    },
    {
     "name": "stderr",
     "output_type": "stream",
     "text": [
      "Generation:  98%|█████████▊| 49/50 [1:52:18<02:09, 129.85s/it]"
     ]
    },
    {
     "name": "stdout",
     "output_type": "stream",
     "text": [
      "Generation:  49\n",
      "Best roc_auc_score score: 1.0\n"
     ]
    },
    {
     "name": "stderr",
     "output_type": "stream",
     "text": [
      "Generation: 100%|██████████| 50/50 [1:54:14<00:00, 137.09s/it]"
     ]
    },
    {
     "name": "stdout",
     "output_type": "stream",
     "text": [
      "Generation:  50\n",
      "Best roc_auc_score score: 1.0\n"
     ]
    },
    {
     "name": "stderr",
     "output_type": "stream",
     "text": [
      "\n"
     ]
    },
    {
     "name": "stdout",
     "output_type": "stream",
     "text": [
      "total time: 6862.724096059799\n",
      "test score:  0.9917355371900827\n"
     ]
    }
   ],
   "source": [
    "# A Graph pipeline starting with at least one selector as a leaf, potentially followed by a series\n",
    "# of stacking classifiers or transformers, and ending with a classifier. The graph will have at most 15 nodes and a max depth of 6.\n",
    "\n",
    "import tpot\n",
    "import sklearn\n",
    "import sklearn.datasets\n",
    "import numpy as np\n",
    "import time\n",
    "import tpot\n",
    "import pandas as pd\n",
    "import numpy as np\n",
    "from sklearn.linear_model import LogisticRegression\n",
    "import sklearn\n",
    "\n",
    "X, y = sklearn.datasets.load_breast_cancer(return_X_y=True)\n",
    "X_train, X_test, y_train, y_test = sklearn.model_selection.train_test_split(X, y, random_state=1)\n",
    "scorer = sklearn.metrics.make_scorer(sklearn.metrics.roc_auc_score, needs_proba=True, multi_class='ovr')\n",
    "\n",
    "\n",
    "est = tpot.TPOTEstimator(\n",
    "    generations=50,\n",
    "    max_time_mins=None,\n",
    "    scorers=['roc_auc_ovr'],\n",
    "    scorers_weights=[1],\n",
    "    classification=True,\n",
    "    search_space = 'linear',\n",
    "    n_jobs=32,\n",
    "    cv=10,\n",
    "    verbose=3,\n",
    "\n",
    "    population_size=population_size,\n",
    "    initial_population_size=initial_population_size,\n",
    "    population_scaling = population_scaling,\n",
    "    generations_until_end_population = generations_until_end_population,\n",
    "    \n",
    "    budget_range = budget_range,\n",
    "    generations_until_end_budget=generations_until_end_budget,\n",
    "    )\n",
    "\n",
    "\n",
    "\n",
    "start = time.time()\n",
    "est.fit(X_train, y_train)\n",
    "print(f\"total time: {time.time()-start}\")\n",
    "\n",
    "print(\"test score: \", scorer(est, X_test, y_test))"
   ]
  },
  {
   "attachments": {},
   "cell_type": "markdown",
   "metadata": {},
   "source": [
    "## CV early pruning\n",
    "\n",
    "Most often, we will be evaluating pipelines using cross validation. However, we can often tell within the first few folds whether or not the pipeline is going have a reasonable change of outperforming the previous best pipelines. For example, if the best score so far is .92 AUROC and the average score of the first five folds of our current pipeline is only around .61, we can be reasonably confident that the next five folds are unlikely to this pipeline ahead of the others. We can save a significant amount of compute by not computing the rest of the folds. There are two strategies that TPOT can use to accomplish this (More information on these strategies in Tutorial 8).\n",
    "   1. Threshold Pruning: Pipelines must achieve a score above a predefined percentile threshold (based on previous pipeline scores) to proceed in each cross-validation (CV) fold.\n",
    "   2. Selection Pruning: Within each population, only the top N% of pipelines (ranked by performance in the previous CV fold) are selected to evaluate in the next fold.\"\n",
    "\n",
    "\n",
    "We can further reduce computational load by terminating the evaluation of individual pipelines early if the first few CV scores are not promising. Note that this is different than early stopping of the full algorithm. In this section we will cover:\n",
    "\n",
    "`threshold_evaluation_pruning`\n",
    "\n",
    "`threshold_evaluation_scaling`\n",
    "\n",
    "`min_history_threshold`\n",
    "\n",
    "`selection_evaluation_pruning`\n",
    "\n",
    "`selection_evaluation_scaling`\n",
    "\n",
    "Threshold early stopping uses previous scores to identify and terminate the cross validation evaluation of poorly performing pipelines. We calculate the percentile scores from the previously evaluated pipelines. A pipeline must reach the given percentile each fold for the next to be evaluated, otherwise the pipeline is discarded.\n",
    "\n",
    "The `threshold_evaluation_pruning` parameter is a list that specifies the starting and ending percentiles to use as a threshold for the evaluation early stopping. W The `threshold_evaluation_scaling` parameter is a float that controls the rate at which the threshold moves from the start to end percentile. The `min_history_threshold` parameter specifies the minimum number of previous scores needed before using threshold early stopping. This ensures that the algorithm has enough historical data to make an informed decision about when to stop evaluating pipelines.\n",
    "\n",
    "Selection early stopping uses a selection algorithm after each fold to select which algorithms will be evaluated for the next fold. For example, after evaluating 100 individuals on fold 1, we may want to only evaluate the best 50 for the remaining folds.\n",
    "\n",
    "The `selection_evaluation_pruning` parameter is a list that specifies the lower and upper percentage of the population size to select each round of CV. This is used to determine which individuals to evaluate in the next generation. The `selection_evaluation_scaling` parameter is a float that controls the rate at which the selection threshold moves from the start to end percentile.\n",
    "\n",
    "By manipulating these parameters, we can control how the algorithm selects individuals to evaluate in the next generation and when to stop evaluating pipelines that are not performing well.\n",
    "\n",
    "In practice, the values of these parameters will depend on the specific problem and the available computational resources. \n",
    "\n",
    "In the following sections, we will show you how to set and manipulate these parameters using Python code in a Jupyter Notebook. We will also provide examples of how these parameters can affect the performance of the algorithm.\n",
    "\n",
    "(Note that in these small test cases, you may not notice much or any performance improvements, these are more likely to be more beneficial in real world scenarios with larger datasets and slower evaluating pipelines.)\n",
    "\n",
    "**Considerations:**\n",
    "It is important to be aware of how CV pruning interacts with the evolutionary algorithm. When pipelines are pruned with one of these methods, they are removed from the live population and thus are no longer used to inform the TPOT algorithm. If too many pipelines are pruned, this could reduce the diversity of pipelines per generation, and limit TPOT's ability to learn. Additionally, the pruning methods may interact with how long it takes TPOT to run. If the pruning algorithm removes the slightly less performant but faster running pipelines, TPOT will most likely fill the next generation with only slower running pipelines, thus technically increasing the total runtime. This may be acceptable since more compute is dedicated to the higher performing pipelines."
   ]
  },
  {
   "cell_type": "code",
   "execution_count": 3,
   "metadata": {},
   "outputs": [
    {
     "data": {
      "image/png": "[encoded data removed]",
      "text/plain": [
       "<Figure size 640x480 with 1 Axes>"
      ]
     },
     "metadata": {},
     "output_type": "display_data"
    }
   ],
   "source": [
    "import matplotlib.pyplot as plt\n",
    "import tpot\n",
    "import time\n",
    "import sklearn\n",
    "import sklearn.datasets\n",
    "\n",
    "threshold_evaluation_pruning = [30, 90]\n",
    "threshold_evaluation_scaling = .2 #.5\n",
    "cv = 10\n",
    "\n",
    "#Population and budget use stepwise\n",
    "fig, ax1 = plt.subplots()\n",
    "\n",
    "interpolated_values = tpot.utils.beta_interpolation(start=threshold_evaluation_pruning[0], end=threshold_evaluation_pruning[-1], n=cv, n_steps=cv, scale=threshold_evaluation_scaling)\n",
    "ax1.step(list(range(len(interpolated_values))), interpolated_values, label=f\"threshold\")\n",
    "ax1.set_xlabel(\"fold\")\n",
    "ax1.set_ylabel(\"percentile\")\n",
    "#ax1.legend(loc='center left', bbox_to_anchor=(1.1, 0.4))\n",
    "plt.show()\n"
   ]
  },
  {
   "cell_type": "code",
   "execution_count": 4,
   "metadata": {},
   "outputs": [],
   "source": [
    "import tpot\n",
    "from tpot.search_spaces.pipelines import *\n",
    "from tpot.search_spaces.nodes import *\n",
    "from tpot.config.get_configspace import get_search_space\n",
    "import sklearn.model_selection\n",
    "import sklearn\n",
    "\n",
    "\n",
    "selectors = get_search_space([\"selectors\",\"selectors_classification\", \"Passthrough\"], random_state=42,)\n",
    "estimators = get_search_space(['XGBClassifier'],random_state=42,)\n",
    "\n",
    "scalers = get_search_space([\"scalers\",\"Passthrough\"],random_state=42,)\n",
    "\n",
    "transformers_layer =UnionPipeline([\n",
    "                        ChoicePipeline([\n",
    "                            DynamicUnionPipeline(get_search_space([\"transformers\"], random_state=42,)),\n",
    "                            get_search_space(\"SkipTransformer\"),\n",
    "                        ]),\n",
    "                        get_search_space(\"Passthrough\")\n",
    "                        ]\n",
    "                    )\n",
    "    \n",
    "search_space = SequentialPipeline(search_spaces=[\n",
    "                                            scalers,\n",
    "                                            selectors, \n",
    "                                            transformers_layer,\n",
    "                                            estimators,\n",
    "                                            ])"
   ]
  },
  {
   "cell_type": "code",
   "execution_count": 5,
   "metadata": {},
   "outputs": [
    {
     "name": "stderr",
     "output_type": "stream",
     "text": [
      "/opt/anaconda3/envs/tpotenv/lib/python3.10/site-packages/sklearn/metrics/_scorer.py:610: FutureWarning: The `needs_threshold` and `needs_proba` parameter are deprecated in version 1.4 and will be removed in 1.6. You can either let `response_method` be `None` or set it to `predict` to preserve the same behaviour.\n",
      "  warnings.warn(\n"
     ]
    }
   ],
   "source": [
    "import matplotlib.pyplot as plt\n",
    "import tpot\n",
    "import time\n",
    "import sklearn\n",
    "import sklearn.datasets\n",
    "\n",
    "scorer = sklearn.metrics.make_scorer(sklearn.metrics.roc_auc_score, needs_proba=True, multi_class='ovr')\n",
    "\n",
    "X, y = sklearn.datasets.make_classification(n_samples=5000, n_features=20, n_classes=5, random_state=1, n_informative=15, n_redundant=5, n_repeated=0, n_clusters_per_class=3, class_sep=.8)\n",
    "X_train, X_test, y_train, y_test = sklearn.model_selection.train_test_split(X, y, random_state=1)\n",
    "\n",
    "# search_space = tpot.config.template_search_spaces.get_template_search_spaces(\"linear\",inner_predictors=False, random_state=42)\n"
   ]
  },
  {
   "cell_type": "code",
   "execution_count": 6,
   "metadata": {},
   "outputs": [
    {
     "name": "stderr",
     "output_type": "stream",
     "text": [
      "Generation:  10%|█         | 1/10 [02:42<24:26, 162.98s/it]"
     ]
    },
    {
     "name": "stdout",
     "output_type": "stream",
     "text": [
      "Generation:  1\n",
      "Best roc_auc_score score: 0.9212394545585599\n"
     ]
    },
    {
     "name": "stderr",
     "output_type": "stream",
     "text": [
      "Generation:  20%|██        | 2/10 [06:10<25:14, 189.31s/it]"
     ]
    },
    {
     "name": "stdout",
     "output_type": "stream",
     "text": [
      "Generation:  2\n",
      "Best roc_auc_score score: 0.921316057689257\n"
     ]
    },
    {
     "name": "stderr",
     "output_type": "stream",
     "text": [
      "Generation:  30%|███       | 3/10 [10:07<24:37, 211.00s/it]"
     ]
    },
    {
     "name": "stdout",
     "output_type": "stream",
     "text": [
      "Generation:  3\n",
      "Best roc_auc_score score: 0.9291812014325632\n"
     ]
    },
    {
     "name": "stderr",
     "output_type": "stream",
     "text": [
      "Generation:  40%|████      | 4/10 [16:26<27:43, 277.33s/it]"
     ]
    },
    {
     "name": "stdout",
     "output_type": "stream",
     "text": [
      "Generation:  4\n",
      "Best roc_auc_score score: 0.9291812014325632\n"
     ]
    },
    {
     "name": "stderr",
     "output_type": "stream",
     "text": [
      "Generation:  50%|█████     | 5/10 [21:24<23:44, 284.90s/it]"
     ]
    },
    {
     "name": "stdout",
     "output_type": "stream",
     "text": [
      "Generation:  5\n",
      "Best roc_auc_score score: 0.9309353469187138\n"
     ]
    },
    {
     "name": "stderr",
     "output_type": "stream",
     "text": [
      "Generation:  60%|██████    | 6/10 [28:02<21:32, 323.19s/it]"
     ]
    },
    {
     "name": "stdout",
     "output_type": "stream",
     "text": [
      "Generation:  6\n",
      "Best roc_auc_score score: 0.9328394699598583\n"
     ]
    },
    {
     "name": "stderr",
     "output_type": "stream",
     "text": [
      "Generation:  70%|███████   | 7/10 [36:02<18:43, 374.57s/it]"
     ]
    },
    {
     "name": "stdout",
     "output_type": "stream",
     "text": [
      "Generation:  7\n",
      "Best roc_auc_score score: 0.9341963775600117\n"
     ]
    },
    {
     "name": "stderr",
     "output_type": "stream",
     "text": [
      "Generation:  80%|████████  | 8/10 [45:34<14:34, 437.41s/it]"
     ]
    },
    {
     "name": "stdout",
     "output_type": "stream",
     "text": [
      "Generation:  8\n",
      "Best roc_auc_score score: 0.9341963775600117\n"
     ]
    },
    {
     "name": "stderr",
     "output_type": "stream",
     "text": [
      "Generation:  90%|█████████ | 9/10 [54:40<07:51, 471.27s/it]"
     ]
    },
    {
     "name": "stdout",
     "output_type": "stream",
     "text": [
      "Generation:  9\n",
      "Best roc_auc_score score: 0.9356175936945494\n"
     ]
    },
    {
     "name": "stderr",
     "output_type": "stream",
     "text": [
      "Generation: 100%|██████████| 10/10 [1:03:45<00:00, 382.55s/it]"
     ]
    },
    {
     "name": "stdout",
     "output_type": "stream",
     "text": [
      "Generation:  10\n",
      "Best roc_auc_score score: 0.9371852416832148\n"
     ]
    },
    {
     "name": "stderr",
     "output_type": "stream",
     "text": [
      "\n"
     ]
    },
    {
     "name": "stdout",
     "output_type": "stream",
     "text": [
      "total time: 3836.4180731773376\n",
      "test score:  0.9422368174356803\n"
     ]
    }
   ],
   "source": [
    "# no pruning\n",
    "est = tpot.TPOTEstimator(  \n",
    "                            generations=10,\n",
    "                            max_time_mins=None,\n",
    "                            scorers=['roc_auc_ovr'],\n",
    "                            scorers_weights=[1],\n",
    "                            classification=True,\n",
    "                            search_space = search_space,\n",
    "                            population_size=100,\n",
    "                            n_jobs=32,\n",
    "                            cv=cv,\n",
    "                            verbose=3,\n",
    "                            random_state=42,\n",
    "                            )\n",
    "\n",
    "\n",
    "start = time.time()\n",
    "est.fit(X_train, y_train)\n",
    "print(f\"total time: {time.time()-start}\")\n",
    "print(\"test score: \", scorer(est, X_test, y_test))"
   ]
  },
  {
   "cell_type": "code",
   "execution_count": 7,
   "metadata": {},
   "outputs": [
    {
     "name": "stderr",
     "output_type": "stream",
     "text": [
      "Generation:  10%|█         | 1/10 [02:57<26:40, 177.87s/it]"
     ]
    },
    {
     "name": "stdout",
     "output_type": "stream",
     "text": [
      "Generation:  1\n",
      "Best roc_auc_score score: 0.9212394545585602\n"
     ]
    },
    {
     "name": "stderr",
     "output_type": "stream",
     "text": [
      "Generation:  20%|██        | 2/10 [03:57<14:24, 108.05s/it]"
     ]
    },
    {
     "name": "stdout",
     "output_type": "stream",
     "text": [
      "Generation:  2\n",
      "Best roc_auc_score score: 0.9212394545585602\n"
     ]
    },
    {
     "name": "stderr",
     "output_type": "stream",
     "text": [
      "Generation:  30%|███       | 3/10 [05:58<13:18, 114.13s/it]"
     ]
    },
    {
     "name": "stdout",
     "output_type": "stream",
     "text": [
      "Generation:  3\n",
      "Best roc_auc_score score: 0.9212394545585602\n"
     ]
    },
    {
     "name": "stderr",
     "output_type": "stream",
     "text": [
      "Generation:  40%|████      | 4/10 [07:54<11:29, 114.96s/it]"
     ]
    },
    {
     "name": "stdout",
     "output_type": "stream",
     "text": [
      "Generation:  4\n",
      "Best roc_auc_score score: 0.9212394545585602\n"
     ]
    },
    {
     "name": "stderr",
     "output_type": "stream",
     "text": [
      "Generation:  50%|█████     | 5/10 [10:43<11:11, 134.34s/it]"
     ]
    },
    {
     "name": "stdout",
     "output_type": "stream",
     "text": [
      "Generation:  5\n",
      "Best roc_auc_score score: 0.921316057689257\n"
     ]
    },
    {
     "name": "stderr",
     "output_type": "stream",
     "text": [
      "Generation:  60%|██████    | 6/10 [13:16<09:23, 140.78s/it]"
     ]
    },
    {
     "name": "stdout",
     "output_type": "stream",
     "text": [
      "Generation:  6\n",
      "Best roc_auc_score score: 0.921316057689257\n"
     ]
    },
    {
     "name": "stderr",
     "output_type": "stream",
     "text": [
      "Generation:  70%|███████   | 7/10 [15:05<06:31, 130.43s/it]"
     ]
    },
    {
     "name": "stdout",
     "output_type": "stream",
     "text": [
      "Generation:  7\n",
      "Best roc_auc_score score: 0.921316057689257\n"
     ]
    },
    {
     "name": "stderr",
     "output_type": "stream",
     "text": [
      "Generation:  80%|████████  | 8/10 [18:01<04:49, 144.72s/it]"
     ]
    },
    {
     "name": "stdout",
     "output_type": "stream",
     "text": [
      "Generation:  8\n",
      "Best roc_auc_score score: 0.9255953925256337\n"
     ]
    },
    {
     "name": "stderr",
     "output_type": "stream",
     "text": [
      "Generation:  90%|█████████ | 9/10 [19:53<02:14, 134.59s/it]"
     ]
    },
    {
     "name": "stdout",
     "output_type": "stream",
     "text": [
      "Generation:  9\n",
      "Best roc_auc_score score: 0.9255953925256337\n"
     ]
    },
    {
     "name": "stderr",
     "output_type": "stream",
     "text": [
      "Generation: 100%|██████████| 10/10 [21:24<00:00, 128.50s/it]"
     ]
    },
    {
     "name": "stdout",
     "output_type": "stream",
     "text": [
      "Generation:  10\n",
      "Best roc_auc_score score: 0.9255953925256337\n"
     ]
    },
    {
     "name": "stderr",
     "output_type": "stream",
     "text": [
      "\n"
     ]
    },
    {
     "name": "stdout",
     "output_type": "stream",
     "text": [
      "total time: 1295.825649023056\n",
      "test score:  0.9320499022897322\n"
     ]
    }
   ],
   "source": [
    "import tpot.config\n",
    "import tpot.config.template_search_spaces\n",
    "import tpot.search_spaces\n",
    "\n",
    "\n",
    "\n",
    "# search_space = tpot.config.get_search_space([\"RandomForestClassifier\"])\n",
    "\n",
    "est = tpot.TPOTEstimator(  \n",
    "                            generations=10,\n",
    "                            max_time_mins=None,\n",
    "                            scorers=['roc_auc_ovr'],\n",
    "                            scorers_weights=[1],\n",
    "                            classification=True,\n",
    "                            search_space = search_space,\n",
    "                            population_size=100,\n",
    "                            n_jobs=32,\n",
    "                            cv=cv,\n",
    "                            verbose=3,\n",
    "                            random_state=42,\n",
    "\n",
    "                            threshold_evaluation_pruning = threshold_evaluation_pruning,\n",
    "                            threshold_evaluation_scaling = threshold_evaluation_scaling,\n",
    "                            )\n",
    "\n",
    "\n",
    "start = time.time()\n",
    "est.fit(X_train, y_train)\n",
    "print(f\"total time: {time.time()-start}\")\n",
    "print(\"test score: \", scorer(est, X_test, y_test))"
   ]
  },
  {
   "cell_type": "code",
   "execution_count": 8,
   "metadata": {},
   "outputs": [
    {
     "data": {
      "image/png": "[encoded data removed]",
      "text/plain": [
       "<Figure size 640x480 with 1 Axes>"
      ]
     },
     "metadata": {},
     "output_type": "display_data"
    }
   ],
   "source": [
    "import matplotlib.pyplot as plt\n",
    "import tpot\n",
    "\n",
    "selection_evaluation_pruning = [.9, .3]\n",
    "selection_evaluation_scaling = .2\n",
    "\n",
    "#Population and budget use stepwise\n",
    "fig, ax1 = plt.subplots()\n",
    "\n",
    "interpolated_values = tpot.utils.beta_interpolation(start=selection_evaluation_pruning[0], end=selection_evaluation_pruning[-1], n=cv, n_steps=cv, scale=selection_evaluation_scaling)\n",
    "ax1.step(list(range(len(interpolated_values))), interpolated_values, label=f\"threshold\")\n",
    "ax1.set_xlabel(\"fold\")\n",
    "ax1.set_ylabel(\"percent to select\")\n",
    "#ax1.legend(loc='center left', bbox_to_anchor=(1.1, 0.4))\n",
    "plt.show()\n"
   ]
  },
  {
   "cell_type": "code",
   "execution_count": 9,
   "metadata": {},
   "outputs": [
    {
     "name": "stderr",
     "output_type": "stream",
     "text": [
      "Generation:  10%|█         | 1/10 [02:23<21:31, 143.50s/it]"
     ]
    },
    {
     "name": "stdout",
     "output_type": "stream",
     "text": [
      "Generation:  1\n",
      "Best roc_auc_score score: 0.9212394545585602\n"
     ]
    },
    {
     "name": "stderr",
     "output_type": "stream",
     "text": [
      "Generation:  20%|██        | 2/10 [04:00<15:30, 116.31s/it]"
     ]
    },
    {
     "name": "stdout",
     "output_type": "stream",
     "text": [
      "Generation:  2\n",
      "Best roc_auc_score score: 0.9212394545585602\n"
     ]
    },
    {
     "name": "stderr",
     "output_type": "stream",
     "text": [
      "Generation:  30%|███       | 3/10 [05:42<12:48, 109.73s/it]"
     ]
    },
    {
     "name": "stdout",
     "output_type": "stream",
     "text": [
      "Generation:  3\n",
      "Best roc_auc_score score: 0.9212394545585602\n"
     ]
    },
    {
     "name": "stderr",
     "output_type": "stream",
     "text": [
      "Generation:  40%|████      | 4/10 [07:36<11:08, 111.45s/it]"
     ]
    },
    {
     "name": "stdout",
     "output_type": "stream",
     "text": [
      "Generation:  4\n",
      "Best roc_auc_score score: 0.9212394545585602\n"
     ]
    },
    {
     "name": "stderr",
     "output_type": "stream",
     "text": [
      "Generation:  50%|█████     | 5/10 [09:12<08:48, 105.72s/it]"
     ]
    },
    {
     "name": "stdout",
     "output_type": "stream",
     "text": [
      "Generation:  5\n",
      "Best roc_auc_score score: 0.9212394545585602\n"
     ]
    },
    {
     "name": "stderr",
     "output_type": "stream",
     "text": [
      "Generation:  60%|██████    | 6/10 [11:04<07:11, 107.81s/it]"
     ]
    },
    {
     "name": "stdout",
     "output_type": "stream",
     "text": [
      "Generation:  6\n",
      "Best roc_auc_score score: 0.9212394545585602\n"
     ]
    },
    {
     "name": "stderr",
     "output_type": "stream",
     "text": [
      "Generation:  70%|███████   | 7/10 [12:54<05:26, 108.71s/it]"
     ]
    },
    {
     "name": "stdout",
     "output_type": "stream",
     "text": [
      "Generation:  7\n",
      "Best roc_auc_score score: 0.9212394545585602\n"
     ]
    },
    {
     "name": "stderr",
     "output_type": "stream",
     "text": [
      "Generation:  80%|████████  | 8/10 [14:45<03:38, 109.49s/it]"
     ]
    },
    {
     "name": "stdout",
     "output_type": "stream",
     "text": [
      "Generation:  8\n",
      "Best roc_auc_score score: 0.925549420935039\n"
     ]
    },
    {
     "name": "stderr",
     "output_type": "stream",
     "text": [
      "Generation:  90%|█████████ | 9/10 [16:49<01:54, 114.03s/it]"
     ]
    },
    {
     "name": "stdout",
     "output_type": "stream",
     "text": [
      "Generation:  9\n",
      "Best roc_auc_score score: 0.925549420935039\n"
     ]
    },
    {
     "name": "stderr",
     "output_type": "stream",
     "text": [
      "Generation: 100%|██████████| 10/10 [18:36<00:00, 111.67s/it]"
     ]
    },
    {
     "name": "stdout",
     "output_type": "stream",
     "text": [
      "Generation:  10\n",
      "Best roc_auc_score score: 0.925549420935039\n"
     ]
    },
    {
     "name": "stderr",
     "output_type": "stream",
     "text": [
      "\n",
      "/opt/anaconda3/envs/tpotenv/lib/python3.10/site-packages/sklearn/decomposition/_fastica.py:595: UserWarning: n_components is too large: it will be set to 20\n",
      "  warnings.warn(\n",
      "/opt/anaconda3/envs/tpotenv/lib/python3.10/site-packages/sklearn/decomposition/_fastica.py:128: ConvergenceWarning: FastICA did not converge. Consider increasing tolerance or the maximum number of iterations.\n",
      "  warnings.warn(\n"
     ]
    },
    {
     "name": "stdout",
     "output_type": "stream",
     "text": [
      "total time: 1129.1526980400085\n",
      "test score:  0.9324219154371735\n"
     ]
    }
   ],
   "source": [
    "est = tpot.TPOTEstimator(  \n",
    "                            generations=10,\n",
    "                            max_time_mins=None,\n",
    "                            scorers=['roc_auc_ovr'],\n",
    "                            scorers_weights=[1],\n",
    "                            classification=True,\n",
    "                            search_space = search_space,\n",
    "                            population_size=100,\n",
    "                            n_jobs=32,\n",
    "                            cv=cv,\n",
    "                            verbose=3,\n",
    "                            random_state=42,\n",
    "\n",
    "                            selection_evaluation_pruning  = selection_evaluation_pruning,\n",
    "                            selection_evaluation_scaling = selection_evaluation_scaling,\n",
    "                            )\n",
    "\n",
    "\n",
    "start = time.time()\n",
    "est.fit(X_train, y_train)\n",
    "print(f\"total time: {time.time()-start}\")\n",
    "print(\"test score: \", scorer(est, X_test, y_test))"
   ]
  },
  {
   "cell_type": "code",
   "execution_count": 10,
   "metadata": {},
   "outputs": [
    {
     "data": {
      "text/html": [
       "<div>\n",
       "<style scoped>\n",
       "    .dataframe tbody tr th:only-of-type {\n",
       "        vertical-align: middle;\n",
       "    }\n",
       "\n",
       "    .dataframe tbody tr th {\n",
       "        vertical-align: top;\n",
       "    }\n",
       "\n",
       "    .dataframe thead th {\n",
       "        text-align: right;\n",
       "    }\n",
       "</style>\n",
       "<table border=\"1\" class=\"dataframe\">\n",
       "  <thead>\n",
       "    <tr style=\"text-align: right;\">\n",
       "      <th></th>\n",
       "      <th>roc_auc_score</th>\n",
       "      <th>Parents</th>\n",
       "      <th>Variation_Function</th>\n",
       "      <th>Individual</th>\n",
       "      <th>Generation</th>\n",
       "      <th>roc_auc_score_step_0</th>\n",
       "      <th>Submitted Timestamp</th>\n",
       "      <th>Completed Timestamp</th>\n",
       "      <th>Eval Error</th>\n",
       "      <th>roc_auc_score_step_1</th>\n",
       "      <th>roc_auc_score_step_2</th>\n",
       "      <th>roc_auc_score_step_3</th>\n",
       "      <th>roc_auc_score_step_4</th>\n",
       "      <th>roc_auc_score_step_5</th>\n",
       "      <th>roc_auc_score_step_6</th>\n",
       "      <th>roc_auc_score_step_7</th>\n",
       "      <th>roc_auc_score_step_8</th>\n",
       "      <th>roc_auc_score_step_9</th>\n",
       "      <th>Pareto_Front</th>\n",
       "      <th>Instance</th>\n",
       "    </tr>\n",
       "  </thead>\n",
       "  <tbody>\n",
       "    <tr>\n",
       "      <th>0</th>\n",
       "      <td>0.812263</td>\n",
       "      <td>NaN</td>\n",
       "      <td>NaN</td>\n",
       "      <td>&lt;tpot.search_spaces.pipelines.sequential.Seque...</td>\n",
       "      <td>0.0</td>\n",
       "      <td>0.811153</td>\n",
       "      <td>1.740198e+09</td>\n",
       "      <td>1.740198e+09</td>\n",
       "      <td>None</td>\n",
       "      <td>0.799213</td>\n",
       "      <td>0.807710</td>\n",
       "      <td>0.813587</td>\n",
       "      <td>0.797528</td>\n",
       "      <td>0.820692</td>\n",
       "      <td>0.827614</td>\n",
       "      <td>0.815069</td>\n",
       "      <td>0.805447</td>\n",
       "      <td>0.824616</td>\n",
       "      <td>NaN</td>\n",
       "      <td>(MinMaxScaler(), RFE(estimator=ExtraTreesClass...</td>\n",
       "    </tr>\n",
       "    <tr>\n",
       "      <th>1</th>\n",
       "      <td>0.848068</td>\n",
       "      <td>NaN</td>\n",
       "      <td>NaN</td>\n",
       "      <td>&lt;tpot.search_spaces.pipelines.sequential.Seque...</td>\n",
       "      <td>0.0</td>\n",
       "      <td>0.846478</td>\n",
       "      <td>1.740197e+09</td>\n",
       "      <td>1.740197e+09</td>\n",
       "      <td>None</td>\n",
       "      <td>0.839894</td>\n",
       "      <td>0.844619</td>\n",
       "      <td>0.848321</td>\n",
       "      <td>0.846915</td>\n",
       "      <td>0.857902</td>\n",
       "      <td>0.855875</td>\n",
       "      <td>0.827655</td>\n",
       "      <td>0.850938</td>\n",
       "      <td>0.862081</td>\n",
       "      <td>NaN</td>\n",
       "      <td>(Passthrough(), RFE(estimator=ExtraTreesClassi...</td>\n",
       "    </tr>\n",
       "    <tr>\n",
       "      <th>4</th>\n",
       "      <td>0.831502</td>\n",
       "      <td>NaN</td>\n",
       "      <td>NaN</td>\n",
       "      <td>&lt;tpot.search_spaces.pipelines.sequential.Seque...</td>\n",
       "      <td>0.0</td>\n",
       "      <td>0.817219</td>\n",
       "      <td>1.740197e+09</td>\n",
       "      <td>1.740197e+09</td>\n",
       "      <td>None</td>\n",
       "      <td>0.827888</td>\n",
       "      <td>0.821911</td>\n",
       "      <td>0.825558</td>\n",
       "      <td>0.830020</td>\n",
       "      <td>0.831529</td>\n",
       "      <td>0.836955</td>\n",
       "      <td>0.844634</td>\n",
       "      <td>0.832499</td>\n",
       "      <td>0.846805</td>\n",
       "      <td>NaN</td>\n",
       "      <td>(StandardScaler(), VarianceThreshold(threshold...</td>\n",
       "    </tr>\n",
       "    <tr>\n",
       "      <th>5</th>\n",
       "      <td>0.830374</td>\n",
       "      <td>NaN</td>\n",
       "      <td>NaN</td>\n",
       "      <td>&lt;tpot.search_spaces.pipelines.sequential.Seque...</td>\n",
       "      <td>0.0</td>\n",
       "      <td>0.817150</td>\n",
       "      <td>1.740197e+09</td>\n",
       "      <td>1.740197e+09</td>\n",
       "      <td>None</td>\n",
       "      <td>0.831885</td>\n",
       "      <td>0.820694</td>\n",
       "      <td>0.824899</td>\n",
       "      <td>0.824409</td>\n",
       "      <td>0.827861</td>\n",
       "      <td>0.833923</td>\n",
       "      <td>0.844308</td>\n",
       "      <td>0.832798</td>\n",
       "      <td>0.845818</td>\n",
       "      <td>NaN</td>\n",
       "      <td>(MinMaxScaler(), SelectFromModel(estimator=Ext...</td>\n",
       "    </tr>\n",
       "    <tr>\n",
       "      <th>6</th>\n",
       "      <td>0.850091</td>\n",
       "      <td>NaN</td>\n",
       "      <td>NaN</td>\n",
       "      <td>&lt;tpot.search_spaces.pipelines.sequential.Seque...</td>\n",
       "      <td>0.0</td>\n",
       "      <td>0.843524</td>\n",
       "      <td>1.740197e+09</td>\n",
       "      <td>1.740197e+09</td>\n",
       "      <td>None</td>\n",
       "      <td>0.841176</td>\n",
       "      <td>0.840619</td>\n",
       "      <td>0.846209</td>\n",
       "      <td>0.849561</td>\n",
       "      <td>0.854367</td>\n",
       "      <td>0.858035</td>\n",
       "      <td>0.860165</td>\n",
       "      <td>0.845179</td>\n",
       "      <td>0.862077</td>\n",
       "      <td>NaN</td>\n",
       "      <td>(Normalizer(norm='max'), SelectFwe(alpha=0.000...</td>\n",
       "    </tr>\n",
       "    <tr>\n",
       "      <th>...</th>\n",
       "      <td>...</td>\n",
       "      <td>...</td>\n",
       "      <td>...</td>\n",
       "      <td>...</td>\n",
       "      <td>...</td>\n",
       "      <td>...</td>\n",
       "      <td>...</td>\n",
       "      <td>...</td>\n",
       "      <td>...</td>\n",
       "      <td>...</td>\n",
       "      <td>...</td>\n",
       "      <td>...</td>\n",
       "      <td>...</td>\n",
       "      <td>...</td>\n",
       "      <td>...</td>\n",
       "      <td>...</td>\n",
       "      <td>...</td>\n",
       "      <td>...</td>\n",
       "      <td>...</td>\n",
       "      <td>...</td>\n",
       "    </tr>\n",
       "    <tr>\n",
       "      <th>983</th>\n",
       "      <td>0.886974</td>\n",
       "      <td>(13, 13)</td>\n",
       "      <td>ind_mutate</td>\n",
       "      <td>&lt;tpot.search_spaces.pipelines.sequential.Seque...</td>\n",
       "      <td>9.0</td>\n",
       "      <td>0.871580</td>\n",
       "      <td>1.740198e+09</td>\n",
       "      <td>1.740198e+09</td>\n",
       "      <td>None</td>\n",
       "      <td>0.887762</td>\n",
       "      <td>0.882504</td>\n",
       "      <td>0.860872</td>\n",
       "      <td>0.898100</td>\n",
       "      <td>0.885523</td>\n",
       "      <td>0.893527</td>\n",
       "      <td>0.904779</td>\n",
       "      <td>0.884557</td>\n",
       "      <td>0.900537</td>\n",
       "      <td>NaN</td>\n",
       "      <td>(StandardScaler(), SelectFromModel(estimator=E...</td>\n",
       "    </tr>\n",
       "    <tr>\n",
       "      <th>986</th>\n",
       "      <td>0.850281</td>\n",
       "      <td>(35, 470)</td>\n",
       "      <td>ind_crossover</td>\n",
       "      <td>&lt;tpot.search_spaces.pipelines.sequential.Seque...</td>\n",
       "      <td>9.0</td>\n",
       "      <td>0.837493</td>\n",
       "      <td>1.740198e+09</td>\n",
       "      <td>1.740198e+09</td>\n",
       "      <td>None</td>\n",
       "      <td>0.858289</td>\n",
       "      <td>0.844141</td>\n",
       "      <td>0.851260</td>\n",
       "      <td>0.848909</td>\n",
       "      <td>0.853002</td>\n",
       "      <td>0.856132</td>\n",
       "      <td>0.845356</td>\n",
       "      <td>0.847830</td>\n",
       "      <td>0.860393</td>\n",
       "      <td>NaN</td>\n",
       "      <td>(StandardScaler(), SelectPercentile(percentile...</td>\n",
       "    </tr>\n",
       "    <tr>\n",
       "      <th>990</th>\n",
       "      <td>0.878811</td>\n",
       "      <td>(866, 866)</td>\n",
       "      <td>ind_mutate</td>\n",
       "      <td>&lt;tpot.search_spaces.pipelines.sequential.Seque...</td>\n",
       "      <td>9.0</td>\n",
       "      <td>0.875842</td>\n",
       "      <td>1.740198e+09</td>\n",
       "      <td>1.740198e+09</td>\n",
       "      <td>None</td>\n",
       "      <td>0.862567</td>\n",
       "      <td>0.881858</td>\n",
       "      <td>0.885539</td>\n",
       "      <td>0.874347</td>\n",
       "      <td>0.888858</td>\n",
       "      <td>0.891205</td>\n",
       "      <td>0.882103</td>\n",
       "      <td>0.863952</td>\n",
       "      <td>0.881838</td>\n",
       "      <td>NaN</td>\n",
       "      <td>(Normalizer(norm='l1'), SelectPercentile(perce...</td>\n",
       "    </tr>\n",
       "    <tr>\n",
       "      <th>991</th>\n",
       "      <td>0.835669</td>\n",
       "      <td>(72, 855)</td>\n",
       "      <td>ind_crossover</td>\n",
       "      <td>&lt;tpot.search_spaces.pipelines.sequential.Seque...</td>\n",
       "      <td>9.0</td>\n",
       "      <td>0.838375</td>\n",
       "      <td>1.740198e+09</td>\n",
       "      <td>1.740198e+09</td>\n",
       "      <td>None</td>\n",
       "      <td>0.844572</td>\n",
       "      <td>0.837234</td>\n",
       "      <td>0.822799</td>\n",
       "      <td>0.818868</td>\n",
       "      <td>0.840971</td>\n",
       "      <td>0.845122</td>\n",
       "      <td>0.816390</td>\n",
       "      <td>0.840709</td>\n",
       "      <td>0.851650</td>\n",
       "      <td>NaN</td>\n",
       "      <td>(MinMaxScaler(), SelectPercentile(percentile=4...</td>\n",
       "    </tr>\n",
       "    <tr>\n",
       "      <th>992</th>\n",
       "      <td>0.892459</td>\n",
       "      <td>(898, 898)</td>\n",
       "      <td>ind_mutate</td>\n",
       "      <td>&lt;tpot.search_spaces.pipelines.sequential.Seque...</td>\n",
       "      <td>9.0</td>\n",
       "      <td>0.881991</td>\n",
       "      <td>1.740198e+09</td>\n",
       "      <td>1.740198e+09</td>\n",
       "      <td>None</td>\n",
       "      <td>0.893987</td>\n",
       "      <td>0.882514</td>\n",
       "      <td>0.887394</td>\n",
       "      <td>0.902290</td>\n",
       "      <td>0.894360</td>\n",
       "      <td>0.903944</td>\n",
       "      <td>0.884672</td>\n",
       "      <td>0.889588</td>\n",
       "      <td>0.903849</td>\n",
       "      <td>NaN</td>\n",
       "      <td>(RobustScaler(quantile_range=(0.0911728428421,...</td>\n",
       "    </tr>\n",
       "  </tbody>\n",
       "</table>\n",
       "<p>326 rows × 20 columns</p>\n",
       "</div>"
      ],
      "text/plain": [
       "     roc_auc_score     Parents Variation_Function  \\\n",
       "0         0.812263         NaN                NaN   \n",
       "1         0.848068         NaN                NaN   \n",
       "4         0.831502         NaN                NaN   \n",
       "5         0.830374         NaN                NaN   \n",
       "6         0.850091         NaN                NaN   \n",
       "..             ...         ...                ...   \n",
       "983       0.886974    (13, 13)         ind_mutate   \n",
       "986       0.850281   (35, 470)      ind_crossover   \n",
       "990       0.878811  (866, 866)         ind_mutate   \n",
       "991       0.835669   (72, 855)      ind_crossover   \n",
       "992       0.892459  (898, 898)         ind_mutate   \n",
       "\n",
       "                                            Individual  Generation  \\\n",
       "0    <tpot.search_spaces.pipelines.sequential.Seque...         0.0   \n",
       "1    <tpot.search_spaces.pipelines.sequential.Seque...         0.0   \n",
       "4    <tpot.search_spaces.pipelines.sequential.Seque...         0.0   \n",
       "5    <tpot.search_spaces.pipelines.sequential.Seque...         0.0   \n",
       "6    <tpot.search_spaces.pipelines.sequential.Seque...         0.0   \n",
       "..                                                 ...         ...   \n",
       "983  <tpot.search_spaces.pipelines.sequential.Seque...         9.0   \n",
       "986  <tpot.search_spaces.pipelines.sequential.Seque...         9.0   \n",
       "990  <tpot.search_spaces.pipelines.sequential.Seque...         9.0   \n",
       "991  <tpot.search_spaces.pipelines.sequential.Seque...         9.0   \n",
       "992  <tpot.search_spaces.pipelines.sequential.Seque...         9.0   \n",
       "\n",
       "     roc_auc_score_step_0  Submitted Timestamp  Completed Timestamp  \\\n",
       "0                0.811153         1.740198e+09         1.740198e+09   \n",
       "1                0.846478         1.740197e+09         1.740197e+09   \n",
       "4                0.817219         1.740197e+09         1.740197e+09   \n",
       "5                0.817150         1.740197e+09         1.740197e+09   \n",
       "6                0.843524         1.740197e+09         1.740197e+09   \n",
       "..                    ...                  ...                  ...   \n",
       "983              0.871580         1.740198e+09         1.740198e+09   \n",
       "986              0.837493         1.740198e+09         1.740198e+09   \n",
       "990              0.875842         1.740198e+09         1.740198e+09   \n",
       "991              0.838375         1.740198e+09         1.740198e+09   \n",
       "992              0.881991         1.740198e+09         1.740198e+09   \n",
       "\n",
       "    Eval Error  roc_auc_score_step_1  roc_auc_score_step_2  \\\n",
       "0         None              0.799213              0.807710   \n",
       "1         None              0.839894              0.844619   \n",
       "4         None              0.827888              0.821911   \n",
       "5         None              0.831885              0.820694   \n",
       "6         None              0.841176              0.840619   \n",
       "..         ...                   ...                   ...   \n",
       "983       None              0.887762              0.882504   \n",
       "986       None              0.858289              0.844141   \n",
       "990       None              0.862567              0.881858   \n",
       "991       None              0.844572              0.837234   \n",
       "992       None              0.893987              0.882514   \n",
       "\n",
       "     roc_auc_score_step_3  roc_auc_score_step_4  roc_auc_score_step_5  \\\n",
       "0                0.813587              0.797528              0.820692   \n",
       "1                0.848321              0.846915              0.857902   \n",
       "4                0.825558              0.830020              0.831529   \n",
       "5                0.824899              0.824409              0.827861   \n",
       "6                0.846209              0.849561              0.854367   \n",
       "..                    ...                   ...                   ...   \n",
       "983              0.860872              0.898100              0.885523   \n",
       "986              0.851260              0.848909              0.853002   \n",
       "990              0.885539              0.874347              0.888858   \n",
       "991              0.822799              0.818868              0.840971   \n",
       "992              0.887394              0.902290              0.894360   \n",
       "\n",
       "     roc_auc_score_step_6  roc_auc_score_step_7  roc_auc_score_step_8  \\\n",
       "0                0.827614              0.815069              0.805447   \n",
       "1                0.855875              0.827655              0.850938   \n",
       "4                0.836955              0.844634              0.832499   \n",
       "5                0.833923              0.844308              0.832798   \n",
       "6                0.858035              0.860165              0.845179   \n",
       "..                    ...                   ...                   ...   \n",
       "983              0.893527              0.904779              0.884557   \n",
       "986              0.856132              0.845356              0.847830   \n",
       "990              0.891205              0.882103              0.863952   \n",
       "991              0.845122              0.816390              0.840709   \n",
       "992              0.903944              0.884672              0.889588   \n",
       "\n",
       "     roc_auc_score_step_9  Pareto_Front  \\\n",
       "0                0.824616           NaN   \n",
       "1                0.862081           NaN   \n",
       "4                0.846805           NaN   \n",
       "5                0.845818           NaN   \n",
       "6                0.862077           NaN   \n",
       "..                    ...           ...   \n",
       "983              0.900537           NaN   \n",
       "986              0.860393           NaN   \n",
       "990              0.881838           NaN   \n",
       "991              0.851650           NaN   \n",
       "992              0.903849           NaN   \n",
       "\n",
       "                                              Instance  \n",
       "0    (MinMaxScaler(), RFE(estimator=ExtraTreesClass...  \n",
       "1    (Passthrough(), RFE(estimator=ExtraTreesClassi...  \n",
       "4    (StandardScaler(), VarianceThreshold(threshold...  \n",
       "5    (MinMaxScaler(), SelectFromModel(estimator=Ext...  \n",
       "6    (Normalizer(norm='max'), SelectFwe(alpha=0.000...  \n",
       "..                                                 ...  \n",
       "983  (StandardScaler(), SelectFromModel(estimator=E...  \n",
       "986  (StandardScaler(), SelectPercentile(percentile...  \n",
       "990  (Normalizer(norm='l1'), SelectPercentile(perce...  \n",
       "991  (MinMaxScaler(), SelectPercentile(percentile=4...  \n",
       "992  (RobustScaler(quantile_range=(0.0911728428421,...  \n",
       "\n",
       "[326 rows x 20 columns]"
      ]
     },
     "execution_count": 10,
     "metadata": {},
     "output_type": "execute_result"
    }
   ],
   "source": [
    "est.evaluated_individuals[est.evaluated_individuals['roc_auc_score_step_9']>0]"
   ]
  },
  {
   "attachments": {},
   "cell_type": "markdown",
   "metadata": {},
   "source": [
    "All of the above methods can be used independently or simultaneously as done below:"
   ]
  },
  {
   "cell_type": "code",
   "execution_count": 12,
   "metadata": {},
   "outputs": [
    {
     "name": "stderr",
     "output_type": "stream",
     "text": [
      "Generation:  10%|█         | 1/10 [01:34<14:09, 94.40s/it]"
     ]
    },
    {
     "name": "stdout",
     "output_type": "stream",
     "text": [
      "Generation:  1\n",
      "Best roc_auc_score score: 0.8515086951804098\n"
     ]
    },
    {
     "name": "stderr",
     "output_type": "stream",
     "text": [
      "Generation:  20%|██        | 2/10 [02:26<09:14, 69.36s/it]"
     ]
    },
    {
     "name": "stdout",
     "output_type": "stream",
     "text": [
      "Generation:  2\n",
      "Best roc_auc_score score: 0.8515086951804098\n"
     ]
    },
    {
     "name": "stderr",
     "output_type": "stream",
     "text": [
      "Generation:  30%|███       | 3/10 [03:41<08:23, 71.97s/it]"
     ]
    },
    {
     "name": "stdout",
     "output_type": "stream",
     "text": [
      "Generation:  3\n",
      "Best roc_auc_score score: 0.8515086951804098\n"
     ]
    },
    {
     "name": "stderr",
     "output_type": "stream",
     "text": [
      "Generation:  40%|████      | 4/10 [04:52<07:09, 71.53s/it]"
     ]
    },
    {
     "name": "stdout",
     "output_type": "stream",
     "text": [
      "Generation:  4\n",
      "Best roc_auc_score score: 0.8515086951804098\n"
     ]
    },
    {
     "name": "stderr",
     "output_type": "stream",
     "text": [
      "Generation:  50%|█████     | 5/10 [05:52<05:37, 67.57s/it]"
     ]
    },
    {
     "name": "stdout",
     "output_type": "stream",
     "text": [
      "Generation:  5\n",
      "Best roc_auc_score score: 0.8515086951804098\n"
     ]
    },
    {
     "name": "stderr",
     "output_type": "stream",
     "text": [
      "Generation:  60%|██████    | 6/10 [07:13<04:48, 72.10s/it]"
     ]
    },
    {
     "name": "stdout",
     "output_type": "stream",
     "text": [
      "Generation:  6\n",
      "Best roc_auc_score score: 0.8515086951804098\n"
     ]
    },
    {
     "name": "stderr",
     "output_type": "stream",
     "text": [
      "Generation:  70%|███████   | 7/10 [08:06<03:17, 65.84s/it]"
     ]
    },
    {
     "name": "stdout",
     "output_type": "stream",
     "text": [
      "Generation:  7\n",
      "Best roc_auc_score score: 0.8515086951804098\n"
     ]
    },
    {
     "name": "stderr",
     "output_type": "stream",
     "text": [
      "Generation:  80%|████████  | 8/10 [08:57<02:02, 61.13s/it]"
     ]
    },
    {
     "name": "stdout",
     "output_type": "stream",
     "text": [
      "Generation:  8\n",
      "Best roc_auc_score score: 0.8515086951804098\n"
     ]
    },
    {
     "name": "stderr",
     "output_type": "stream",
     "text": [
      "Generation:  90%|█████████ | 9/10 [09:39<00:55, 55.14s/it]"
     ]
    },
    {
     "name": "stdout",
     "output_type": "stream",
     "text": [
      "Generation:  9\n",
      "Best roc_auc_score score: 0.8515086951804098\n"
     ]
    },
    {
     "name": "stderr",
     "output_type": "stream",
     "text": [
      "Generation: 100%|██████████| 10/10 [10:17<00:00, 61.70s/it]"
     ]
    },
    {
     "name": "stdout",
     "output_type": "stream",
     "text": [
      "Generation:  10\n",
      "Best roc_auc_score score: 0.8515086951804098\n"
     ]
    },
    {
     "name": "stderr",
     "output_type": "stream",
     "text": [
      "\n"
     ]
    },
    {
     "name": "stdout",
     "output_type": "stream",
     "text": [
      "total time: 621.607882976532\n",
      "test score:  0.9084772293865335\n"
     ]
    }
   ],
   "source": [
    "est = tpot.TPOTEstimator(  \n",
    "                            generations=10,\n",
    "                            max_time_mins=None,\n",
    "                            scorers=['roc_auc_ovr'],\n",
    "                            scorers_weights=[1],\n",
    "                            classification=True,\n",
    "                            search_space = search_space,\n",
    "                            population_size=30,\n",
    "                            n_jobs=3,\n",
    "                            cv=cv,\n",
    "                            verbose=3,\n",
    "\n",
    "                            initial_population_size=initial_population_size,\n",
    "                            population_scaling = population_scaling,\n",
    "                            generations_until_end_population = generations_until_end_population,\n",
    "                            \n",
    "                            budget_range = budget_range,\n",
    "                            generations_until_end_budget=generations_until_end_budget,\n",
    "                            \n",
    "                            threshold_evaluation_pruning = threshold_evaluation_pruning,\n",
    "                            threshold_evaluation_scaling = threshold_evaluation_scaling,\n",
    "\n",
    "                            selection_evaluation_pruning  = selection_evaluation_pruning,\n",
    "                            selection_evaluation_scaling = selection_evaluation_scaling,\n",
    "                            )\n",
    "\n",
    "\n",
    "start = time.time()\n",
    "est.fit(X_train, y_train)\n",
    "print(f\"total time: {time.time()-start}\")\n",
    "print(\"test score: \", scorer(est, X_test, y_test))"
   ]
  }
 ],
 "metadata": {
  "kernelspec": {
   "display_name": "tpotenv",
   "language": "python",
   "name": "python3"
  },
  "language_info": {
   "codemirror_mode": {
    "name": "ipython",
    "version": 3
   },
   "file_extension": ".py",
   "mimetype": "text/x-python",
   "name": "python",
   "nbconvert_exporter": "python",
   "pygments_lexer": "ipython3",
   "version": "3.10.16"
  },
  "orig_nbformat": 4
 },
 "nbformat": 4,
 "nbformat_minor": 2
}
