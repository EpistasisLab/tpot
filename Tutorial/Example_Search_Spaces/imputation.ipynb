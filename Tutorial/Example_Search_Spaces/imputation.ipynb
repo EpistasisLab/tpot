{
 "cells": [
  {
   "cell_type": "code",
   "execution_count": null,
   "metadata": {},
   "outputs": [],
   "source": [
    "from ConfigSpace import ConfigurationSpace\n",
    "from ConfigSpace import ConfigurationSpace, Integer, Float, Categorical, Normal\n",
    "\n",
    "simple_imputer = ConfigurationSpace(\n",
    "    space = {\n",
    "        'strategy' : Categorical('strategy', [['mean','median',], ['most_frequent'] ]),\n",
    "        'add_indicator' : Categorical('add_indicator', [True, False]), \n",
    "    }\n",
    ")\n",
    "\n",
    "simple_imputer.sample_configuration()"
   ]
  },
  {
   "cell_type": "code",
   "execution_count": 11,
   "metadata": {},
   "outputs": [
    {
     "data": {
      "text/plain": [
       "Configuration(values={\n",
       "  '2': 2,\n",
       "  'a': 2,\n",
       "})"
      ]
     },
     "execution_count": 11,
     "metadata": {},
     "output_type": "execute_result"
    }
   ],
   "source": [
    "from ConfigSpace import ConfigurationSpace, EqualsCondition\n",
    "import ConfigSpace\n",
    "\n",
    "cs = ConfigurationSpace({\n",
    "\n",
    "    \"1\": [1,2,3],\n",
    "    \"2\": ConfigSpace.Constant(\"2\", 2),\n",
    "\n",
    "    \"a\": [1, 2, 3],\n",
    "\n",
    "})\n",
    "\n",
    "cond = EqualsCondition(cs['1'], cs['a'], 1)\n",
    "cond2 = EqualsCondition(cs['2'], cs['a'], 2)\n",
    "\n",
    "cs.add_condition(cond)\n",
    "cs.add_condition(cond2)\n",
    "\n",
    "cs.sample_configuration()"
   ]
  }
 ],
 "metadata": {
  "kernelspec": {
   "display_name": "tpot2env",
   "language": "python",
   "name": "python3"
  },
  "language_info": {
   "codemirror_mode": {
    "name": "ipython",
    "version": 3
   },
   "file_extension": ".py",
   "mimetype": "text/x-python",
   "name": "python",
   "nbconvert_exporter": "python",
   "pygments_lexer": "ipython3",
   "version": "3.10.13"
  }
 },
 "nbformat": 4,
 "nbformat_minor": 2
}
