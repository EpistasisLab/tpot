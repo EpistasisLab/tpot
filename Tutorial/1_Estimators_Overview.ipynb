{
 "cells": [
  {
   "attachments": {},
   "cell_type": "markdown",
   "metadata": {},
   "source": [
    "TPOT1 and TPOTSteady use a standard evolutionary algorithm that evaluates exactly population_size individuals each generation. The next generation does not start until the previous is completely finished evaluating. This leads to underutilized CPU time as the cores are waiting for the last individuals to finish training. \n",
    "\n",
    "TPOTEstimatorSteadyState will generate and evaluate the next individual as soon as an individual finishes evaluation. The number of individuals being evaluated is determined by the n_jobs parameter. There is no longer a concept of generations. The population_size parameter now refers to the size of the list of evaluated parents. When an individual is evaluated, the selection method updates the list of parents. Then "
   ]
  },
  {
   "cell_type": "code",
   "execution_count": 2,
   "metadata": {},
   "outputs": [
    {
     "name": "stderr",
     "output_type": "stream",
     "text": [
      "Evaluations: : 111it [00:30,  3.64it/s]\n"
     ]
    },
    {
     "name": "stdout",
     "output_type": "stream",
     "text": [
      "1.0\n"
     ]
    }
   ],
   "source": [
    "import tpot2\n",
    "import sklearn\n",
    "import sklearn.datasets\n",
    "\n",
    "est = tpot2.TPOTEstimatorSteadyState(  population_size=30,\n",
    "                                     initial_population_size=30,\n",
    "                            scorers=['roc_auc_ovr'], #scorers can be a list of strings or a list of scorers. These get evaluated during cross validation. \n",
    "                            scorers_weights=[1],\n",
    "\n",
    "                            classification=True,\n",
    "                            n_jobs=1,\n",
    "                                                        #List of other objective functions. All objective functions take in an untrained GraphPipeline and return a score or a list of scores\n",
    "                            other_objective_functions= [ ],\n",
    "                            \n",
    "                            #List of weights for the other objective functions. Must be the same length as other_objective_functions. By default, bigger is better is set to True. \n",
    "                            other_objective_functions_weights=[],\n",
    "\n",
    "                            max_eval_time_seconds=15,\n",
    "                            max_time_seconds=30,\n",
    "                            verbose=2)\n",
    "\n",
    "\n",
    "scorer = sklearn.metrics.get_scorer('roc_auc_ovo')\n",
    "X, y = sklearn.datasets.load_iris(return_X_y=True)\n",
    "X_train, X_test, y_train, y_test = sklearn.model_selection.train_test_split(X, y, train_size=0.75, test_size=0.25)\n",
    "est.fit(X_train, y_train)\n",
    "print(scorer(est, X_test, y_test))\n"
   ]
  },
  {
   "cell_type": "code",
   "execution_count": 3,
   "metadata": {},
   "outputs": [
    {
     "data": {
      "image/png": "[encoded data removed]",
      "text/plain": [
       "<Figure size 640x480 with 1 Axes>"
      ]
     },
     "metadata": {},
     "output_type": "display_data"
    }
   ],
   "source": [
    "fitted_pipeline = est.fitted_pipeline_ # access best pipeline directly\n",
    "fitted_pipeline.plot()"
   ]
  },
  {
   "cell_type": "code",
   "execution_count": 4,
   "metadata": {},
   "outputs": [
    {
     "data": {
      "text/html": [
       "<div>\n",
       "<style scoped>\n",
       "    .dataframe tbody tr th:only-of-type {\n",
       "        vertical-align: middle;\n",
       "    }\n",
       "\n",
       "    .dataframe tbody tr th {\n",
       "        vertical-align: top;\n",
       "    }\n",
       "\n",
       "    .dataframe thead th {\n",
       "        text-align: right;\n",
       "    }\n",
       "</style>\n",
       "<table border=\"1\" class=\"dataframe\">\n",
       "  <thead>\n",
       "    <tr style=\"text-align: right;\">\n",
       "      <th></th>\n",
       "      <th>roc_auc_score</th>\n",
       "      <th>Parents</th>\n",
       "      <th>Variation_Function</th>\n",
       "      <th>Individual</th>\n",
       "      <th>Submitted Timestamp</th>\n",
       "      <th>Completed Timestamp</th>\n",
       "      <th>Pareto_Front</th>\n",
       "      <th>Instance</th>\n",
       "    </tr>\n",
       "  </thead>\n",
       "  <tbody>\n",
       "    <tr>\n",
       "      <th>0</th>\n",
       "      <td>0.99631</td>\n",
       "      <td>NaN</td>\n",
       "      <td>NaN</td>\n",
       "      <td>['LogisticRegression_1']</td>\n",
       "      <td>1.690848e+09</td>\n",
       "      <td>1.690848e+09</td>\n",
       "      <td>NaN</td>\n",
       "      <td>['LogisticRegression_1']</td>\n",
       "    </tr>\n",
       "    <tr>\n",
       "      <th>1</th>\n",
       "      <td>0.982956</td>\n",
       "      <td>NaN</td>\n",
       "      <td>NaN</td>\n",
       "      <td>['DecisionTreeClassifier_1']</td>\n",
       "      <td>1.690848e+09</td>\n",
       "      <td>1.690848e+09</td>\n",
       "      <td>NaN</td>\n",
       "      <td>['DecisionTreeClassifier_1']</td>\n",
       "    </tr>\n",
       "    <tr>\n",
       "      <th>2</th>\n",
       "      <td>0.953313</td>\n",
       "      <td>NaN</td>\n",
       "      <td>NaN</td>\n",
       "      <td>['KNeighborsClassifier_1']</td>\n",
       "      <td>1.690848e+09</td>\n",
       "      <td>1.690848e+09</td>\n",
       "      <td>NaN</td>\n",
       "      <td>['KNeighborsClassifier_1']</td>\n",
       "    </tr>\n",
       "    <tr>\n",
       "      <th>3</th>\n",
       "      <td>0.5</td>\n",
       "      <td>NaN</td>\n",
       "      <td>NaN</td>\n",
       "      <td>['GradientBoostingClassifier_1']</td>\n",
       "      <td>1.690848e+09</td>\n",
       "      <td>1.690848e+09</td>\n",
       "      <td>NaN</td>\n",
       "      <td>['GradientBoostingClassifier_1']</td>\n",
       "    </tr>\n",
       "    <tr>\n",
       "      <th>4</th>\n",
       "      <td>0.983413</td>\n",
       "      <td>NaN</td>\n",
       "      <td>NaN</td>\n",
       "      <td>['ExtraTreesClassifier_1']</td>\n",
       "      <td>1.690848e+09</td>\n",
       "      <td>1.690848e+09</td>\n",
       "      <td>NaN</td>\n",
       "      <td>['ExtraTreesClassifier_1']</td>\n",
       "    </tr>\n",
       "    <tr>\n",
       "      <th>...</th>\n",
       "      <td>...</td>\n",
       "      <td>...</td>\n",
       "      <td>...</td>\n",
       "      <td>...</td>\n",
       "      <td>...</td>\n",
       "      <td>...</td>\n",
       "      <td>...</td>\n",
       "      <td>...</td>\n",
       "    </tr>\n",
       "    <tr>\n",
       "      <th>106</th>\n",
       "      <td>0.989742</td>\n",
       "      <td>(104,)</td>\n",
       "      <td>mutate</td>\n",
       "      <td>[('MLPClassifier_1', 'SelectPercentile_1')]</td>\n",
       "      <td>1.690848e+09</td>\n",
       "      <td>1.690848e+09</td>\n",
       "      <td>NaN</td>\n",
       "      <td>[('MLPClassifier_1', 'SelectPercentile_1')]</td>\n",
       "    </tr>\n",
       "    <tr>\n",
       "      <th>107</th>\n",
       "      <td>0.99631</td>\n",
       "      <td>(12,)</td>\n",
       "      <td>mutate</td>\n",
       "      <td>['MLPClassifier_1']</td>\n",
       "      <td>1.690848e+09</td>\n",
       "      <td>1.690848e+09</td>\n",
       "      <td>NaN</td>\n",
       "      <td>['MLPClassifier_1']</td>\n",
       "    </tr>\n",
       "    <tr>\n",
       "      <th>108</th>\n",
       "      <td>0.99754</td>\n",
       "      <td>(97, 93)</td>\n",
       "      <td>crossover_then_mutate</td>\n",
       "      <td>[('MLPClassifier_1', 'PolynomialFeatures_1'), ...</td>\n",
       "      <td>1.690848e+09</td>\n",
       "      <td>1.690848e+09</td>\n",
       "      <td>NaN</td>\n",
       "      <td>[('MLPClassifier_1', 'PolynomialFeatures_1'), ...</td>\n",
       "    </tr>\n",
       "    <tr>\n",
       "      <th>109</th>\n",
       "      <td>0.989484</td>\n",
       "      <td>(80, 61)</td>\n",
       "      <td>crossover</td>\n",
       "      <td>[('MLPClassifier_1', 'FastICA_1')]</td>\n",
       "      <td>1.690848e+09</td>\n",
       "      <td>1.690848e+09</td>\n",
       "      <td>NaN</td>\n",
       "      <td>[('MLPClassifier_1', 'FastICA_1')]</td>\n",
       "    </tr>\n",
       "    <tr>\n",
       "      <th>110</th>\n",
       "      <td>0.994008</td>\n",
       "      <td>(71,)</td>\n",
       "      <td>mutate</td>\n",
       "      <td>[('GradientBoostingClassifier_1', 'PolynomialF...</td>\n",
       "      <td>1.690848e+09</td>\n",
       "      <td>1.690848e+09</td>\n",
       "      <td>NaN</td>\n",
       "      <td>[('GradientBoostingClassifier_1', 'PolynomialF...</td>\n",
       "    </tr>\n",
       "  </tbody>\n",
       "</table>\n",
       "<p>111 rows × 8 columns</p>\n",
       "</div>"
      ],
      "text/plain": [
       "    roc_auc_score   Parents     Variation_Function  \\\n",
       "0         0.99631       NaN                    NaN   \n",
       "1        0.982956       NaN                    NaN   \n",
       "2        0.953313       NaN                    NaN   \n",
       "3             0.5       NaN                    NaN   \n",
       "4        0.983413       NaN                    NaN   \n",
       "..            ...       ...                    ...   \n",
       "106      0.989742    (104,)                 mutate   \n",
       "107       0.99631     (12,)                 mutate   \n",
       "108       0.99754  (97, 93)  crossover_then_mutate   \n",
       "109      0.989484  (80, 61)              crossover   \n",
       "110      0.994008     (71,)                 mutate   \n",
       "\n",
       "                                            Individual  Submitted Timestamp  \\\n",
       "0                             ['LogisticRegression_1']         1.690848e+09   \n",
       "1                         ['DecisionTreeClassifier_1']         1.690848e+09   \n",
       "2                           ['KNeighborsClassifier_1']         1.690848e+09   \n",
       "3                     ['GradientBoostingClassifier_1']         1.690848e+09   \n",
       "4                           ['ExtraTreesClassifier_1']         1.690848e+09   \n",
       "..                                                 ...                  ...   \n",
       "106        [('MLPClassifier_1', 'SelectPercentile_1')]         1.690848e+09   \n",
       "107                                ['MLPClassifier_1']         1.690848e+09   \n",
       "108  [('MLPClassifier_1', 'PolynomialFeatures_1'), ...         1.690848e+09   \n",
       "109                 [('MLPClassifier_1', 'FastICA_1')]         1.690848e+09   \n",
       "110  [('GradientBoostingClassifier_1', 'PolynomialF...         1.690848e+09   \n",
       "\n",
       "     Completed Timestamp  Pareto_Front  \\\n",
       "0           1.690848e+09           NaN   \n",
       "1           1.690848e+09           NaN   \n",
       "2           1.690848e+09           NaN   \n",
       "3           1.690848e+09           NaN   \n",
       "4           1.690848e+09           NaN   \n",
       "..                   ...           ...   \n",
       "106         1.690848e+09           NaN   \n",
       "107         1.690848e+09           NaN   \n",
       "108         1.690848e+09           NaN   \n",
       "109         1.690848e+09           NaN   \n",
       "110         1.690848e+09           NaN   \n",
       "\n",
       "                                              Instance  \n",
       "0                             ['LogisticRegression_1']  \n",
       "1                         ['DecisionTreeClassifier_1']  \n",
       "2                           ['KNeighborsClassifier_1']  \n",
       "3                     ['GradientBoostingClassifier_1']  \n",
       "4                           ['ExtraTreesClassifier_1']  \n",
       "..                                                 ...  \n",
       "106        [('MLPClassifier_1', 'SelectPercentile_1')]  \n",
       "107                                ['MLPClassifier_1']  \n",
       "108  [('MLPClassifier_1', 'PolynomialFeatures_1'), ...  \n",
       "109                 [('MLPClassifier_1', 'FastICA_1')]  \n",
       "110  [('GradientBoostingClassifier_1', 'PolynomialF...  \n",
       "\n",
       "[111 rows x 8 columns]"
      ]
     },
     "execution_count": 4,
     "metadata": {},
     "output_type": "execute_result"
    }
   ],
   "source": [
    "#view the summary of all evaluated individuals as a pandas dataframe\n",
    "est.evaluated_individuals"
   ]
  },
  {
   "cell_type": "code",
   "execution_count": 5,
   "metadata": {},
   "outputs": [
    {
     "data": {
      "text/html": [
       "<div>\n",
       "<style scoped>\n",
       "    .dataframe tbody tr th:only-of-type {\n",
       "        vertical-align: middle;\n",
       "    }\n",
       "\n",
       "    .dataframe tbody tr th {\n",
       "        vertical-align: top;\n",
       "    }\n",
       "\n",
       "    .dataframe thead th {\n",
       "        text-align: right;\n",
       "    }\n",
       "</style>\n",
       "<table border=\"1\" class=\"dataframe\">\n",
       "  <thead>\n",
       "    <tr style=\"text-align: right;\">\n",
       "      <th></th>\n",
       "      <th>roc_auc_score</th>\n",
       "      <th>Parents</th>\n",
       "      <th>Variation_Function</th>\n",
       "      <th>Individual</th>\n",
       "      <th>Submitted Timestamp</th>\n",
       "      <th>Completed Timestamp</th>\n",
       "      <th>Pareto_Front</th>\n",
       "      <th>Instance</th>\n",
       "    </tr>\n",
       "  </thead>\n",
       "  <tbody>\n",
       "    <tr>\n",
       "      <th>69</th>\n",
       "      <td>0.99754</td>\n",
       "      <td>(51,)</td>\n",
       "      <td>mutate</td>\n",
       "      <td>[('LogisticRegression_1', 'PolynomialFeatures_...</td>\n",
       "      <td>1.690848e+09</td>\n",
       "      <td>1.690848e+09</td>\n",
       "      <td>1.0</td>\n",
       "      <td>[('LogisticRegression_1', 'PolynomialFeatures_...</td>\n",
       "    </tr>\n",
       "  </tbody>\n",
       "</table>\n",
       "</div>"
      ],
      "text/plain": [
       "   roc_auc_score Parents Variation_Function  \\\n",
       "69       0.99754   (51,)             mutate   \n",
       "\n",
       "                                           Individual  Submitted Timestamp  \\\n",
       "69  [('LogisticRegression_1', 'PolynomialFeatures_...         1.690848e+09   \n",
       "\n",
       "    Completed Timestamp  Pareto_Front  \\\n",
       "69         1.690848e+09           1.0   \n",
       "\n",
       "                                             Instance  \n",
       "69  [('LogisticRegression_1', 'PolynomialFeatures_...  "
      ]
     },
     "execution_count": 5,
     "metadata": {},
     "output_type": "execute_result"
    }
   ],
   "source": [
    "#view pareto front as a pandas dataframe\n",
    "est.pareto_front"
   ]
  },
  {
   "cell_type": "markdown",
   "metadata": {},
   "source": [
    "TPOTEstimator does a standard evolutionary algorithm. In this version, the next generation doesn't start evaluation until all individuals in the previous generation are finished evaluating."
   ]
  },
  {
   "cell_type": "code",
   "execution_count": 1,
   "metadata": {},
   "outputs": [
    {
     "name": "stderr",
     "output_type": "stream",
     "text": [
      "Generation: 100%|██████████| 5/5 [00:35<00:00,  7.17s/it]\n"
     ]
    },
    {
     "name": "stdout",
     "output_type": "stream",
     "text": [
      "0.9947089947089948\n"
     ]
    }
   ],
   "source": [
    "import tpot2\n",
    "import sklearn\n",
    "import sklearn.datasets\n",
    "\n",
    "est = tpot2.TPOTEstimator(  population_size=30,\n",
    "                            generations=5,\n",
    "                            scorers=['roc_auc_ovr'], #scorers can be a list of strings or a list of scorers. These get evaluated during cross validation. \n",
    "                            scorers_weights=[1],\n",
    "                            classification=True,\n",
    "                            n_jobs=1, \n",
    "                            early_stop=5, #how many generations with no improvement to stop after\n",
    "                            \n",
    "                            #List of other objective functions. All objective functions take in an untrained GraphPipeline and return a score or a list of scores\n",
    "                            other_objective_functions= [ ],\n",
    "                            \n",
    "                            #List of weights for the other objective functions. Must be the same length as other_objective_functions. By default, bigger is better is set to True. \n",
    "                            other_objective_functions_weights=[],\n",
    "                            verbose=2)\n",
    "\n",
    "scorer = sklearn.metrics.get_scorer('roc_auc_ovo')\n",
    "X, y = sklearn.datasets.load_iris(return_X_y=True)\n",
    "X_train, X_test, y_train, y_test = sklearn.model_selection.train_test_split(X, y, train_size=0.75, test_size=0.25)\n",
    "est.fit(X_train, y_train)\n",
    "print(scorer(est, X_test, y_test))"
   ]
  },
  {
   "cell_type": "markdown",
   "metadata": {},
   "source": [
    "The TPOTClassifier and TPOTRegressor are set default parameters for the TPOTEstimator for Classification and Regression.\n",
    "In the future, a metalearner will be used to predict the best values for a given dataset."
   ]
  },
  {
   "cell_type": "code",
   "execution_count": 5,
   "metadata": {},
   "outputs": [
    {
     "name": "stdout",
     "output_type": "stream",
     "text": [
      "terminating parallel evaluation due to timeout\n",
      "-4522.135573056978\n"
     ]
    }
   ],
   "source": [
    "import tpot2\n",
    "import sklearn\n",
    "import sklearn.metrics\n",
    "import sklearn.datasets\n",
    "\n",
    "est = tpot2.tpot_estimator.templates.TPOTRegressor(n_jobs=4, max_time_seconds=10)\n",
    "\n",
    "\n",
    "scorer = sklearn.metrics.get_scorer('neg_mean_squared_error')\n",
    "X, y = sklearn.datasets.load_diabetes(return_X_y=True)\n",
    "X_train, X_test, y_train, y_test = sklearn.model_selection.train_test_split(X, y, train_size=0.75, test_size=0.25)\n",
    "est.fit(X_train, y_train)\n",
    "print(scorer(est, X_test, y_test))"
   ]
  },
  {
   "cell_type": "code",
   "execution_count": 6,
   "metadata": {},
   "outputs": [
    {
     "name": "stdout",
     "output_type": "stream",
     "text": [
      "terminating parallel evaluation due to timeout\n",
      "0.9999490921793659\n"
     ]
    }
   ],
   "source": [
    "import tpot2\n",
    "import sklearn\n",
    "import sklearn.datasets\n",
    "\n",
    "est = tpot2.tpot_estimator.templates.TPOTClassifier(n_jobs=4, max_time_seconds=10)\n",
    "\n",
    "\n",
    "scorer = sklearn.metrics.get_scorer('roc_auc_ovo')\n",
    "X, y = sklearn.datasets.load_digits(return_X_y=True)\n",
    "X_train, X_test, y_train, y_test = sklearn.model_selection.train_test_split(X, y, train_size=0.75, test_size=0.25)\n",
    "est.fit(X_train, y_train)\n",
    "print(scorer(est, X_test, y_test))"
   ]
  }
 ],
 "metadata": {
  "kernelspec": {
   "display_name": "tpot_dev",
   "language": "python",
   "name": "python3"
  },
  "language_info": {
   "codemirror_mode": {
    "name": "ipython",
    "version": 3
   },
   "file_extension": ".py",
   "mimetype": "text/x-python",
   "name": "python",
   "nbconvert_exporter": "python",
   "pygments_lexer": "ipython3",
   "version": "3.10.11"
  },
  "orig_nbformat": 4,
  "vscode": {
   "interpreter": {
    "hash": "7fe1fe9ef32cd5efd76326a08046147513534f0dd2318301a1a96ae9071c1c4e"
   }
  }
 },
 "nbformat": 4,
 "nbformat_minor": 2
}
