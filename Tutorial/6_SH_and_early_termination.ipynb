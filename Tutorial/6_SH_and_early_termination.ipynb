{
 "cells": [
  {
   "attachments": {},
   "cell_type": "markdown",
   "metadata": {},
   "source": [
    "Several functions in TPOT2 allow for a scaling parameter over the course of either the generations or over the cross validation folds (or when using the evolutionary algorithm on it's own, the discrete evaluation steps).\n",
    "\n",
    "These parameters will take in a list of two values, a starting and ending value. These will be interpolated with a nondecreasing/nonincreasing function. specifically, it uses a beta distribution with alpha set to one an a user submitted beta function."
   ]
  },
  {
   "attachments": {},
   "cell_type": "markdown",
   "metadata": {},
   "source": [
    "The following cell illustrates how the population size and budget change over time with the given settings."
   ]
  },
  {
   "cell_type": "code",
   "execution_count": 28,
   "metadata": {},
   "outputs": [
    {
     "data": {
      "image/png": "[encoded data removed]",
      "text/plain": [
       "<Figure size 640x480 with 2 Axes>"
      ]
     },
     "metadata": {},
     "output_type": "display_data"
    },
    {
     "ename": "",
     "evalue": "",
     "output_type": "error",
     "traceback": [
      "\u001b[1;31mThe Kernel crashed while executing code in the the current cell or a previous cell. Please review the code in the cell(s) to identify a possible cause of the failure. Click <a href='https://aka.ms/vscodeJupyterKernelCrash'>here</a> for more info. View Jupyter <a href='command:jupyter.viewOutput'>log</a> for further details."
     ]
    }
   ],
   "source": [
    "import matplotlib.pyplot as plt\n",
    "import tpot2\n",
    "\n",
    "population_size=60\n",
    "initial_population_size=100\n",
    "population_scaling = .5\n",
    "generations_until_end_population = 50\n",
    "\n",
    "budget_range = [.3,1]\n",
    "generations_until_end_budget=50\n",
    "budget_scaling = .5\n",
    "stepwise_steps = 5\n",
    "\n",
    "#Population and budget use stepwise\n",
    "fig, ax1 = plt.subplots()\n",
    "ax2 = ax1.twinx()\n",
    "\n",
    "interpolated_values_population = tpot2.beta_interpolation(start=initial_population_size, end=population_size, n=generations_until_end_population, n_steps=stepwise_steps, scale=population_scaling)\n",
    "interpolated_values_budget = tpot2.beta_interpolation(start=budget_range[0], end=budget_range[1], n=generations_until_end_budget, n_steps=stepwise_steps, scale=budget_scaling)\n",
    "ax1.step(list(range(len(interpolated_values_population))), interpolated_values_population, label=f\"population size\")\n",
    "ax2.step(list(range(len(interpolated_values_budget))), interpolated_values_budget, label=f\"budget\", color='r')\n",
    "ax1.set_xlabel(\"generation\")\n",
    "ax1.set_ylabel(\"population size\")\n",
    "ax2.set_ylabel(\"bugdet\")\n",
    "\n",
    "ax1.legend(loc='center left', bbox_to_anchor=(1.1, 0.4))\n",
    "ax2.legend(loc='center left', bbox_to_anchor=(1.1, 0.3))\n",
    "plt.show()\n"
   ]
  },
  {
   "cell_type": "code",
   "execution_count": 3,
   "metadata": {},
   "outputs": [
    {
     "name": "stdout",
     "output_type": "stream",
     "text": [
      "total time: 195.15858101844788\n"
     ]
    }
   ],
   "source": [
    "# A Graph pipeline starting with at least one selector as a leaf, potentially followed by a series\n",
    "# of stacking classifiers or transformers, and ending with a classifier. The graph will have at most 15 nodes and a max depth of 6.\n",
    "\n",
    "import tpot2\n",
    "import sklearn\n",
    "import sklearn.datasets\n",
    "import numpy as np\n",
    "import time\n",
    "import tpot2\n",
    "import pandas as pd\n",
    "import numpy as np\n",
    "from sklearn.linear_model import LogisticRegression\n",
    "import sklearn\n",
    "\n",
    "X, y = sklearn.datasets.load_iris(return_X_y=True)\n",
    "\n",
    "est = tpot2.TPOTEstimator(  \n",
    "                            generations=5,\n",
    "                            scorers=['roc_auc_ovr'],\n",
    "                            scorers_weights=[1],\n",
    "                            classification=True,\n",
    "                            root_config_dict=\"classifiers\",\n",
    "                            inner_config_dict= [\"transformers\"],\n",
    "                            leaf_config_dict=\"selectors\",\n",
    "                            n_jobs=32,\n",
    "                            cv=2,\n",
    "                            max_eval_time_seconds=30,\n",
    "\n",
    "                            population_size=population_size,\n",
    "                            initial_population_size=initial_population_size,\n",
    "                            population_scaling = population_scaling,\n",
    "                            generations_until_end_population = generations_until_end_population,\n",
    "                            \n",
    "                            budget_range = budget_range,\n",
    "                            generations_until_end_budget=generations_until_end_budget,\n",
    "                            verbose=0)\n",
    "\n",
    "\n",
    "start = time.time()\n",
    "est.fit(X, y)\n",
    "print(f\"total time: {time.time()-start}\")"
   ]
  },
  {
   "cell_type": "code",
   "execution_count": 4,
   "metadata": {},
   "outputs": [
    {
     "name": "stdout",
     "output_type": "stream",
     "text": [
      "total time: 121.15116667747498\n"
     ]
    }
   ],
   "source": [
    "est = tpot2.TPOTEstimator(  \n",
    "                            generations=5,\n",
    "                            scorers=['roc_auc_ovr'],\n",
    "                            scorers_weights=[1],\n",
    "                            classification=True,\n",
    "                            root_config_dict=\"classifiers\",\n",
    "                            inner_config_dict= [\"transformers\"],\n",
    "                            leaf_config_dict=\"selectors\",\n",
    "                            n_jobs=32,\n",
    "                            cv=2,\n",
    "                            max_eval_time_seconds=30,\n",
    "\n",
    "                            population_size=60,\n",
    "                            initial_population_size=100,\n",
    "                            population_scaling = .5,\n",
    "                            generations_until_end_population = 4,\n",
    "                            \n",
    "                            # budget_range = [.3,1],\n",
    "                            # generations_until_end_budget=4,\n",
    "\n",
    "                            threshold_evaluation_early_stop = [30,50],\n",
    "                            threshold_evaluation_scaling = .2,\n",
    "                            selection_evaluation_early_stop = [.5,1],\n",
    "                            selection_evaluation_scaling = .2,\n",
    "\n",
    "                            verbose=0)\n",
    "\n",
    "\n",
    "start = time.time()\n",
    "est.fit(X, y)\n",
    "print(f\"total time: {time.time()-start}\")"
   ]
  },
  {
   "cell_type": "code",
   "execution_count": 5,
   "metadata": {},
   "outputs": [
    {
     "name": "stdout",
     "output_type": "stream",
     "text": [
      "total time: 121.64871382713318\n"
     ]
    }
   ],
   "source": [
    "est = tpot2.TPOTEstimator(  \n",
    "                            generations=5,\n",
    "                            scorers=['roc_auc_ovr'],\n",
    "                            scorers_weights=[1],\n",
    "                            classification=True,\n",
    "                            root_config_dict=\"classifiers\",\n",
    "                            inner_config_dict= [\"transformers\"],\n",
    "                            leaf_config_dict=\"selectors\",\n",
    "                            n_jobs=32,\n",
    "                            cv=2,\n",
    "                            max_eval_time_seconds=30,\n",
    "\n",
    "                            population_size=60,\n",
    "                            initial_population_size=100,\n",
    "                            population_scaling = .5,\n",
    "                            generations_until_end_population = 4,\n",
    "                            \n",
    "                            # budget_range = [.3,1],\n",
    "                            # generations_until_end_budget=4,\n",
    "\n",
    "                            # threshold_evaluation_early_stop = [30,50],\n",
    "                            # threshold_evaluation_scaling = .2,\n",
    "                            # selection_evaluation_early_stop = [.5,1],\n",
    "                            # selection_evaluation_scaling = .2,\n",
    "\n",
    "                            verbose=0)\n",
    "\n",
    "\n",
    "start = time.time()\n",
    "est.fit(X, y)\n",
    "print(f\"total time: {time.time()-start}\")"
   ]
  },
  {
   "cell_type": "code",
   "execution_count": 6,
   "metadata": {},
   "outputs": [
    {
     "name": "stdout",
     "output_type": "stream",
     "text": [
      "total time: 82.53835797309875\n"
     ]
    }
   ],
   "source": [
    "est = tpot2.TPOTEstimator(  \n",
    "                            generations=5,\n",
    "                            scorers=['roc_auc_ovr'],\n",
    "                            scorers_weights=[1],\n",
    "                            classification=True,\n",
    "                            root_config_dict=\"classifiers\",\n",
    "                            inner_config_dict= [\"transformers\"],\n",
    "                            leaf_config_dict=\"selectors\",\n",
    "                            n_jobs=32,\n",
    "                            cv=2,\n",
    "                            max_eval_time_seconds=30,\n",
    "\n",
    "                            population_size=60,\n",
    "                            initial_population_size=100,\n",
    "                            population_scaling = .5,\n",
    "                            generations_until_end_population = 4,\n",
    "                            \n",
    "                            budget_range = [.3,1],\n",
    "                            generations_until_end_budget=4,\n",
    "\n",
    "                            # threshold_evaluation_early_stop = [30,50],\n",
    "                            # threshold_evaluation_scaling = .2,\n",
    "                            # selection_evaluation_early_stop = [.5,1],\n",
    "                            # selection_evaluation_scaling = .2,\n",
    "\n",
    "                            verbose=0)\n",
    "\n",
    "\n",
    "start = time.time()\n",
    "est.fit(X, y)\n",
    "print(f\"total time: {time.time()-start}\")"
   ]
  },
  {
   "cell_type": "code",
   "execution_count": 7,
   "metadata": {},
   "outputs": [
    {
     "name": "stdout",
     "output_type": "stream",
     "text": [
      "total time: 132.47541308403015\n"
     ]
    }
   ],
   "source": [
    "est = tpot2.TPOTEstimator(  \n",
    "                            generations=5,\n",
    "                            scorers=['roc_auc_ovr'],\n",
    "                            scorers_weights=[1],\n",
    "                            classification=True,\n",
    "                            root_config_dict=\"classifiers\",\n",
    "                            inner_config_dict= [\"transformers\"],\n",
    "                            leaf_config_dict=\"selectors\",\n",
    "                            n_jobs=32,\n",
    "                            cv=2,\n",
    "                            max_eval_time_seconds=30,\n",
    "\n",
    "                            population_size=60,\n",
    "                            initial_population_size=100,\n",
    "                            population_scaling = .5,\n",
    "                            generations_until_end_population = 4,\n",
    "                            \n",
    "                            # budget_range = [.3,1],\n",
    "                            # generations_until_end_budget=4,\n",
    "\n",
    "                            # threshold_evaluation_early_stop = [30,50],\n",
    "                            # threshold_evaluation_scaling = .2,\n",
    "                            # selection_evaluation_early_stop = [.5,1],\n",
    "                            # selection_evaluation_scaling = .2,\n",
    "\n",
    "                            verbose=0)\n",
    "\n",
    "\n",
    "start = time.time()\n",
    "est.fit(X, y)\n",
    "print(f\"total time: {time.time()-start}\")"
   ]
  }
 ],
 "metadata": {
  "kernelspec": {
   "display_name": "tpot_dev",
   "language": "python",
   "name": "python3"
  },
  "language_info": {
   "codemirror_mode": {
    "name": "ipython",
    "version": 3
   },
   "file_extension": ".py",
   "mimetype": "text/x-python",
   "name": "python",
   "nbconvert_exporter": "python",
   "pygments_lexer": "ipython3",
   "version": "3.10.10"
  },
  "orig_nbformat": 4,
  "vscode": {
   "interpreter": {
    "hash": "7fe1fe9ef32cd5efd76326a08046147513534f0dd2318301a1a96ae9071c1c4e"
   }
  }
 },
 "nbformat": 4,
 "nbformat_minor": 2
}
