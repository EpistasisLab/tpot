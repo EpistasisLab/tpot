{
 "cells": [
  {
   "attachments": {},
   "cell_type": "markdown",
   "metadata": {},
   "source": [
    "Welcome to this Jupyter Notebook tutorial parameters relating to computational resources. In this tutorial, we will cover the following parameters:\n",
    "\n",
    "`population_size`\n",
    "\n",
    "`initial_population_size`\n",
    "\n",
    "`population_scaling`\n",
    "\n",
    "`generations_until_end_population`\n",
    "\n",
    "`budget_range`\n",
    "\n",
    "`generations_until_end_budget`\n",
    "\n",
    "`budget_scaling`\n",
    "\n",
    "`stepwise_steps`\n",
    "\n",
    "Population size is the number of individuals evaluated each generation. Budget refers to the proportion of data to sample. By manipulating these parameters, we can control how quickly the budget increases and how population size changes over time. Most often, this will be used to start the algorithm by evaluating a large number of pipelines on small subsets of the data to quickly narrow now best models, before later getting a better estimate with larger samples on fewer datasets. This can reduce overall computational cost by not spending as much time evaluating poor performing pipelines.\n",
    "\n",
    "`population_size` determines the number of individuals to evalaute each generation. Sometimes we may want to evaluate more or fewer individuals in the earlier generations. The `initial_population_size` parameter specifies the starting size of the population. The population size will gradually move from `initial_population_size` to `population_size` over the course of `generations_until_end_population` generations. `population_scaling` dictates how fast that scaling takes place. The interpolation over `generations_until_end_population` is done stepwise with the number of steps specified by `stepwise_steps`.\n",
    "\n",
    "The same process goes for the budget scaling. \n",
    "\n"
   ]
  },
  {
   "attachments": {},
   "cell_type": "markdown",
   "metadata": {},
   "source": [
    "The following cell illustrates how the population size and budget change over time with the given settings."
   ]
  },
  {
   "cell_type": "code",
   "execution_count": 2,
   "metadata": {},
   "outputs": [
    {
     "data": {
      "image/png": "[encoded data removed]",
      "text/plain": [
       "<Figure size 640x480 with 2 Axes>"
      ]
     },
     "metadata": {},
     "output_type": "display_data"
    }
   ],
   "source": [
    "import matplotlib.pyplot as plt\n",
    "import tpot2\n",
    "\n",
    "population_size=60\n",
    "initial_population_size=100\n",
    "population_scaling = .5\n",
    "generations_until_end_population = 50\n",
    "\n",
    "budget_range = [.3,1]\n",
    "generations_until_end_budget=50\n",
    "budget_scaling = .5\n",
    "stepwise_steps = 5\n",
    "\n",
    "#Population and budget use stepwise\n",
    "fig, ax1 = plt.subplots()\n",
    "ax2 = ax1.twinx()\n",
    "\n",
    "interpolated_values_population = tpot2.beta_interpolation(start=initial_population_size, end=population_size, n=generations_until_end_population, n_steps=stepwise_steps, scale=population_scaling)\n",
    "interpolated_values_budget = tpot2.beta_interpolation(start=budget_range[0], end=budget_range[1], n=generations_until_end_budget, n_steps=stepwise_steps, scale=budget_scaling)\n",
    "ax1.step(list(range(len(interpolated_values_population))), interpolated_values_population, label=f\"population size\")\n",
    "ax2.step(list(range(len(interpolated_values_budget))), interpolated_values_budget, label=f\"budget\", color='r')\n",
    "ax1.set_xlabel(\"generation\")\n",
    "ax1.set_ylabel(\"population size\")\n",
    "ax2.set_ylabel(\"bugdet\")\n",
    "\n",
    "ax1.legend(loc='center left', bbox_to_anchor=(1.1, 0.4))\n",
    "ax2.legend(loc='center left', bbox_to_anchor=(1.1, 0.3))\n",
    "plt.show()\n"
   ]
  },
  {
   "cell_type": "code",
   "execution_count": 3,
   "metadata": {},
   "outputs": [
    {
     "name": "stdout",
     "output_type": "stream",
     "text": [
      "total time: 195.15858101844788\n"
     ]
    }
   ],
   "source": [
    "# A Graph pipeline starting with at least one selector as a leaf, potentially followed by a series\n",
    "# of stacking classifiers or transformers, and ending with a classifier. The graph will have at most 15 nodes and a max depth of 6.\n",
    "\n",
    "import tpot2\n",
    "import sklearn\n",
    "import sklearn.datasets\n",
    "import numpy as np\n",
    "import time\n",
    "import tpot2\n",
    "import pandas as pd\n",
    "import numpy as np\n",
    "from sklearn.linear_model import LogisticRegression\n",
    "import sklearn\n",
    "\n",
    "X, y = sklearn.datasets.load_iris(return_X_y=True)\n",
    "\n",
    "est = tpot2.TPOTEstimator(  \n",
    "                            generations=5,\n",
    "                            scorers=['roc_auc_ovr'],\n",
    "                            scorers_weights=[1],\n",
    "                            classification=True,\n",
    "                            root_config_dict=\"classifiers\",\n",
    "                            inner_config_dict= [\"transformers\"],\n",
    "                            leaf_config_dict=\"selectors\",\n",
    "                            n_jobs=32,\n",
    "                            cv=2,\n",
    "                            max_eval_time_seconds=30,\n",
    "\n",
    "                            population_size=population_size,\n",
    "                            initial_population_size=initial_population_size,\n",
    "                            population_scaling = population_scaling,\n",
    "                            generations_until_end_population = generations_until_end_population,\n",
    "                            \n",
    "                            budget_range = budget_range,\n",
    "                            generations_until_end_budget=generations_until_end_budget,\n",
    "                            verbose=0)\n",
    "\n",
    "\n",
    "start = time.time()\n",
    "est.fit(X, y)\n",
    "print(f\"total time: {time.time()-start}\")"
   ]
  },
  {
   "attachments": {},
   "cell_type": "markdown",
   "metadata": {},
   "source": [
    "Tutorial on early termination of evaluating CV scores.\n",
    "\n",
    "We can further reduce computational load by terminating the evaluation of individual pipelines early if the first few CV scores are not promising. Note that this is different than early stopping of the full algorithm. In this section we will cover:\n",
    "\n",
    "`threshold_evaluation_early_stop`\n",
    "\n",
    "`threshold_evaluation_scaling`\n",
    "\n",
    "`min_history_threshold`\n",
    "\n",
    "`selection_evaluation_early_stop`\n",
    "\n",
    "`selection_evaluation_scaling`\n",
    "\n",
    "Threshold early stopping uses previous scores to identify and terminate the cross validation evaluation of poorly performing pipelines. We calculate the percentile scores from the previously evaluated pipelines. A pipeline must reach the given percentile each fold for the next to be evaluated, otherwise the pipeline is discarded.\n",
    "\n",
    "The `threshold_evaluation_early_stop` parameter is a list that specifies the starting and ending percentiles to use as a threshold for the evaluation early stopping. W The `threshold_evaluation_scaling` parameter is a float that controls the rate at which the threshold moves from the start to end percentile. The `min_history_threshold` parameter specifies the minimum number of previous scores needed before using threshold early stopping. This ensures that the algorithm has enough historical data to make an informed decision about when to stop evaluating pipelines.\n",
    "\n",
    "Selection early stopping uses a selection algorithm after each fold to select which algorithms will be evaluated for the next fold. For example, after evaluating 100 individuals on fold 1, we may want to only evaluate the best 50 for the remaining folds.\n",
    "\n",
    "The `selection_evaluation_early_stop` parameter is a list that specifies the lower and upper percentage of the population size to select each round of CV. This is used to determine which individuals to evaluate in the next generation. The `selection_evaluation_scaling` parameter is a float that controls the rate at which the selection threshold moves from the start to end percentile.\n",
    "\n",
    "By manipulating these parameters, we can control how the algorithm selects individuals to evaluate in the next generation and when to stop evaluating pipelines that are not performing well.\n",
    "\n",
    "In practice, the values of these parameters will depend on the specific problem and the available computational resources. \n",
    "\n",
    "In the following sections, we will show you how to set and manipulate these parameters using Python code in a Jupyter Notebook. We will also provide examples of how these parameters can affect the performance of the algorithm."
   ]
  },
  {
   "cell_type": "code",
   "execution_count": 12,
   "metadata": {},
   "outputs": [
    {
     "data": {
      "image/png": "[encoded data removed]",
      "text/plain": [
       "<Figure size 640x480 with 1 Axes>"
      ]
     },
     "metadata": {},
     "output_type": "display_data"
    }
   ],
   "source": [
    "import matplotlib.pyplot as plt\n",
    "import tpot2\n",
    "\n",
    "threshold_evaluation_early_stop = [30, 90]\n",
    "threshold_evaluation_scaling = .5\n",
    "cv = 5\n",
    "\n",
    "#Population and budget use stepwise\n",
    "fig, ax1 = plt.subplots()\n",
    "\n",
    "interpolated_values = tpot2.beta_interpolation(start=threshold_evaluation_early_stop[0], end=threshold_evaluation_early_stop[-1], n=cv, n_steps=cv, scale=threshold_evaluation_scaling)\n",
    "ax1.step(list(range(len(interpolated_values))), interpolated_values, label=f\"threshold\")\n",
    "ax1.set_xlabel(\"fold\")\n",
    "ax1.set_ylabel(\"percentile\")\n",
    "#ax1.legend(loc='center left', bbox_to_anchor=(1.1, 0.4))\n",
    "plt.show()\n"
   ]
  },
  {
   "cell_type": "code",
   "execution_count": 4,
   "metadata": {},
   "outputs": [
    {
     "name": "stdout",
     "output_type": "stream",
     "text": [
      "total time: 121.15116667747498\n"
     ]
    }
   ],
   "source": [
    "est = tpot2.TPOTEstimator(  \n",
    "                            generations=5,\n",
    "                            scorers=['roc_auc_ovr'],\n",
    "                            scorers_weights=[1],\n",
    "                            classification=True,\n",
    "                            root_config_dict=\"classifiers\",\n",
    "                            inner_config_dict= [\"transformers\"],\n",
    "                            leaf_config_dict=\"selectors\",\n",
    "                            n_jobs=32,\n",
    "                            cv=cv,\n",
    "                            \n",
    "                            # budget_range = [.3,1],\n",
    "                            # generations_until_end_budget=4,\n",
    "\n",
    "                            threshold_evaluation_early_stop = threshold_evaluation_early_stop,\n",
    "                            threshold_evaluation_scaling = threshold_evaluation_scaling,\n",
    "                            verbose=0)\n",
    "\n",
    "\n",
    "start = time.time()\n",
    "est.fit(X, y)\n",
    "print(f\"total time: {time.time()-start}\")"
   ]
  },
  {
   "cell_type": "code",
   "execution_count": 13,
   "metadata": {},
   "outputs": [
    {
     "data": {
      "image/png": "[encoded data removed]",
      "text/plain": [
       "<Figure size 640x480 with 1 Axes>"
      ]
     },
     "metadata": {},
     "output_type": "display_data"
    }
   ],
   "source": [
    "import matplotlib.pyplot as plt\n",
    "import tpot2\n",
    "\n",
    "selection_evaluation_early_stop = [.1, 1]\n",
    "selection_evaluation_scaling = .5\n",
    "cv = 5\n",
    "\n",
    "#Population and budget use stepwise\n",
    "fig, ax1 = plt.subplots()\n",
    "\n",
    "interpolated_values = tpot2.beta_interpolation(start=selection_evaluation_early_stop[0], end=selection_evaluation_early_stop[-1], n=cv, n_steps=cv, scale=selection_evaluation_scaling)\n",
    "ax1.step(list(range(len(interpolated_values))), interpolated_values, label=f\"threshold\")\n",
    "ax1.set_xlabel(\"fold\")\n",
    "ax1.set_ylabel(\"percent to select\")\n",
    "#ax1.legend(loc='center left', bbox_to_anchor=(1.1, 0.4))\n",
    "plt.show()\n"
   ]
  },
  {
   "cell_type": "code",
   "execution_count": null,
   "metadata": {},
   "outputs": [],
   "source": [
    "est = tpot2.TPOTEstimator(  \n",
    "                            generations=5,\n",
    "                            scorers=['roc_auc_ovr'],\n",
    "                            scorers_weights=[1],\n",
    "                            classification=True,\n",
    "                            root_config_dict=\"classifiers\",\n",
    "                            inner_config_dict= [\"transformers\"],\n",
    "                            leaf_config_dict=\"selectors\",\n",
    "                            n_jobs=32,\n",
    "                            cv=cv,\n",
    "\n",
    "                            selection_evaluation_early_stop  = selection_evaluation_early_stop,\n",
    "                            selection_evaluation_scaling = selection_evaluation_scaling,\n",
    "\n",
    "                            verbose=0)\n",
    "\n",
    "\n",
    "start = time.time()\n",
    "est.fit(X, y)\n",
    "print(f\"total time: {time.time()-start}\")"
   ]
  },
  {
   "attachments": {},
   "cell_type": "markdown",
   "metadata": {},
   "source": [
    "All of the above methods can be used independently or simultaneously as done below:"
   ]
  },
  {
   "cell_type": "code",
   "execution_count": 5,
   "metadata": {},
   "outputs": [
    {
     "name": "stdout",
     "output_type": "stream",
     "text": [
      "total time: 121.64871382713318\n"
     ]
    }
   ],
   "source": [
    "est = tpot2.TPOTEstimator(  \n",
    "                            generations=5,\n",
    "                            scorers=['roc_auc_ovr'],\n",
    "                            scorers_weights=[1],\n",
    "                            classification=True,\n",
    "                            root_config_dict=\"classifiers\",\n",
    "                            inner_config_dict= [\"transformers\"],\n",
    "                            leaf_config_dict=\"selectors\",\n",
    "                            n_jobs=32,\n",
    "                            cv=cv,\n",
    "\n",
    "                            population_size=population_size,\n",
    "                            initial_population_size=initial_population_size,\n",
    "                            population_scaling = population_scaling,\n",
    "                            generations_until_end_population = generations_until_end_population,\n",
    "                            \n",
    "                            budget_range = budget_range,\n",
    "                            generations_until_end_budget=generations_until_end_budget,\n",
    "                            \n",
    "                            threshold_evaluation_early_stop = threshold_evaluation_early_stop,\n",
    "                            threshold_evaluation_scaling = threshold_evaluation_scaling,\n",
    "\n",
    "                            selection_evaluation_early_stop  = selection_evaluation_early_stop,\n",
    "                            selection_evaluation_scaling = selection_evaluation_scaling,\n",
    "\n",
    "                            verbose=0)\n",
    "\n",
    "\n",
    "start = time.time()\n",
    "est.fit(X, y)\n",
    "print(f\"total time: {time.time()-start}\")"
   ]
  }
 ],
 "metadata": {
  "kernelspec": {
   "display_name": "tpot_dev",
   "language": "python",
   "name": "python3"
  },
  "language_info": {
   "codemirror_mode": {
    "name": "ipython",
    "version": 3
   },
   "file_extension": ".py",
   "mimetype": "text/x-python",
   "name": "python",
   "nbconvert_exporter": "python",
   "pygments_lexer": "ipython3",
   "version": "3.10.10"
  },
  "orig_nbformat": 4,
  "vscode": {
   "interpreter": {
    "hash": "7fe1fe9ef32cd5efd76326a08046147513534f0dd2318301a1a96ae9071c1c4e"
   }
  }
 },
 "nbformat": 4,
 "nbformat_minor": 2
}
