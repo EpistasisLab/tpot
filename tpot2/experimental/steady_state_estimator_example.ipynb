{
 "cells": [
  {
   "cell_type": "code",
   "execution_count": 1,
   "metadata": {},
   "outputs": [
    {
     "name": "stderr",
     "output_type": "stream",
     "text": [
      "2023-05-23 07:18:34,312 - distributed.diskutils - INFO - Found stale lock file and directory '/tmp/dask-worker-space/worker-y650rouh', purging\n",
      "2023-05-23 07:18:34,312 - distributed.diskutils - INFO - Found stale lock file and directory '/tmp/dask-worker-space/worker-o925tg1r', purging\n",
      "2023-05-23 07:18:34,312 - distributed.diskutils - INFO - Found stale lock file and directory '/tmp/dask-worker-space/worker-vccn3one', purging\n",
      "2023-05-23 07:18:34,313 - distributed.diskutils - INFO - Found stale lock file and directory '/tmp/dask-worker-space/worker-co6bdx7l', purging\n",
      "2023-05-23 07:18:34,313 - distributed.diskutils - INFO - Found stale lock file and directory '/tmp/dask-worker-space/worker-yx45p3er', purging\n",
      "2023-05-23 07:18:34,313 - distributed.diskutils - INFO - Found stale lock file and directory '/tmp/dask-worker-space/worker-t_hg9tsc', purging\n",
      "2023-05-23 07:18:34,313 - distributed.diskutils - INFO - Found stale lock file and directory '/tmp/dask-worker-space/worker-cch7fzs8', purging\n",
      "2023-05-23 07:18:34,313 - distributed.diskutils - INFO - Found stale lock file and directory '/tmp/dask-worker-space/worker-xt8jjfcq', purging\n",
      "2023-05-23 07:18:34,313 - distributed.diskutils - INFO - Found stale lock file and directory '/tmp/dask-worker-space/worker-eq96w4rz', purging\n",
      "2023-05-23 07:18:34,313 - distributed.diskutils - INFO - Found stale lock file and directory '/tmp/dask-worker-space/worker-9krq7pp5', purging\n",
      "Evaluations:   2%|▏         | 1/50 [00:01<01:22,  1.68s/it]"
     ]
    },
    {
     "name": "stdout",
     "output_type": "stream",
     "text": [
      "WARNING THIS INDIVIDUAL CAUSED AND EXCEPTION \n",
      " ['MultinomialNB_1'] \n",
      " Negative values in data passed to MultinomialNB (input X) \n",
      " Traceback (most recent call last):\n",
      "  File \"/home/ribeirop/Projects/TPOT_Dev/tpot2/tpot2/objectives.py\", line 53, in objective_nan_wrapper\n",
      "    value = func_timeout.func_timeout(timeout, objective_function, args=[individual], kwargs=objective_kwargs)\n",
      "  File \"/home/ribeirop/miniconda3/envs/tpot2env/lib/python3.10/site-packages/func_timeout/dafunc.py\", line 108, in func_timeout\n",
      "    raise_exception(exception)\n",
      "  File \"/home/ribeirop/miniconda3/envs/tpot2env/lib/python3.10/site-packages/func_timeout/py3_raise.py\", line 7, in raise_exception\n",
      "    raise exception[0] from None\n",
      "  File \"/home/ribeirop/Projects/TPOT_Dev/tpot2/tpot2/experimental/steady_state_estimator.py\", line 662, in objective_function\n",
      "    return objective_function_generator(\n",
      "  File \"/home/ribeirop/Projects/TPOT_Dev/tpot2/tpot2/experimental/steady_state_estimator.py\", line 1064, in objective_function_generator\n",
      "    cv_obj_scores = tpot2.estimator_objective_functions.cross_val_score_objective(sklearn.base.clone(pipeline),x,y,scorers=scorers, cv=cv , fold=step)\n",
      "  File \"/home/ribeirop/Projects/TPOT_Dev/tpot2/tpot2/estimator_objective_functions.py\", line 32, in cross_val_score_objective\n",
      "    this_fold_pipeline.fit(X_train,y_train)\n",
      "  File \"/home/ribeirop/Projects/TPOT_Dev/tpot2/tpot2/graphsklearn.py\", line 308, in fit\n",
      "    fit_sklearn_digraph(   graph=self.graph,\n",
      "  File \"/home/ribeirop/Projects/TPOT_Dev/tpot2/tpot2/graphsklearn.py\", line 152, in fit_sklearn_digraph\n",
      "    transformed, instance = estimator_fit_transform_override_cross_val_predict_cached(instance, this_X, y, cv=cross_val_predict_cv, method=method,subset_indexes=subset_indexes)\n",
      "  File \"/home/ribeirop/miniconda3/envs/tpot2env/lib/python3.10/site-packages/joblib/memory.py\", line 349, in __call__\n",
      "    return self.func(*args, **kwargs)\n",
      "  File \"/home/ribeirop/Projects/TPOT_Dev/tpot2/tpot2/graphsklearn.py\", line 76, in estimator_fit_transform_override_cross_val_predict\n",
      "    estimator.fit(X,y, **fit_params)\n",
      "  File \"/home/ribeirop/miniconda3/envs/tpot2env/lib/python3.10/site-packages/sklearn/naive_bayes.py\", line 776, in fit\n",
      "    self._count(X, Y)\n",
      "  File \"/home/ribeirop/miniconda3/envs/tpot2env/lib/python3.10/site-packages/sklearn/naive_bayes.py\", line 898, in _count\n",
      "    check_non_negative(X, \"MultinomialNB (input X)\")\n",
      "  File \"/home/ribeirop/miniconda3/envs/tpot2env/lib/python3.10/site-packages/sklearn/utils/validation.py\", line 1418, in check_non_negative\n",
      "    raise ValueError(\"Negative values in data passed to %s\" % whom)\n",
      "ValueError: Negative values in data passed to MultinomialNB (input X)\n",
      "\n",
      "Best roc_auc_score score: 0.963505707475918\n",
      "Best model_complexity_scorer score: 11.0\n"
     ]
    },
    {
     "name": "stderr",
     "output_type": "stream",
     "text": [
      "Evaluations:   6%|▌         | 3/50 [00:31<09:04, 11.57s/it]"
     ]
    },
    {
     "name": "stdout",
     "output_type": "stream",
     "text": [
      "WARNING AN INDIVIDUAL TIMED OUT: \n",
      " ['GradientBoostingClassifier_1'] \n",
      "\n",
      "WARNING AN INDIVIDUAL TIMED OUT: \n",
      " ['RandomForestClassifier_1'] \n",
      "\n",
      "WARNING AN INDIVIDUAL TIMED OUT: \n",
      " [('GaussianNB_1', 'FastICA_1')] \n",
      "\n",
      "Best roc_auc_score score: 0.963505707475918\n",
      "Best model_complexity_scorer score: 4.0\n"
     ]
    },
    {
     "name": "stderr",
     "output_type": "stream",
     "text": [
      "Evaluations:  10%|█         | 5/50 [00:32<04:21,  5.81s/it]"
     ]
    },
    {
     "name": "stdout",
     "output_type": "stream",
     "text": [
      "Best roc_auc_score score: 0.9697994728676657\n",
      "Best model_complexity_scorer score: 2.0\n"
     ]
    },
    {
     "name": "stderr",
     "output_type": "stream",
     "text": [
      "Evaluations:  14%|█▍        | 7/50 [00:33<02:35,  3.63s/it]"
     ]
    },
    {
     "name": "stdout",
     "output_type": "stream",
     "text": [
      "Best roc_auc_score score: 0.9758387331401523\n",
      "Best model_complexity_scorer score: 2.0\n"
     ]
    },
    {
     "name": "stderr",
     "output_type": "stream",
     "text": [
      "Evaluations:  18%|█▊        | 9/50 [00:34<01:40,  2.44s/it]"
     ]
    },
    {
     "name": "stdout",
     "output_type": "stream",
     "text": [
      "Best roc_auc_score score: 0.9758387331401523\n",
      "Best model_complexity_scorer score: 2.0\n"
     ]
    },
    {
     "name": "stderr",
     "output_type": "stream",
     "text": [
      "Evaluations:  22%|██▏       | 11/50 [00:39<01:35,  2.44s/it]"
     ]
    },
    {
     "name": "stdout",
     "output_type": "stream",
     "text": [
      "Best roc_auc_score score: 0.9758387331401523\n",
      "Best model_complexity_scorer score: 2.0\n",
      "WARNING THIS INDIVIDUAL CAUSED AND EXCEPTION \n",
      " ['MultinomialNB_1'] \n",
      " Negative values in data passed to MultinomialNB (input X) \n",
      " Traceback (most recent call last):\n",
      "  File \"/home/ribeirop/Projects/TPOT_Dev/tpot2/tpot2/objectives.py\", line 53, in objective_nan_wrapper\n",
      "    value = func_timeout.func_timeout(timeout, objective_function, args=[individual], kwargs=objective_kwargs)\n",
      "  File \"/home/ribeirop/miniconda3/envs/tpot2env/lib/python3.10/site-packages/func_timeout/dafunc.py\", line 108, in func_timeout\n",
      "    raise_exception(exception)\n",
      "  File \"/home/ribeirop/miniconda3/envs/tpot2env/lib/python3.10/site-packages/func_timeout/py3_raise.py\", line 7, in raise_exception\n",
      "    raise exception[0] from None\n",
      "  File \"/home/ribeirop/Projects/TPOT_Dev/tpot2/tpot2/experimental/steady_state_estimator.py\", line 662, in objective_function\n",
      "    return objective_function_generator(\n",
      "  File \"/home/ribeirop/Projects/TPOT_Dev/tpot2/tpot2/experimental/steady_state_estimator.py\", line 1064, in objective_function_generator\n",
      "    cv_obj_scores = tpot2.estimator_objective_functions.cross_val_score_objective(sklearn.base.clone(pipeline),x,y,scorers=scorers, cv=cv , fold=step)\n",
      "  File \"/home/ribeirop/Projects/TPOT_Dev/tpot2/tpot2/estimator_objective_functions.py\", line 32, in cross_val_score_objective\n",
      "    this_fold_pipeline.fit(X_train,y_train)\n",
      "  File \"/home/ribeirop/Projects/TPOT_Dev/tpot2/tpot2/graphsklearn.py\", line 308, in fit\n",
      "    fit_sklearn_digraph(   graph=self.graph,\n",
      "  File \"/home/ribeirop/Projects/TPOT_Dev/tpot2/tpot2/graphsklearn.py\", line 152, in fit_sklearn_digraph\n",
      "    transformed, instance = estimator_fit_transform_override_cross_val_predict_cached(instance, this_X, y, cv=cross_val_predict_cv, method=method,subset_indexes=subset_indexes)\n",
      "  File \"/home/ribeirop/miniconda3/envs/tpot2env/lib/python3.10/site-packages/joblib/memory.py\", line 349, in __call__\n",
      "    return self.func(*args, **kwargs)\n",
      "  File \"/home/ribeirop/Projects/TPOT_Dev/tpot2/tpot2/graphsklearn.py\", line 76, in estimator_fit_transform_override_cross_val_predict\n",
      "    estimator.fit(X,y, **fit_params)\n",
      "  File \"/home/ribeirop/miniconda3/envs/tpot2env/lib/python3.10/site-packages/sklearn/naive_bayes.py\", line 776, in fit\n",
      "    self._count(X, Y)\n",
      "  File \"/home/ribeirop/miniconda3/envs/tpot2env/lib/python3.10/site-packages/sklearn/naive_bayes.py\", line 898, in _count\n",
      "    check_non_negative(X, \"MultinomialNB (input X)\")\n",
      "  File \"/home/ribeirop/miniconda3/envs/tpot2env/lib/python3.10/site-packages/sklearn/utils/validation.py\", line 1418, in check_non_negative\n",
      "    raise ValueError(\"Negative values in data passed to %s\" % whom)\n",
      "ValueError: Negative values in data passed to MultinomialNB (input X)\n",
      "\n",
      "Best roc_auc_score score: 0.9758387331401523\n",
      "Best model_complexity_scorer score: 2.0\n"
     ]
    },
    {
     "name": "stderr",
     "output_type": "stream",
     "text": [
      "Evaluations:  30%|███       | 15/50 [00:40<00:45,  1.29s/it]"
     ]
    },
    {
     "name": "stdout",
     "output_type": "stream",
     "text": [
      "Best roc_auc_score score: 0.9758387331401523\n",
      "Best model_complexity_scorer score: 2.0\n"
     ]
    },
    {
     "name": "stderr",
     "output_type": "stream",
     "text": [
      "Evaluations:  34%|███▍      | 17/50 [00:56<01:41,  3.09s/it]"
     ]
    },
    {
     "name": "stdout",
     "output_type": "stream",
     "text": [
      "Best roc_auc_score score: 0.9758387331401523\n",
      "Best model_complexity_scorer score: 2.0\n",
      "WARNING THIS INDIVIDUAL CAUSED AND EXCEPTION \n",
      " ['MultinomialNB_1'] \n",
      " Negative values in data passed to MultinomialNB (input X) \n",
      " Traceback (most recent call last):\n",
      "  File \"/home/ribeirop/Projects/TPOT_Dev/tpot2/tpot2/objectives.py\", line 53, in objective_nan_wrapper\n",
      "    value = func_timeout.func_timeout(timeout, objective_function, args=[individual], kwargs=objective_kwargs)\n",
      "  File \"/home/ribeirop/miniconda3/envs/tpot2env/lib/python3.10/site-packages/func_timeout/dafunc.py\", line 108, in func_timeout\n",
      "    raise_exception(exception)\n",
      "  File \"/home/ribeirop/miniconda3/envs/tpot2env/lib/python3.10/site-packages/func_timeout/py3_raise.py\", line 7, in raise_exception\n",
      "    raise exception[0] from None\n",
      "  File \"/home/ribeirop/Projects/TPOT_Dev/tpot2/tpot2/experimental/steady_state_estimator.py\", line 662, in objective_function\n",
      "    return objective_function_generator(\n",
      "  File \"/home/ribeirop/Projects/TPOT_Dev/tpot2/tpot2/experimental/steady_state_estimator.py\", line 1064, in objective_function_generator\n",
      "    cv_obj_scores = tpot2.estimator_objective_functions.cross_val_score_objective(sklearn.base.clone(pipeline),x,y,scorers=scorers, cv=cv , fold=step)\n",
      "  File \"/home/ribeirop/Projects/TPOT_Dev/tpot2/tpot2/estimator_objective_functions.py\", line 32, in cross_val_score_objective\n",
      "    this_fold_pipeline.fit(X_train,y_train)\n",
      "  File \"/home/ribeirop/Projects/TPOT_Dev/tpot2/tpot2/graphsklearn.py\", line 308, in fit\n",
      "    fit_sklearn_digraph(   graph=self.graph,\n",
      "  File \"/home/ribeirop/Projects/TPOT_Dev/tpot2/tpot2/graphsklearn.py\", line 152, in fit_sklearn_digraph\n",
      "    transformed, instance = estimator_fit_transform_override_cross_val_predict_cached(instance, this_X, y, cv=cross_val_predict_cv, method=method,subset_indexes=subset_indexes)\n",
      "  File \"/home/ribeirop/miniconda3/envs/tpot2env/lib/python3.10/site-packages/joblib/memory.py\", line 349, in __call__\n",
      "    return self.func(*args, **kwargs)\n",
      "  File \"/home/ribeirop/Projects/TPOT_Dev/tpot2/tpot2/graphsklearn.py\", line 76, in estimator_fit_transform_override_cross_val_predict\n",
      "    estimator.fit(X,y, **fit_params)\n",
      "  File \"/home/ribeirop/miniconda3/envs/tpot2env/lib/python3.10/site-packages/sklearn/naive_bayes.py\", line 776, in fit\n",
      "    self._count(X, Y)\n",
      "  File \"/home/ribeirop/miniconda3/envs/tpot2env/lib/python3.10/site-packages/sklearn/naive_bayes.py\", line 898, in _count\n",
      "    check_non_negative(X, \"MultinomialNB (input X)\")\n",
      "  File \"/home/ribeirop/miniconda3/envs/tpot2env/lib/python3.10/site-packages/sklearn/utils/validation.py\", line 1418, in check_non_negative\n",
      "    raise ValueError(\"Negative values in data passed to %s\" % whom)\n",
      "ValueError: Negative values in data passed to MultinomialNB (input X)\n",
      "\n"
     ]
    },
    {
     "name": "stderr",
     "output_type": "stream",
     "text": [
      "Evaluations:  38%|███▊      | 19/50 [01:06<01:54,  3.68s/it]"
     ]
    },
    {
     "name": "stdout",
     "output_type": "stream",
     "text": [
      "Best roc_auc_score score: 0.9758387331401523\n",
      "Best model_complexity_scorer score: 2.0\n"
     ]
    },
    {
     "name": "stderr",
     "output_type": "stream",
     "text": [
      "Evaluations:  42%|████▏     | 21/50 [01:07<01:19,  2.73s/it]"
     ]
    },
    {
     "name": "stdout",
     "output_type": "stream",
     "text": [
      "Best roc_auc_score score: 0.9758387331401523\n",
      "Best model_complexity_scorer score: 2.0\n"
     ]
    },
    {
     "name": "stderr",
     "output_type": "stream",
     "text": [
      "Evaluations:  46%|████▌     | 23/50 [01:20<01:41,  3.74s/it]"
     ]
    },
    {
     "name": "stdout",
     "output_type": "stream",
     "text": [
      "Best roc_auc_score score: 0.9758387331401523\n",
      "Best model_complexity_scorer score: 2.0\n"
     ]
    },
    {
     "name": "stderr",
     "output_type": "stream",
     "text": [
      "Evaluations:  50%|█████     | 25/50 [01:24<01:22,  3.28s/it]"
     ]
    },
    {
     "name": "stdout",
     "output_type": "stream",
     "text": [
      "Best roc_auc_score score: 0.9758387331401523\n",
      "Best model_complexity_scorer score: 2.0\n"
     ]
    },
    {
     "name": "stderr",
     "output_type": "stream",
     "text": [
      "Evaluations:  54%|█████▍    | 27/50 [01:40<01:47,  4.66s/it]"
     ]
    },
    {
     "name": "stdout",
     "output_type": "stream",
     "text": [
      "Best roc_auc_score score: 0.9758387331401523\n",
      "Best model_complexity_scorer score: 2.0\n",
      "WARNING THIS INDIVIDUAL CAUSED AND EXCEPTION \n",
      " [('MultinomialNB_1', 'FeatureAgglomeration_1')] \n",
      " Negative values in data passed to MultinomialNB (input X) \n",
      " Traceback (most recent call last):\n",
      "  File \"/home/ribeirop/Projects/TPOT_Dev/tpot2/tpot2/objectives.py\", line 53, in objective_nan_wrapper\n",
      "    value = func_timeout.func_timeout(timeout, objective_function, args=[individual], kwargs=objective_kwargs)\n",
      "  File \"/home/ribeirop/miniconda3/envs/tpot2env/lib/python3.10/site-packages/func_timeout/dafunc.py\", line 108, in func_timeout\n",
      "    raise_exception(exception)\n",
      "  File \"/home/ribeirop/miniconda3/envs/tpot2env/lib/python3.10/site-packages/func_timeout/py3_raise.py\", line 7, in raise_exception\n",
      "    raise exception[0] from None\n",
      "  File \"/home/ribeirop/Projects/TPOT_Dev/tpot2/tpot2/experimental/steady_state_estimator.py\", line 662, in objective_function\n",
      "    return objective_function_generator(\n",
      "  File \"/home/ribeirop/Projects/TPOT_Dev/tpot2/tpot2/experimental/steady_state_estimator.py\", line 1064, in objective_function_generator\n",
      "    cv_obj_scores = tpot2.estimator_objective_functions.cross_val_score_objective(sklearn.base.clone(pipeline),x,y,scorers=scorers, cv=cv , fold=step)\n",
      "  File \"/home/ribeirop/Projects/TPOT_Dev/tpot2/tpot2/estimator_objective_functions.py\", line 32, in cross_val_score_objective\n",
      "    this_fold_pipeline.fit(X_train,y_train)\n",
      "  File \"/home/ribeirop/Projects/TPOT_Dev/tpot2/tpot2/graphsklearn.py\", line 308, in fit\n",
      "    fit_sklearn_digraph(   graph=self.graph,\n",
      "  File \"/home/ribeirop/Projects/TPOT_Dev/tpot2/tpot2/graphsklearn.py\", line 152, in fit_sklearn_digraph\n",
      "    transformed, instance = estimator_fit_transform_override_cross_val_predict_cached(instance, this_X, y, cv=cross_val_predict_cv, method=method,subset_indexes=subset_indexes)\n",
      "  File \"/home/ribeirop/miniconda3/envs/tpot2env/lib/python3.10/site-packages/joblib/memory.py\", line 349, in __call__\n",
      "    return self.func(*args, **kwargs)\n",
      "  File \"/home/ribeirop/Projects/TPOT_Dev/tpot2/tpot2/graphsklearn.py\", line 76, in estimator_fit_transform_override_cross_val_predict\n",
      "    estimator.fit(X,y, **fit_params)\n",
      "  File \"/home/ribeirop/miniconda3/envs/tpot2env/lib/python3.10/site-packages/sklearn/naive_bayes.py\", line 776, in fit\n",
      "    self._count(X, Y)\n",
      "  File \"/home/ribeirop/miniconda3/envs/tpot2env/lib/python3.10/site-packages/sklearn/naive_bayes.py\", line 898, in _count\n",
      "    check_non_negative(X, \"MultinomialNB (input X)\")\n",
      "  File \"/home/ribeirop/miniconda3/envs/tpot2env/lib/python3.10/site-packages/sklearn/utils/validation.py\", line 1418, in check_non_negative\n",
      "    raise ValueError(\"Negative values in data passed to %s\" % whom)\n",
      "ValueError: Negative values in data passed to MultinomialNB (input X)\n",
      "\n"
     ]
    },
    {
     "ename": "",
     "evalue": "",
     "output_type": "error",
     "traceback": [
      "\u001b[1;31mThe Kernel crashed while executing code in the the current cell or a previous cell. Please review the code in the cell(s) to identify a possible cause of the failure. Click <a href='https://aka.ms/vscodeJupyterKernelCrash'>here</a> for more info. View Jupyter <a href='command:jupyter.viewOutput'>log</a> for further details."
     ]
    }
   ],
   "source": [
    "from sklearn.linear_model import LogisticRegression\n",
    "import tpot2\n",
    "import numpy as np\n",
    "import copy\n",
    "from tqdm import tqdm, tnrange, tqdm_notebook\n",
    "import sklearn\n",
    "import sklearn.metrics\n",
    "import sklearn.datasets\n",
    "import tpot2 \n",
    "\n",
    "def params_LogisticRegression(trial, name=None):\n",
    "    params = {}\n",
    "    params['solver'] = trial.suggest_categorical(name=f'solver_{name}',\n",
    "                                                 choices=[f'newton-cg', 'lbfgs', 'liblinear', 'sag', 'saga'])\n",
    "    params['dual'] = False\n",
    "    params['penalty'] = 'l2'\n",
    "    params['C'] = trial.suggest_float(f'C_{name}', 1e-4, 1e4, log=True)\n",
    "    params['l1_ratio'] = None\n",
    "    if params['solver'] == 'liblinear':\n",
    "        params['penalty'] = trial.suggest_categorical(name=f'penalty_{name}', choices=['l1', 'l2'])\n",
    "        if params['penalty'] == 'l2':\n",
    "            params['dual'] = trial.suggest_categorical(name=f'dual_{name}', choices=[True, False])\n",
    "        else:\n",
    "            params['penalty'] = 'l1'\n",
    "\n",
    "    params['class_weight'] = trial.suggest_categorical(name=f'class_weight_{name}', choices=['balanced'])\n",
    "    param_grid = {'solver': params['solver'],\n",
    "                  'penalty': params['penalty'],\n",
    "                  'dual': params['dual'],\n",
    "                  'multi_class': 'auto',\n",
    "                  'l1_ratio': params['l1_ratio'],\n",
    "                  'C': params['C'],\n",
    "                  'n_jobs': 1,\n",
    "                  }\n",
    "    return param_grid\n",
    "\n",
    "\n",
    "\n",
    "import tpot2\n",
    "import sklearn\n",
    "import sklearn.datasets\n",
    "\n",
    "est = tpot2.TPOTEstimatorSteadyState(  population_size=10,\n",
    "                                        initial_population_size = 10,\n",
    "                                        max_queue_size = 10,\n",
    "                                        min_individuals_finished = 1,\n",
    "                                        max_evaluated_individuals = 50,\n",
    "                            scorers=['roc_auc_ovr',tpot2.model_complexity_scorer], #scorers can be a list of strings or a list of scorers. These get evaluated during cross validation. \n",
    "                            scorers_weights=[1,-1],\n",
    "                            classification=True,\n",
    "                            root_config_dict =  tpot2.make_classifier_config_dictionary(),\n",
    "                            #inner_config_dict= \"arithmetic_transformer\",\n",
    "                            #leaf_config_dict=\"feature_set_selector\",\n",
    "                            n_jobs=10,\n",
    "\n",
    "                            early_stop=None, #how many generations with no improvement to stop after\n",
    "                            \n",
    "                            #List of other objective functions. All objective functions take in an untrained GraphPipeline and return a score or a list of scores\n",
    "                            other_objective_functions= [],\n",
    "                            \n",
    "                            #List of weights for the other objective functions. Must be the same length as other_objective_functions. By default, bigger is better is set to True. \n",
    "                            other_objective_functions_weights=[],\n",
    "                            processes=True,\n",
    "                            verbose=5,\n",
    "                            max_eval_time_seconds=30,\n",
    "                            max_time_seconds=600,\n",
    "                            memory_limit = \"1GB\",\n",
    "                            )\n",
    "\n",
    "scorer = sklearn.metrics.get_scorer('roc_auc_ovo')\n",
    "X, y = sklearn.datasets.load_digits(return_X_y=True)\n",
    "X, y = sklearn.datasets.make_classification(100000,10)\n",
    "X_train, X_test, y_train, y_test = sklearn.model_selection.train_test_split(X, y, train_size=0.75, test_size=0.25)\n",
    "est.fit(X_train, y_train)\n",
    "print(scorer(est, X_test, y_test))"
   ]
  }
 ],
 "metadata": {
  "kernelspec": {
   "display_name": "tpot2env",
   "language": "python",
   "name": "python3"
  },
  "language_info": {
   "codemirror_mode": {
    "name": "ipython",
    "version": 3
   },
   "file_extension": ".py",
   "mimetype": "text/x-python",
   "name": "python",
   "nbconvert_exporter": "python",
   "pygments_lexer": "ipython3",
   "version": "3.10.11"
  },
  "orig_nbformat": 4
 },
 "nbformat": 4,
 "nbformat_minor": 2
}
