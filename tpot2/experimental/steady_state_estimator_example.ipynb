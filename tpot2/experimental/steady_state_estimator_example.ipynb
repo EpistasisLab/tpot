{
 "cells": [
  {
   "cell_type": "code",
   "execution_count": 1,
   "metadata": {},
   "outputs": [
    {
     "name": "stderr",
     "output_type": "stream",
     "text": [
      "Evaluations: 100%|██████████| 50/50 [00:38<00:00,  1.32it/s]\n"
     ]
    },
    {
     "name": "stdout",
     "output_type": "stream",
     "text": [
      "FOO!\n",
      "0.9998370669115155\n"
     ]
    }
   ],
   "source": [
    "from sklearn.linear_model import LogisticRegression\n",
    "import tpot2\n",
    "import numpy as np\n",
    "import copy\n",
    "from tqdm import tqdm, tnrange, tqdm_notebook\n",
    "import sklearn\n",
    "import sklearn.metrics\n",
    "import sklearn.datasets\n",
    "import tpot2 \n",
    "\n",
    "def params_LogisticRegression(trial, name=None):\n",
    "    params = {}\n",
    "    params['solver'] = trial.suggest_categorical(name=f'solver_{name}',\n",
    "                                                 choices=[f'newton-cg', 'lbfgs', 'liblinear', 'sag', 'saga'])\n",
    "    params['dual'] = False\n",
    "    params['penalty'] = 'l2'\n",
    "    params['C'] = trial.suggest_float(f'C_{name}', 1e-4, 1e4, log=True)\n",
    "    params['l1_ratio'] = None\n",
    "    if params['solver'] == 'liblinear':\n",
    "        params['penalty'] = trial.suggest_categorical(name=f'penalty_{name}', choices=['l1', 'l2'])\n",
    "        if params['penalty'] == 'l2':\n",
    "            params['dual'] = trial.suggest_categorical(name=f'dual_{name}', choices=[True, False])\n",
    "        else:\n",
    "            params['penalty'] = 'l1'\n",
    "\n",
    "    params['class_weight'] = trial.suggest_categorical(name=f'class_weight_{name}', choices=['balanced'])\n",
    "    param_grid = {'solver': params['solver'],\n",
    "                  'penalty': params['penalty'],\n",
    "                  'dual': params['dual'],\n",
    "                  'multi_class': 'auto',\n",
    "                  'l1_ratio': params['l1_ratio'],\n",
    "                  'C': params['C'],\n",
    "                  'n_jobs': 1,\n",
    "                  }\n",
    "    return param_grid\n",
    "\n",
    "\n",
    "\n",
    "import tpot2\n",
    "import sklearn\n",
    "import sklearn.datasets\n",
    "\n",
    "est = tpot2.TPOTEstimatorSteadyState(  population_size=10,\n",
    "                                        initial_population_size = 10,\n",
    "                                        max_queue_size = 10,\n",
    "                                        min_individuals_finished = 1,\n",
    "                                        max_evaluated_individuals = 50,\n",
    "                            scorers=['roc_auc_ovr',tpot2.model_complexity_scorer], #scorers can be a list of strings or a list of scorers. These get evaluated during cross validation. \n",
    "                            scorers_weights=[1,-1],\n",
    "                            classification=True,\n",
    "                            root_config_dict =  tpot2.make_classifier_config_dictionary(),\n",
    "                            #inner_config_dict= \"arithmetic_transformer\",\n",
    "                            #leaf_config_dict=\"feature_set_selector\",\n",
    "                            n_jobs=10,\n",
    "\n",
    "                            early_stop=None, #how many generations with no improvement to stop after\n",
    "                            \n",
    "                            #List of other objective functions. All objective functions take in an untrained GraphPipeline and return a score or a list of scores\n",
    "                            other_objective_functions= [],\n",
    "                            \n",
    "                            #List of weights for the other objective functions. Must be the same length as other_objective_functions. By default, bigger is better is set to True. \n",
    "                            other_objective_functions_weights=[],\n",
    "                            processes=True,\n",
    "                            verbose=1,\n",
    "                            max_eval_time_seconds=30,\n",
    "                            max_time_seconds=600,\n",
    "                            )\n",
    "\n",
    "scorer = sklearn.metrics.get_scorer('roc_auc_ovo')\n",
    "X, y = sklearn.datasets.load_digits(return_X_y=True)\n",
    "X_train, X_test, y_train, y_test = sklearn.model_selection.train_test_split(X, y, train_size=0.75, test_size=0.25)\n",
    "est.fit(X_train, y_train)\n",
    "print(scorer(est, X_test, y_test))"
   ]
  }
 ],
 "metadata": {
  "kernelspec": {
   "display_name": "tpot2env",
   "language": "python",
   "name": "python3"
  },
  "language_info": {
   "codemirror_mode": {
    "name": "ipython",
    "version": 3
   },
   "file_extension": ".py",
   "mimetype": "text/x-python",
   "name": "python",
   "nbconvert_exporter": "python",
   "pygments_lexer": "ipython3",
   "version": "3.10.11"
  },
  "orig_nbformat": 4
 },
 "nbformat": 4,
 "nbformat_minor": 2
}
