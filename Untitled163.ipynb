{
 "cells": [
  {
   "cell_type": "code",
   "execution_count": 1,
   "metadata": {
    "collapsed": true
   },
   "outputs": [],
   "source": [
    "%reload_ext autoreload\n",
    "%autoreload 2"
   ]
  },
  {
   "cell_type": "code",
   "execution_count": null,
   "metadata": {
    "collapsed": true
   },
   "outputs": [],
   "source": [
    "!pip install git+https://github.com/tonyfast/tpot@refactor"
   ]
  },
  {
   "cell_type": "code",
   "execution_count": 3,
   "metadata": {
    "collapsed": false
   },
   "outputs": [],
   "source": [
    "from tpot import experimental\n",
    "from bokeh.sampledata import iris\n",
    "from sklearn import *\n",
    "from toolz.curried import *\n",
    "from pandas import DataFrame\n",
    "df = iris.flowers.set_index('species')"
   ]
  },
  {
   "cell_type": "code",
   "execution_count": 4,
   "metadata": {
    "collapsed": true
   },
   "outputs": [],
   "source": [
    "models=[\n",
    "    decomposition.PCA(), decomposition.IncrementalPCA(), ensemble.AdaBoostClassifier(), \n",
    "    ensemble.GradientBoostingClassifier(),\n",
    "    tree.DecisionTreeClassifier(),\n",
    "    ensemble.RandomForestClassifier(), tree.ExtraTreeClassifier(),\n",
    "]"
   ]
  },
  {
   "cell_type": "code",
   "execution_count": 5,
   "metadata": {
    "collapsed": true
   },
   "outputs": [],
   "source": [
    "m = experimental(\n",
    "    models=models, max_=3, min_=1,\n",
    ")"
   ]
  },
  {
   "cell_type": "markdown",
   "metadata": {},
   "source": [
    "> The new primitive set exports as a `sklearn` model. Uses the [`Tree`](https://github.com/tonyfast/tpot/blob/refactor/tpot/experimental.py#L30) class.\n",
    "\n",
    "### Below are some randomly generated sklearn models"
   ]
  },
  {
   "cell_type": "code",
   "execution_count": 6,
   "metadata": {
    "collapsed": false
   },
   "outputs": [
    {
     "name": "stdout",
     "output_type": "stream",
     "text": [
      "Model #0 - Pipeline(steps=[('incrementalpca', IncrementalPCA(batch_size=None, copy=True, n_components=None, whiten=False)), ('randomforestclassifier', RandomForestClassifier(bootstrap=True, class_weight=None, criterion='gini',\n",
      "            max_depth=None, max_features='auto', max_leaf_nodes=None,\n",
      "            min_samples_leaf=1, min_samples_split=2,\n",
      "            min_weight_fraction_leaf=0.0, n_estimators=10, n_jobs=1,\n",
      "            oob_score=False, random_state=None, verbose=0,\n",
      "            warm_start=False))])\n",
      "Model #1 - Pipeline(steps=[('incrementalpca', IncrementalPCA(batch_size=None, copy=True, n_components=None, whiten=False)), ('randomforestclassifier', RandomForestClassifier(bootstrap=True, class_weight=None, criterion='gini',\n",
      "            max_depth=None, max_features='auto', max_leaf_nodes=None,\n",
      "            min_samples_leaf=1, min_samples_split=2,\n",
      "            min_weight_fraction_leaf=0.0, n_estimators=10, n_jobs=1,\n",
      "            oob_score=False, random_state=None, verbose=0,\n",
      "            warm_start=False))])\n",
      "Model #2 - Pipeline(steps=[('pipeline-1', Pipeline(steps=[('pipeline-1', Pipeline(steps=[('pca', PCA(copy=True, n_components=None, whiten=False)), ('incrementalpca', IncrementalPCA(batch_size=None, copy=True, n_components=None, whiten=False))])), ('pipeline-2', Pipeline(steps=[('incrementalpca-1', IncrementalPCA(batch_...=1,\n",
      "            oob_score=False, random_state=None, verbose=0,\n",
      "            warm_start=False))]))]))])\n",
      "Model #3 - Pipeline(steps=[('featureunion', FeatureUnion(n_jobs=1,\n",
      "       transformer_list=[('pca-1', PCA(copy=True, n_components=None, whiten=False)), ('pca-2', PCA(copy=True, n_components=None, whiten=False))],\n",
      "       transformer_weights=None)), ('pipeline', Pipeline(steps=[('pca', PCA(copy=True, n_components=None, w...   presort='auto', random_state=None, subsample=1.0, verbose=0,\n",
      "              warm_start=False))]))])\n",
      "Model #4 - Pipeline(steps=[('incrementalpca', IncrementalPCA(batch_size=None, copy=True, n_components=None, whiten=False)), ('randomforestclassifier', RandomForestClassifier(bootstrap=True, class_weight=None, criterion='gini',\n",
      "            max_depth=None, max_features='auto', max_leaf_nodes=None,\n",
      "            min_samples_leaf=1, min_samples_split=2,\n",
      "            min_weight_fraction_leaf=0.0, n_estimators=10, n_jobs=1,\n",
      "            oob_score=False, random_state=None, verbose=0,\n",
      "            warm_start=False))])\n"
     ]
    },
    {
     "data": {
      "text/plain": [
       "[None, None, None, None, None]"
      ]
     },
     "execution_count": 6,
     "metadata": {},
     "output_type": "execute_result"
    }
   ],
   "source": [
    "tools = m.toolbox_()\n",
    "[print('Model #{} - {}'.format(i,tools.individual().model)) for i in range(5)]"
   ]
  },
  {
   "cell_type": "code",
   "execution_count": 7,
   "metadata": {
    "collapsed": false
   },
   "outputs": [
    {
     "data": {
      "text/plain": [
       "experimental(crossover_rate=0.1,\n",
       "       expr=<function genHalfAndHalf at 0x117ba5c80>, generation=10,\n",
       "       mate=<function cxOnePoint at 0x117ba5e18>, max_=3, min_=1,\n",
       "       models=[PCA(copy=True, n_components=None, whiten=False), IncrementalPCA(batch_size=None, copy=True, n_components=None, whiten=False), AdaBoostClassifier(algorithm='SAMME.R', base_estimator=None,\n",
       "          learning_rate=1.0, n_estimators=50, random_state=None), GradientBoostingClassifier(init=None, l... min_samples_split=2, min_weight_fraction_leaf=0.0,\n",
       "          random_state=None, splitter='random')],\n",
       "       mutate=<function genFull at 0x117ba5b70>, mutation_rate=0.9,\n",
       "       population=50, select=<function selNSGA2 at 0x1179eae18>)"
      ]
     },
     "execution_count": 7,
     "metadata": {},
     "output_type": "execute_result"
    }
   ],
   "source": [
    "m.set_params()"
   ]
  },
  {
   "cell_type": "code",
   "execution_count": 5,
   "metadata": {
    "collapsed": false
   },
   "outputs": [
    {
     "name": "stdout",
     "output_type": "stream",
     "text": [
      "gen\tnevals\tMinimum score\tAverage score\tMaximum score\n",
      "0  \t50    \t0            \t0.663467     \t1            \n",
      "1  \t50    \t0            \t0.564933     \t1            \n",
      "2  \t46    \t0            \t0.516533     \t1            \n",
      "3  \t48    \t0            \t0.382667     \t1            \n",
      "4  \t42    \t0            \t0.376133     \t1            \n",
      "5  \t46    \t0            \t0.275867     \t1            \n",
      "6  \t47    \t0            \t0.276933     \t1            \n",
      "7  \t47    \t0            \t0.299867     \t1            \n",
      "8  \t46    \t0            \t0.251467     \t1            \n",
      "9  \t46    \t0            \t0.283733     \t1            \n",
      "10 \t46    \t0            \t0.269867     \t1            \n"
     ]
    }
   ],
   "source": [
    "m.fit(df.values, df.index.values, generation=10)"
   ]
  },
  {
   "cell_type": "code",
   "execution_count": 3,
   "metadata": {
    "collapsed": false
   },
   "outputs": [],
   "source": [
    "class viewer(experimental):\n",
    "    from ipywidgets import HTML\n",
    "    html = HTML(\"\"\"\"\"\")\n",
    "    def evaluate(self, individual, df):\n",
    "        self.html.value = format(\"\"\"<pre><code style=\"height:250px;\">{}</code></pre>\"\"\").format(individual.model.__repr__())\n",
    "        return super().evaluate(individual, df)"
   ]
  },
  {
   "cell_type": "code",
   "execution_count": 26,
   "metadata": {
    "collapsed": false
   },
   "outputs": [
    {
     "name": "stdout",
     "output_type": "stream",
     "text": [
      "1.0 0.986666666667 RandomForestClassifier(bootstrap=True, class_weight=None, criterion='gini',\n",
      "            max_depth=None, max_features='auto', max_leaf_nodes=None,\n",
      "            min_samples_leaf=1, min_samples_split=2,\n",
      "            min_weight_fraction_leaf=0.0, n_estimators=10, n_jobs=1,\n",
      "            oob_score=False, random_state=None, verbose=0,\n",
      "            warm_start=False)\n",
      "1.0 0.986666666667 ExtraTreeClassifier(class_weight=None, criterion='gini', max_depth=None,\n",
      "          max_features='auto', max_leaf_nodes=None, min_samples_leaf=1,\n",
      "          min_samples_split=2, min_weight_fraction_leaf=0.0,\n",
      "          random_state=None, splitter='random')\n"
     ]
    },
    {
     "data": {
      "text/plain": [
       "[None, None]"
      ]
     },
     "execution_count": 26,
     "metadata": {},
     "output_type": "execute_result"
    }
   ],
   "source": [
    "[print(*v.fitness.values, v.model) for v in m.halloffame_]"
   ]
  },
  {
   "cell_type": "code",
   "execution_count": 27,
   "metadata": {
    "collapsed": true
   },
   "outputs": [],
   "source": [
    "best = first(m.halloffame_).model.fit(df.values, df.index.get_level_values(1))"
   ]
  },
  {
   "cell_type": "code",
   "execution_count": 33,
   "metadata": {
    "collapsed": false
   },
   "outputs": [
    {
     "name": "stderr",
     "output_type": "stream",
     "text": [
      "/Users/tfast/anaconda/lib/python3.5/site-packages/sklearn/utils/__init__.py:93: DeprecationWarning: Function transform is deprecated; Support to use estimators as feature selectors will be removed in version 0.19. Use SelectFromModel instead.\n",
      "  warnings.warn(msg, category=DeprecationWarning)\n"
     ]
    },
    {
     "data": {
      "text/plain": [
       "<matplotlib.axes._subplots.AxesSubplot at 0x121bf42b0>"
      ]
     },
     "execution_count": 33,
     "metadata": {},
     "output_type": "execute_result"
    },
    {
     "data": {
      "image/png": "[encoded data removed]",
      "text/plain": [
       "<matplotlib.figure.Figure at 0x121bcea90>"
      ]
     },
     "metadata": {},
     "output_type": "display_data"
    }
   ],
   "source": [
    "%matplotlib inline\n",
    "DataFrame(best.transform(df.values)).plot(kind='scatter', x=0, y=1)"
   ]
  },
  {
   "cell_type": "code",
   "execution_count": null,
   "metadata": {
    "collapsed": true
   },
   "outputs": [],
   "source": []
  }
 ],
 "metadata": {
  "anaconda-cloud": {},
  "kernelspec": {
   "display_name": "Python [Root]",
   "language": "python",
   "name": "Python [Root]"
  },
  "language_info": {
   "codemirror_mode": {
    "name": "ipython",
    "version": 3
   },
   "file_extension": ".py",
   "mimetype": "text/x-python",
   "name": "python",
   "nbconvert_exporter": "python",
   "pygments_lexer": "ipython3",
   "version": "3.5.1"
  },
  "widgets": {
   "state": {},
   "version": "1.1.0"
  }
 },
 "nbformat": 4,
 "nbformat_minor": 0
}
